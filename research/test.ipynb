{
 "cells": [
  {
   "cell_type": "code",
   "execution_count": 73,
   "metadata": {},
   "outputs": [],
   "source": [
    "#Testing notebook \n",
    "from langchain_astradb import AstraDBVectorStore\n",
    "from langchain_openai import OpenAIEmbeddings\n",
    "from dotenv import load_dotenv\n",
    "import os\n",
    "import pandas as pd\n"
   ]
  },
  {
   "cell_type": "code",
   "execution_count": 74,
   "metadata": {},
   "outputs": [
    {
     "data": {
      "text/plain": [
       "True"
      ]
     },
     "execution_count": 74,
     "metadata": {},
     "output_type": "execute_result"
    }
   ],
   "source": [
    "load_dotenv()"
   ]
  },
  {
   "cell_type": "code",
   "execution_count": 75,
   "metadata": {},
   "outputs": [],
   "source": [
    "OPENAI_API_KEY=os.getenv(\"OPENAI_API_KEY\")"
   ]
  },
  {
   "cell_type": "code",
   "execution_count": 76,
   "metadata": {},
   "outputs": [],
   "source": [
    "os.environ[\"OPENAI_API_KEY\"]=OPENAI_API_KEY"
   ]
  },
  {
   "cell_type": "code",
   "execution_count": 77,
   "metadata": {},
   "outputs": [],
   "source": [
    "embedding = OpenAIEmbeddings()"
   ]
  },
  {
   "cell_type": "code",
   "execution_count": 78,
   "metadata": {},
   "outputs": [],
   "source": [
    "ASTRA_DB_API_ENDPOINT=\"https://522f1b4f-197f-4042-bdfb-a7da15002845-us-east-2.apps.astra.datastax.com\""
   ]
  },
  {
   "cell_type": "code",
   "execution_count": 79,
   "metadata": {},
   "outputs": [],
   "source": [
    "ASTRA_DB_APPLICATION_TOKEN=\"AstraCS:aounufXwcnRyStMEDFRPDMTC:8718cfffc9e5235e44f286944d81b6077b0556cc76913c16abc8f5222824e465\""
   ]
  },
  {
   "cell_type": "code",
   "execution_count": 80,
   "metadata": {},
   "outputs": [],
   "source": [
    "ASTRA_DB_KEYSPACE= \"default_keyspace\""
   ]
  },
  {
   "cell_type": "code",
   "execution_count": 81,
   "metadata": {},
   "outputs": [],
   "source": [
    "collection_name= \"Evolve_Products\""
   ]
  },
  {
   "cell_type": "code",
   "execution_count": 82,
   "metadata": {},
   "outputs": [],
   "source": [
    "vstore = AstraDBVectorStore(\n",
    "    embedding= embedding,\n",
    "    collection_name= collection_name,\n",
    "    api_endpoint=ASTRA_DB_API_ENDPOINT,\n",
    "    token=ASTRA_DB_APPLICATION_TOKEN,\n",
    "    namespace=ASTRA_DB_KEYSPACE\n",
    "    )"
   ]
  },
  {
   "cell_type": "code",
   "execution_count": 83,
   "metadata": {},
   "outputs": [],
   "source": [
    "from langchain_community.document_loaders import PyPDFLoader"
   ]
  },
  {
   "cell_type": "code",
   "execution_count": 84,
   "metadata": {},
   "outputs": [],
   "source": [
    "loader = PyPDFLoader(\"C:\\\\Users\\\\atul_\\\\OneDrive\\\\Desktop\\\\Evolve\\\\data\\\\Evolve Product Catalogue Updated.pdf\")"
   ]
  },
  {
   "cell_type": "code",
   "execution_count": 85,
   "metadata": {},
   "outputs": [],
   "source": [
    "pages = loader.load()"
   ]
  },
  {
   "cell_type": "code",
   "execution_count": 86,
   "metadata": {},
   "outputs": [
    {
     "data": {
      "text/plain": [
       "5"
      ]
     },
     "execution_count": 86,
     "metadata": {},
     "output_type": "execute_result"
    }
   ],
   "source": [
    "len(pages)"
   ]
  },
  {
   "cell_type": "code",
   "execution_count": 87,
   "metadata": {},
   "outputs": [],
   "source": [
    "pages=pages[:]"
   ]
  },
  {
   "cell_type": "code",
   "execution_count": 88,
   "metadata": {},
   "outputs": [
    {
     "data": {
      "text/plain": [
       "'• Miscellaneous Information : 0% Apr on purchases for first 12 months and balance \\ntransfer and 2 % intro balance transfer fee until Aug31,2024.  \\n• Link : \\nhttps://creditcards.chase.com/a1/24Q3/sapphirepreferred?CELL=6H 8X&AFFID=SWlnSnn6x54 -\\nRk0AC37kPKECBN7XsRUXUw&pvid=4f628e4db71c4062aa856243cf66bdfd&jp_cmp=cc/1639698\\n/aff/15 -31809/na  \\n• Keywords:  travel, miles, airline , hotel , travel insurance , lounge access , rental car , \\nbusiness travelers , frequent flyers ,  \\n3. Evolve Fuel Plus Card  \\n• Credit Type : Credit Card  \\n• Product ID: CR00 3  \\n• Annual Fee : Not applicable . \\n• APR : 19% to 29.99%  \\n• Credit Score Requirement : Medium  \\n• Benefits : \\no Dining Benefit: 1% cashback ($0.01 per dollar spent)  \\no Gas Benefit : 3% cashback ($0.0 3 per dollar spent)  \\no Travel Benefit: 1% cashback ($0.01 per dollar spent)  \\no Grocery Benefit : 1% cashback ($0.01 per dollar spent)  \\no All Other Purchases Benefit : 1% cashback ($0.01 per dollar spent)  \\no Miscellaneous Purchases Benefit : 1% cashback ($0.01 per dollar sp ent) \\n• Sign -Up Bonus Offer:  No benefit  \\n• Total Benefit : $0.0 15 per dollar spent.  \\n• Miscellaneous Information : \\n• Link : https://www.americanexpress.com/us/credit -cards/card/blue -cash -\\neveryday/?eep=26129&irgwc=1&veid=Qb00w8wYaxyKWukV3d34TXcdUkCzjF2ntXw7000&affid=\\n1193684&pid=IR&affname=NerdWallet%2C%20Inc.&sid=14011830016&pmc=795&BUID=CCG&\\nCRTV=controlaffcps&MPR=03  \\n• Keywords : fuel, fleet, trucking , Gas Benefit , diesel , Gas  \\n4. Evolve Platinum Card  \\n• Credit Type : Credit Card  \\n• Product ID: CR00 4  \\n• Annual Fee : Not applicable . \\n• APR : 18.5% to 29.99%  \\n• Credit Score Requirement : High  \\n• Benefits : \\no Dining Benefit: 1.5% cashback ($0.015 per dollar spent)  \\no Gas Benefit : 1.5% cashback ($0.015 per dollar spent)  \\no Travel Benefit: 1.5% cashback ($0.015 per dollar spent)  \\no Grocery Benefit : 1.5% cashback ($0.015 per dollar spent)  \\no All Other Purchases Benefit : 1.5% cashback ($0.015 per dollar spent)  '"
      ]
     },
     "execution_count": 88,
     "metadata": {},
     "output_type": "execute_result"
    }
   ],
   "source": [
    "pages[1].page_content"
   ]
  },
  {
   "cell_type": "code",
   "execution_count": 89,
   "metadata": {},
   "outputs": [
    {
     "name": "stdout",
     "output_type": "stream",
     "text": [
      "0 page_content='Financial Institution : Evolve Bank  \n",
      "Document  Name : Product Catalog  \n",
      "1. Evolve Cashback Card  \n",
      "• Credit Type : Credit Card  \n",
      "• Product ID: CR001  \n",
      "• Annual Fee : No Annual Fee  \n",
      "• APR : 18.24% to 26.99%  \n",
      "• Credit Score Requirement : Low to Medium  \n",
      "• Benefits : \n",
      "o Dining Benefit: 2% cashback ($0.02 per dollar spent)  \n",
      "o Gas Benefit : 1% cashback ($0.01 per dollar spent)  \n",
      "o Travel Benefit: 1% cashback ($0.01 per dollar spent)  \n",
      "o Grocery Benefit : 1% cashback ($0.01 per dollar spent)  \n",
      "o All Other Purchases Benefit : 1% cashback ($0.01  per dollar spent)  \n",
      "o Miscellaneous Purchases Benefit : 5% cashback ($0.05 per dollar spent)  on \n",
      "revolving categories every quarter.  \n",
      "• Sign -Up Bonus Offer:  No benefit  \n",
      "• Total Benefit : $0.01 2 per dollar spent.  \n",
      "• Miscellaneous Information : 0% intro APR for 15 months on purchases and balance \n",
      "transfers and 3% intro Balance Transfer Fee until October 10,2024. 5% balance transfer \n",
      "fee for future balance transfers will apply.  \n",
      "• Link:  https://www.nerdwallet.com/reviews/credit -cards/discover -it-cash -back \n",
      "• Keyword s: Cash back credit card , cashback bonus,  earn cashback , Restaurants, Cuisine,  \n",
      "Café, Food and Beverage, Dinner , Lunch  \n",
      "2. Evolve Travel Plus Card  \n",
      "• Credit Type : Credit Card  \n",
      "• Product ID: CR00 2  \n",
      "• Annual Fee : $99 \n",
      "• APR : 19% to 29.99%  \n",
      "• Credit Score Requirement : Medium to High  \n",
      "• Benefits : \n",
      "o Dining Benefit: 1% cashback ($0.01 per dollar spent)  \n",
      "o Gas Benefit : 1% cashback ($0.01 per dollar spent)  \n",
      "o Travel Benefit: 3% cashback ($0.0 3 per dollar spent)  \n",
      "o Grocery Benefit : 1% cashback ($0.01 per dollar spent)  \n",
      "o All Other Purchases Benefit : 1% cashback ($0.01 per dollar spent)  \n",
      "o Miscellaneous Purchases Benefit : 1% cashback ($0.01 per dollar spent)  \n",
      "• Sign -Up Bonus Offer:  Earn 50,000 points (equivalent to $500) if you spend $4,000 in \n",
      "the first 3 months.  \n",
      "• Total Benefit : $0.0 25 per dollar spent.  ' metadata={'source': 'C:\\\\Users\\\\atul_\\\\OneDrive\\\\Desktop\\\\Evolve\\\\data\\\\Evolve Product Catalogue Updated.pdf', 'page': 0}\n",
      "1 page_content='• Miscellaneous Information : 0% Apr on purchases for first 12 months and balance \n",
      "transfer and 2 % intro balance transfer fee until Aug31,2024.  \n",
      "• Link : \n",
      "https://creditcards.chase.com/a1/24Q3/sapphirepreferred?CELL=6H 8X&AFFID=SWlnSnn6x54 -\n",
      "Rk0AC37kPKECBN7XsRUXUw&pvid=4f628e4db71c4062aa856243cf66bdfd&jp_cmp=cc/1639698\n",
      "/aff/15 -31809/na  \n",
      "• Keywords:  travel, miles, airline , hotel , travel insurance , lounge access , rental car , \n",
      "business travelers , frequent flyers ,  \n",
      "3. Evolve Fuel Plus Card  \n",
      "• Credit Type : Credit Card  \n",
      "• Product ID: CR00 3  \n",
      "• Annual Fee : Not applicable . \n",
      "• APR : 19% to 29.99%  \n",
      "• Credit Score Requirement : Medium  \n",
      "• Benefits : \n",
      "o Dining Benefit: 1% cashback ($0.01 per dollar spent)  \n",
      "o Gas Benefit : 3% cashback ($0.0 3 per dollar spent)  \n",
      "o Travel Benefit: 1% cashback ($0.01 per dollar spent)  \n",
      "o Grocery Benefit : 1% cashback ($0.01 per dollar spent)  \n",
      "o All Other Purchases Benefit : 1% cashback ($0.01 per dollar spent)  \n",
      "o Miscellaneous Purchases Benefit : 1% cashback ($0.01 per dollar sp ent) \n",
      "• Sign -Up Bonus Offer:  No benefit  \n",
      "• Total Benefit : $0.0 15 per dollar spent.  \n",
      "• Miscellaneous Information : \n",
      "• Link : https://www.americanexpress.com/us/credit -cards/card/blue -cash -\n",
      "everyday/?eep=26129&irgwc=1&veid=Qb00w8wYaxyKWukV3d34TXcdUkCzjF2ntXw7000&affid=\n",
      "1193684&pid=IR&affname=NerdWallet%2C%20Inc.&sid=14011830016&pmc=795&BUID=CCG&\n",
      "CRTV=controlaffcps&MPR=03  \n",
      "• Keywords : fuel, fleet, trucking , Gas Benefit , diesel , Gas  \n",
      "4. Evolve Platinum Card  \n",
      "• Credit Type : Credit Card  \n",
      "• Product ID: CR00 4  \n",
      "• Annual Fee : Not applicable . \n",
      "• APR : 18.5% to 29.99%  \n",
      "• Credit Score Requirement : High  \n",
      "• Benefits : \n",
      "o Dining Benefit: 1.5% cashback ($0.015 per dollar spent)  \n",
      "o Gas Benefit : 1.5% cashback ($0.015 per dollar spent)  \n",
      "o Travel Benefit: 1.5% cashback ($0.015 per dollar spent)  \n",
      "o Grocery Benefit : 1.5% cashback ($0.015 per dollar spent)  \n",
      "o All Other Purchases Benefit : 1.5% cashback ($0.015 per dollar spent)  ' metadata={'source': 'C:\\\\Users\\\\atul_\\\\OneDrive\\\\Desktop\\\\Evolve\\\\data\\\\Evolve Product Catalogue Updated.pdf', 'page': 1}\n",
      "2 page_content='o Miscellaneous Purchases Benefit : 1.5% cashback ($0.015 per dollar spent)  \n",
      "• Sign -Up Bonus Offer:  Card opening bonus with 15,000 points if card member spends \n",
      "$1000 in first 3 months.  \n",
      "• Total Benefit : $0.02 per dollar spent.  \n",
      "• Miscellaneous Information : 0% Apr on purchases for first 12 months and balance \n",
      "transfer and 2 % intro balance transfer fee until Aug31,2024  \n",
      "• Link : https://creditcards.chase.com/rewards -credit -\n",
      "cards/sapphire/preferred?CELL=6PH3  \n",
      "• Keywords:  premier  rewards, maximum rewards , unlimited rewards , points credit card, \n",
      "concierge service , unlimited rewards , top rewards  \n",
      "5. Evolve Blue Cash Card  \n",
      "• Credit Type : Credit Card  \n",
      "• Product ID: CR00 5  \n",
      "• Annual Fee : $99 \n",
      "• APR : 18.5% to 29.99%  \n",
      "• Credit Score Requirement : High  \n",
      "• Benefits : \n",
      "o Dining Benefit: 1% cashback ($0.01 per dollar spent)  \n",
      "o Gas Benefit : 1% cashback ($0.01 per dollar spent)  \n",
      "o Travel Benefit: 1% cashback ($0.01 per dollar spent)  \n",
      "o Grocery Benefit : 6% cashback  ($0.06 per dollar spent)  \n",
      "o All Other Purchases Benefit : 1% cashback ($0.01 per dollar spent)  \n",
      "o Miscellaneous Purchases Benefit : 1% cashback ($0.01 per dollar spent)  \n",
      "• Sign -Up Bonus Offer:  Card opening bonus with 30,000 points if card member spends \n",
      "$3000 in first 3 months.  \n",
      "• Total Benefit : $0.03 per dollar spent.  \n",
      "• Miscellaneous Information : 0% Apr on purchases for first 12 months and balance \n",
      "transfer and 2 % intro balance transfer fee until Aug31,  2024.  \n",
      "• Link:  https://www.nerdwallet.com/reviews/credit -cards/american -express -blue -cash -\n",
      "preferred  \n",
      "• Keywords:  Grocery Benefit , supermarket , food shopping , health food , deli, dairy , \n",
      "bakery , fresh produce , online Grocery Benefit , farmers market , convenience store  \n",
      "6. Evolve Renovation Card  \n",
      "• Credit Type : Credit Card  \n",
      "• Product ID: CR00 6  \n",
      "• Annual Fee : Not applicable . \n",
      "• APR : 18% to 29.99%  \n",
      "• Credit Score Requirement : Medium  \n",
      "• Benefits : \n",
      "o Dining Benefit: 1% cashback ($0.01 per dollar spent)  \n",
      "o Gas Benefit : 1% cashback ($0.01 per dollar spent)  ' metadata={'source': 'C:\\\\Users\\\\atul_\\\\OneDrive\\\\Desktop\\\\Evolve\\\\data\\\\Evolve Product Catalogue Updated.pdf', 'page': 2}\n",
      "3 page_content='o Travel Benefit: 1% cashback ($0.01 per dollar spent)  \n",
      "o Grocery Benefit : 1% cashback ($0.01 per dollar spent)  \n",
      "o All Other Purchases Benefit : 1% cashback ($0.01 per dollar spent)  \n",
      "o Home Improvement : 3% cashback ($0.0 3 per dollar spent)  \n",
      "• Sign -Up Bonus Offer:  Enjoy an interest -free promotion for up to 36 months on \n",
      "purchases over $1,500.  \n",
      "• Total Benefit : $0.015 per dollar spent.  \n",
      "• Miscellaneous Information : 0% Apr on purchases for first 12 months and balance \n",
      "transfer and 2 % intro balance transfer fee until Nov30,2024. Then 18.00% to 29.99% \n",
      "standard variable purchase APR.  \n",
      "• Link:  https://www.homedepot.com/myaccount/thdcreditcard  \n",
      "• Keywords:  Electric Appliances , home building products , home improvement stores or \n",
      "merchants.  \n",
      "7. Evolve Personal Loan  \n",
      "• Credit Type : Personal Loan  \n",
      "• Product ID: CR00 7  \n",
      "• Annual Fee : Not applicable . \n",
      "• APR : 8% to 31.99%  depending on credit score  \n",
      "• Credit Score Requirement : Low to High  \n",
      "• Loan Amount : $1,000.00  to $30,000.00  \n",
      "• Loan Duration: 12 Months to 48 Months  (Select from 12, 18, 24, 30, 36, 42 or 48 \n",
      "months ). \n",
      "• Sign -Up Bonus Offer:  Not applicable . \n",
      "• Benefits : Not applicable . \n",
      "• Total Benefit : Not applicable . \n",
      "• Miscellaneous Information : Your APR will be between 8.00% and 31.99% based on \n",
      "creditworthiness at time of application for loan terms of 12 -48 months. No origination \n",
      "fees, no closing costs, no fees at all if you pay on time.  For instance, if you are  approved \n",
      "for a $10,000 loan with a  17.00% APR for a 48 -month term, your monthly payment will \n",
      "be around $288.55. The estimated total amount paid for the loan in this case would be \n",
      "approximately $13,850.42.  \n",
      "• Link : https://www.nerdwallet.com/reviews/loans/personal -loans/discover -personal -loans  \n",
      "• Keywords:  cash loan , installment loan , online loan , debt consolidation loan , home  \n",
      "improvement loan , medical loan , wedding loan , emergency loan , large one-time expense, \n",
      "monthly installment, fixed period, line of credit, not student loan, not for education  \n",
      "purpose  \n",
      "8. Evolve Student Loan  \n",
      "• Credit Type : Student Loan  \n",
      "• Product ID: CR00 8  \n",
      "• Annual Fee : Not applicable . \n",
      "• APR : 4.15%  ' metadata={'source': 'C:\\\\Users\\\\atul_\\\\OneDrive\\\\Desktop\\\\Evolve\\\\data\\\\Evolve Product Catalogue Updated.pdf', 'page': 3}\n",
      "4 page_content='• Credit Score Requirement : Medium to High  \n",
      "• Loan Amount : $10,000.00 to $100,000.00  \n",
      "• Loan Duration: 3 Years to 12 Years  \n",
      "• Sign -Up Bonus Offer:  Not applicable . \n",
      "• Benefits : Not applicable . \n",
      "• Total Benefit : Not applicable . \n",
      "• Miscellaneous Information : Your APR will be 4.5%, fixed based on your \n",
      "creditworthiness at the time of application, for loan terms of up to 15 years. For instance, \n",
      "if you are  approved for a $30,000 loan with a 4.5% APR for a 10 -year term, your \n",
      "monthly payment will be $310.92. The estimated total amount paid for the loan in this \n",
      "case would be $37,309.83. Please contact us to inquire about an Auto Debit discount.  \n",
      "• Link : https://www.nerdwallet.com/reviews/loans/student -loans/college -ave-student -loans  \n",
      "• Keywords:  cash loan, installment loan, online loan, monthly installment, fixed p eriod, \n",
      "student loan, education purpose , graduate  degree , higher education, Tuition and fees, \n",
      "Room and boarding, expensive school, post-graduate degree.  \n",
      " ' metadata={'source': 'C:\\\\Users\\\\atul_\\\\OneDrive\\\\Desktop\\\\Evolve\\\\data\\\\Evolve Product Catalogue Updated.pdf', 'page': 4}\n"
     ]
    }
   ],
   "source": [
    "for i, doc in enumerate(pages):\n",
    "    print(i , doc)"
   ]
  },
  {
   "cell_type": "code",
   "execution_count": 90,
   "metadata": {},
   "outputs": [],
   "source": [
    "raw_text = ''\n",
    "for i, doc in enumerate(pages):\n",
    "    text = doc.page_content\n",
    "    if text:\n",
    "        raw_text += text"
   ]
  },
  {
   "cell_type": "code",
   "execution_count": 91,
   "metadata": {},
   "outputs": [
    {
     "name": "stdout",
     "output_type": "stream",
     "text": [
      "Financial Institution : Evolve Bank  \n",
      "Document  Name : Product Catalog  \n",
      "1. Evolve Cashback Card  \n",
      "• Credit Type : Credit Card  \n",
      "• Product ID: CR001  \n",
      "• Annual Fee : No Annual Fee  \n",
      "• APR : 18.24% to 26.99%  \n",
      "• Credit Score Requirement : Low to Medium  \n",
      "• Benefits : \n",
      "o Dining Benefit: 2% cashback ($0.02 per dollar spent)  \n",
      "o Gas Benefit : 1% cashback ($0.01 per dollar spent)  \n",
      "o Travel Benefit: 1% cashback ($0.01 per dollar spent)  \n",
      "o Grocery Benefit : 1% cashback ($0.01 per dollar spent)  \n",
      "o All Other Purchases Benefit : 1% cashback ($0.01  per dollar spent)  \n",
      "o Miscellaneous Purchases Benefit : 5% cashback ($0.05 per dollar spent)  on \n",
      "revolving categories every quarter.  \n",
      "• Sign -Up Bonus Offer:  No benefit  \n",
      "• Total Benefit : $0.01 2 per dollar spent.  \n",
      "• Miscellaneous Information : 0% intro APR for 15 months on purchases and balance \n",
      "transfers and 3% intro Balance Transfer Fee until October 10,2024. 5% balance transfer \n",
      "fee for future balance transfers will apply.  \n",
      "• Link:  https://www.nerdwallet.com/reviews/credit -cards/discover -it-cash -back \n",
      "• Keyword s: Cash back credit card , cashback bonus,  earn cashback , Restaurants, Cuisine,  \n",
      "Café, Food and Beverage, Dinner , Lunch  \n",
      "2. Evolve Travel Plus Card  \n",
      "• Credit Type : Credit Card  \n",
      "• Product ID: CR00 2  \n",
      "• Annual Fee : $99 \n",
      "• APR : 19% to 29.99%  \n",
      "• Credit Score Requirement : Medium to High  \n",
      "• Benefits : \n",
      "o Dining Benefit: 1% cashback ($0.01 per dollar spent)  \n",
      "o Gas Benefit : 1% cashback ($0.01 per dollar spent)  \n",
      "o Travel Benefit: 3% cashback ($0.0 3 per dollar spent)  \n",
      "o Grocery Benefit : 1% cashback ($0.01 per dollar spent)  \n",
      "o All Other Purchases Benefit : 1% cashback ($0.01 per dollar spent)  \n",
      "o Miscellaneous Purchases Benefit : 1% cashback ($0.01 per dollar spent)  \n",
      "• Sign -Up Bonus Offer:  Earn 50,000 points (equivalent to $500) if you spend $4,000 in \n",
      "the first 3 months.  \n",
      "• Total Benefit : $0.0 25 per dollar spent.  • Miscellaneous Information : 0% Apr on purchases for first 12 months and balance \n",
      "transfer and 2 % intro balance transfer fee until Aug31,2024.  \n",
      "• Link : \n",
      "https://creditcards.chase.com/a1/24Q3/sapphirepreferred?CELL=6H 8X&AFFID=SWlnSnn6x54 -\n",
      "Rk0AC37kPKECBN7XsRUXUw&pvid=4f628e4db71c4062aa856243cf66bdfd&jp_cmp=cc/1639698\n",
      "/aff/15 -31809/na  \n",
      "• Keywords:  travel, miles, airline , hotel , travel insurance , lounge access , rental car , \n",
      "business travelers , frequent flyers ,  \n",
      "3. Evolve Fuel Plus Card  \n",
      "• Credit Type : Credit Card  \n",
      "• Product ID: CR00 3  \n",
      "• Annual Fee : Not applicable . \n",
      "• APR : 19% to 29.99%  \n",
      "• Credit Score Requirement : Medium  \n",
      "• Benefits : \n",
      "o Dining Benefit: 1% cashback ($0.01 per dollar spent)  \n",
      "o Gas Benefit : 3% cashback ($0.0 3 per dollar spent)  \n",
      "o Travel Benefit: 1% cashback ($0.01 per dollar spent)  \n",
      "o Grocery Benefit : 1% cashback ($0.01 per dollar spent)  \n",
      "o All Other Purchases Benefit : 1% cashback ($0.01 per dollar spent)  \n",
      "o Miscellaneous Purchases Benefit : 1% cashback ($0.01 per dollar sp ent) \n",
      "• Sign -Up Bonus Offer:  No benefit  \n",
      "• Total Benefit : $0.0 15 per dollar spent.  \n",
      "• Miscellaneous Information : \n",
      "• Link : https://www.americanexpress.com/us/credit -cards/card/blue -cash -\n",
      "everyday/?eep=26129&irgwc=1&veid=Qb00w8wYaxyKWukV3d34TXcdUkCzjF2ntXw7000&affid=\n",
      "1193684&pid=IR&affname=NerdWallet%2C%20Inc.&sid=14011830016&pmc=795&BUID=CCG&\n",
      "CRTV=controlaffcps&MPR=03  \n",
      "• Keywords : fuel, fleet, trucking , Gas Benefit , diesel , Gas  \n",
      "4. Evolve Platinum Card  \n",
      "• Credit Type : Credit Card  \n",
      "• Product ID: CR00 4  \n",
      "• Annual Fee : Not applicable . \n",
      "• APR : 18.5% to 29.99%  \n",
      "• Credit Score Requirement : High  \n",
      "• Benefits : \n",
      "o Dining Benefit: 1.5% cashback ($0.015 per dollar spent)  \n",
      "o Gas Benefit : 1.5% cashback ($0.015 per dollar spent)  \n",
      "o Travel Benefit: 1.5% cashback ($0.015 per dollar spent)  \n",
      "o Grocery Benefit : 1.5% cashback ($0.015 per dollar spent)  \n",
      "o All Other Purchases Benefit : 1.5% cashback ($0.015 per dollar spent)  o Miscellaneous Purchases Benefit : 1.5% cashback ($0.015 per dollar spent)  \n",
      "• Sign -Up Bonus Offer:  Card opening bonus with 15,000 points if card member spends \n",
      "$1000 in first 3 months.  \n",
      "• Total Benefit : $0.02 per dollar spent.  \n",
      "• Miscellaneous Information : 0% Apr on purchases for first 12 months and balance \n",
      "transfer and 2 % intro balance transfer fee until Aug31,2024  \n",
      "• Link : https://creditcards.chase.com/rewards -credit -\n",
      "cards/sapphire/preferred?CELL=6PH3  \n",
      "• Keywords:  premier  rewards, maximum rewards , unlimited rewards , points credit card, \n",
      "concierge service , unlimited rewards , top rewards  \n",
      "5. Evolve Blue Cash Card  \n",
      "• Credit Type : Credit Card  \n",
      "• Product ID: CR00 5  \n",
      "• Annual Fee : $99 \n",
      "• APR : 18.5% to 29.99%  \n",
      "• Credit Score Requirement : High  \n",
      "• Benefits : \n",
      "o Dining Benefit: 1% cashback ($0.01 per dollar spent)  \n",
      "o Gas Benefit : 1% cashback ($0.01 per dollar spent)  \n",
      "o Travel Benefit: 1% cashback ($0.01 per dollar spent)  \n",
      "o Grocery Benefit : 6% cashback  ($0.06 per dollar spent)  \n",
      "o All Other Purchases Benefit : 1% cashback ($0.01 per dollar spent)  \n",
      "o Miscellaneous Purchases Benefit : 1% cashback ($0.01 per dollar spent)  \n",
      "• Sign -Up Bonus Offer:  Card opening bonus with 30,000 points if card member spends \n",
      "$3000 in first 3 months.  \n",
      "• Total Benefit : $0.03 per dollar spent.  \n",
      "• Miscellaneous Information : 0% Apr on purchases for first 12 months and balance \n",
      "transfer and 2 % intro balance transfer fee until Aug31,  2024.  \n",
      "• Link:  https://www.nerdwallet.com/reviews/credit -cards/american -express -blue -cash -\n",
      "preferred  \n",
      "• Keywords:  Grocery Benefit , supermarket , food shopping , health food , deli, dairy , \n",
      "bakery , fresh produce , online Grocery Benefit , farmers market , convenience store  \n",
      "6. Evolve Renovation Card  \n",
      "• Credit Type : Credit Card  \n",
      "• Product ID: CR00 6  \n",
      "• Annual Fee : Not applicable . \n",
      "• APR : 18% to 29.99%  \n",
      "• Credit Score Requirement : Medium  \n",
      "• Benefits : \n",
      "o Dining Benefit: 1% cashback ($0.01 per dollar spent)  \n",
      "o Gas Benefit : 1% cashback ($0.01 per dollar spent)  o Travel Benefit: 1% cashback ($0.01 per dollar spent)  \n",
      "o Grocery Benefit : 1% cashback ($0.01 per dollar spent)  \n",
      "o All Other Purchases Benefit : 1% cashback ($0.01 per dollar spent)  \n",
      "o Home Improvement : 3% cashback ($0.0 3 per dollar spent)  \n",
      "• Sign -Up Bonus Offer:  Enjoy an interest -free promotion for up to 36 months on \n",
      "purchases over $1,500.  \n",
      "• Total Benefit : $0.015 per dollar spent.  \n",
      "• Miscellaneous Information : 0% Apr on purchases for first 12 months and balance \n",
      "transfer and 2 % intro balance transfer fee until Nov30,2024. Then 18.00% to 29.99% \n",
      "standard variable purchase APR.  \n",
      "• Link:  https://www.homedepot.com/myaccount/thdcreditcard  \n",
      "• Keywords:  Electric Appliances , home building products , home improvement stores or \n",
      "merchants.  \n",
      "7. Evolve Personal Loan  \n",
      "• Credit Type : Personal Loan  \n",
      "• Product ID: CR00 7  \n",
      "• Annual Fee : Not applicable . \n",
      "• APR : 8% to 31.99%  depending on credit score  \n",
      "• Credit Score Requirement : Low to High  \n",
      "• Loan Amount : $1,000.00  to $30,000.00  \n",
      "• Loan Duration: 12 Months to 48 Months  (Select from 12, 18, 24, 30, 36, 42 or 48 \n",
      "months ). \n",
      "• Sign -Up Bonus Offer:  Not applicable . \n",
      "• Benefits : Not applicable . \n",
      "• Total Benefit : Not applicable . \n",
      "• Miscellaneous Information : Your APR will be between 8.00% and 31.99% based on \n",
      "creditworthiness at time of application for loan terms of 12 -48 months. No origination \n",
      "fees, no closing costs, no fees at all if you pay on time.  For instance, if you are  approved \n",
      "for a $10,000 loan with a  17.00% APR for a 48 -month term, your monthly payment will \n",
      "be around $288.55. The estimated total amount paid for the loan in this case would be \n",
      "approximately $13,850.42.  \n",
      "• Link : https://www.nerdwallet.com/reviews/loans/personal -loans/discover -personal -loans  \n",
      "• Keywords:  cash loan , installment loan , online loan , debt consolidation loan , home  \n",
      "improvement loan , medical loan , wedding loan , emergency loan , large one-time expense, \n",
      "monthly installment, fixed period, line of credit, not student loan, not for education  \n",
      "purpose  \n",
      "8. Evolve Student Loan  \n",
      "• Credit Type : Student Loan  \n",
      "• Product ID: CR00 8  \n",
      "• Annual Fee : Not applicable . \n",
      "• APR : 4.15%  • Credit Score Requirement : Medium to High  \n",
      "• Loan Amount : $10,000.00 to $100,000.00  \n",
      "• Loan Duration: 3 Years to 12 Years  \n",
      "• Sign -Up Bonus Offer:  Not applicable . \n",
      "• Benefits : Not applicable . \n",
      "• Total Benefit : Not applicable . \n",
      "• Miscellaneous Information : Your APR will be 4.5%, fixed based on your \n",
      "creditworthiness at the time of application, for loan terms of up to 15 years. For instance, \n",
      "if you are  approved for a $30,000 loan with a 4.5% APR for a 10 -year term, your \n",
      "monthly payment will be $310.92. The estimated total amount paid for the loan in this \n",
      "case would be $37,309.83. Please contact us to inquire about an Auto Debit discount.  \n",
      "• Link : https://www.nerdwallet.com/reviews/loans/student -loans/college -ave-student -loans  \n",
      "• Keywords:  cash loan, installment loan, online loan, monthly installment, fixed p eriod, \n",
      "student loan, education purpose , graduate  degree , higher education, Tuition and fees, \n",
      "Room and boarding, expensive school, post-graduate degree.  \n",
      " \n"
     ]
    }
   ],
   "source": [
    "print(raw_text)"
   ]
  },
  {
   "cell_type": "code",
   "execution_count": 92,
   "metadata": {},
   "outputs": [],
   "source": [
    "from langchain.text_splitter import RecursiveCharacterTextSplitter"
   ]
  },
  {
   "cell_type": "code",
   "execution_count": 93,
   "metadata": {},
   "outputs": [],
   "source": [
    "text_splitter = RecursiveCharacterTextSplitter(\n",
    "    chunk_size = 1000,\n",
    "    chunk_overlap  = 1000,\n",
    ")"
   ]
  },
  {
   "cell_type": "code",
   "execution_count": 94,
   "metadata": {},
   "outputs": [],
   "source": [
    "texts = text_splitter.split_text(raw_text)"
   ]
  },
  {
   "cell_type": "code",
   "execution_count": 95,
   "metadata": {},
   "outputs": [
    {
     "data": {
      "text/plain": [
       "117"
      ]
     },
     "execution_count": 95,
     "metadata": {},
     "output_type": "execute_result"
    }
   ],
   "source": [
    "len(texts)"
   ]
  },
  {
   "cell_type": "code",
   "execution_count": 96,
   "metadata": {},
   "outputs": [
    {
     "data": {
      "text/plain": [
       "'Financial Institution : Evolve Bank  \\nDocument  Name : Product Catalog  \\n1. Evolve Cashback Card  \\n• Credit Type : Credit Card  \\n• Product ID: CR001  \\n• Annual Fee : No Annual Fee  \\n• APR : 18.24% to 26.99%  \\n• Credit Score Requirement : Low to Medium  \\n• Benefits : \\no Dining Benefit: 2% cashback ($0.02 per dollar spent)  \\no Gas Benefit : 1% cashback ($0.01 per dollar spent)  \\no Travel Benefit: 1% cashback ($0.01 per dollar spent)  \\no Grocery Benefit : 1% cashback ($0.01 per dollar spent)  \\no All Other Purchases Benefit : 1% cashback ($0.01  per dollar spent)  \\no Miscellaneous Purchases Benefit : 5% cashback ($0.05 per dollar spent)  on \\nrevolving categories every quarter.  \\n• Sign -Up Bonus Offer:  No benefit  \\n• Total Benefit : $0.01 2 per dollar spent.  \\n• Miscellaneous Information : 0% intro APR for 15 months on purchases and balance \\ntransfers and 3% intro Balance Transfer Fee until October 10,2024. 5% balance transfer \\nfee for future balance transfers will apply.'"
      ]
     },
     "execution_count": 96,
     "metadata": {},
     "output_type": "execute_result"
    }
   ],
   "source": [
    "texts[0]"
   ]
  },
  {
   "cell_type": "code",
   "execution_count": 97,
   "metadata": {},
   "outputs": [],
   "source": [
    "from langchain_core.documents import Document"
   ]
  },
  {
   "cell_type": "code",
   "execution_count": 98,
   "metadata": {},
   "outputs": [],
   "source": [
    "docs = []\n",
    "for i in range(len(texts)):\n",
    "    doc = Document(page_content=texts[i])\n",
    "    docs.append(doc)"
   ]
  },
  {
   "cell_type": "code",
   "execution_count": 99,
   "metadata": {},
   "outputs": [
    {
     "data": {
      "text/plain": [
       "[Document(page_content='Financial Institution : Evolve Bank  \\nDocument  Name : Product Catalog  \\n1. Evolve Cashback Card  \\n• Credit Type : Credit Card  \\n• Product ID: CR001  \\n• Annual Fee : No Annual Fee  \\n• APR : 18.24% to 26.99%  \\n• Credit Score Requirement : Low to Medium  \\n• Benefits : \\no Dining Benefit: 2% cashback ($0.02 per dollar spent)  \\no Gas Benefit : 1% cashback ($0.01 per dollar spent)  \\no Travel Benefit: 1% cashback ($0.01 per dollar spent)  \\no Grocery Benefit : 1% cashback ($0.01 per dollar spent)  \\no All Other Purchases Benefit : 1% cashback ($0.01  per dollar spent)  \\no Miscellaneous Purchases Benefit : 5% cashback ($0.05 per dollar spent)  on \\nrevolving categories every quarter.  \\n• Sign -Up Bonus Offer:  No benefit  \\n• Total Benefit : $0.01 2 per dollar spent.  \\n• Miscellaneous Information : 0% intro APR for 15 months on purchases and balance \\ntransfers and 3% intro Balance Transfer Fee until October 10,2024. 5% balance transfer \\nfee for future balance transfers will apply.'),\n",
       " Document(page_content='1. Evolve Cashback Card  \\n• Credit Type : Credit Card  \\n• Product ID: CR001  \\n• Annual Fee : No Annual Fee  \\n• APR : 18.24% to 26.99%  \\n• Credit Score Requirement : Low to Medium  \\n• Benefits : \\no Dining Benefit: 2% cashback ($0.02 per dollar spent)  \\no Gas Benefit : 1% cashback ($0.01 per dollar spent)  \\no Travel Benefit: 1% cashback ($0.01 per dollar spent)  \\no Grocery Benefit : 1% cashback ($0.01 per dollar spent)  \\no All Other Purchases Benefit : 1% cashback ($0.01  per dollar spent)  \\no Miscellaneous Purchases Benefit : 5% cashback ($0.05 per dollar spent)  on \\nrevolving categories every quarter.  \\n• Sign -Up Bonus Offer:  No benefit  \\n• Total Benefit : $0.01 2 per dollar spent.  \\n• Miscellaneous Information : 0% intro APR for 15 months on purchases and balance \\ntransfers and 3% intro Balance Transfer Fee until October 10,2024. 5% balance transfer \\nfee for future balance transfers will apply.  \\n• Link:  https://www.nerdwallet.com/reviews/credit -cards/discover -it-cash -back'),\n",
       " Document(page_content='• APR : 18.24% to 26.99%  \\n• Credit Score Requirement : Low to Medium  \\n• Benefits : \\no Dining Benefit: 2% cashback ($0.02 per dollar spent)  \\no Gas Benefit : 1% cashback ($0.01 per dollar spent)  \\no Travel Benefit: 1% cashback ($0.01 per dollar spent)  \\no Grocery Benefit : 1% cashback ($0.01 per dollar spent)  \\no All Other Purchases Benefit : 1% cashback ($0.01  per dollar spent)  \\no Miscellaneous Purchases Benefit : 5% cashback ($0.05 per dollar spent)  on \\nrevolving categories every quarter.  \\n• Sign -Up Bonus Offer:  No benefit  \\n• Total Benefit : $0.01 2 per dollar spent.  \\n• Miscellaneous Information : 0% intro APR for 15 months on purchases and balance \\ntransfers and 3% intro Balance Transfer Fee until October 10,2024. 5% balance transfer \\nfee for future balance transfers will apply.  \\n• Link:  https://www.nerdwallet.com/reviews/credit -cards/discover -it-cash -back \\n• Keyword s: Cash back credit card , cashback bonus,  earn cashback , Restaurants, Cuisine,'),\n",
       " Document(page_content='• Credit Score Requirement : Low to Medium  \\n• Benefits : \\no Dining Benefit: 2% cashback ($0.02 per dollar spent)  \\no Gas Benefit : 1% cashback ($0.01 per dollar spent)  \\no Travel Benefit: 1% cashback ($0.01 per dollar spent)  \\no Grocery Benefit : 1% cashback ($0.01 per dollar spent)  \\no All Other Purchases Benefit : 1% cashback ($0.01  per dollar spent)  \\no Miscellaneous Purchases Benefit : 5% cashback ($0.05 per dollar spent)  on \\nrevolving categories every quarter.  \\n• Sign -Up Bonus Offer:  No benefit  \\n• Total Benefit : $0.01 2 per dollar spent.  \\n• Miscellaneous Information : 0% intro APR for 15 months on purchases and balance \\ntransfers and 3% intro Balance Transfer Fee until October 10,2024. 5% balance transfer \\nfee for future balance transfers will apply.  \\n• Link:  https://www.nerdwallet.com/reviews/credit -cards/discover -it-cash -back \\n• Keyword s: Cash back credit card , cashback bonus,  earn cashback , Restaurants, Cuisine,  \\nCafé, Food and Beverage, Dinner , Lunch'),\n",
       " Document(page_content='• Benefits : \\no Dining Benefit: 2% cashback ($0.02 per dollar spent)  \\no Gas Benefit : 1% cashback ($0.01 per dollar spent)  \\no Travel Benefit: 1% cashback ($0.01 per dollar spent)  \\no Grocery Benefit : 1% cashback ($0.01 per dollar spent)  \\no All Other Purchases Benefit : 1% cashback ($0.01  per dollar spent)  \\no Miscellaneous Purchases Benefit : 5% cashback ($0.05 per dollar spent)  on \\nrevolving categories every quarter.  \\n• Sign -Up Bonus Offer:  No benefit  \\n• Total Benefit : $0.01 2 per dollar spent.  \\n• Miscellaneous Information : 0% intro APR for 15 months on purchases and balance \\ntransfers and 3% intro Balance Transfer Fee until October 10,2024. 5% balance transfer \\nfee for future balance transfers will apply.  \\n• Link:  https://www.nerdwallet.com/reviews/credit -cards/discover -it-cash -back \\n• Keyword s: Cash back credit card , cashback bonus,  earn cashback , Restaurants, Cuisine,  \\nCafé, Food and Beverage, Dinner , Lunch  \\n2. Evolve Travel Plus Card'),\n",
       " Document(page_content='o Dining Benefit: 2% cashback ($0.02 per dollar spent)  \\no Gas Benefit : 1% cashback ($0.01 per dollar spent)  \\no Travel Benefit: 1% cashback ($0.01 per dollar spent)  \\no Grocery Benefit : 1% cashback ($0.01 per dollar spent)  \\no All Other Purchases Benefit : 1% cashback ($0.01  per dollar spent)  \\no Miscellaneous Purchases Benefit : 5% cashback ($0.05 per dollar spent)  on \\nrevolving categories every quarter.  \\n• Sign -Up Bonus Offer:  No benefit  \\n• Total Benefit : $0.01 2 per dollar spent.  \\n• Miscellaneous Information : 0% intro APR for 15 months on purchases and balance \\ntransfers and 3% intro Balance Transfer Fee until October 10,2024. 5% balance transfer \\nfee for future balance transfers will apply.  \\n• Link:  https://www.nerdwallet.com/reviews/credit -cards/discover -it-cash -back \\n• Keyword s: Cash back credit card , cashback bonus,  earn cashback , Restaurants, Cuisine,  \\nCafé, Food and Beverage, Dinner , Lunch  \\n2. Evolve Travel Plus Card  \\n• Credit Type : Credit Card'),\n",
       " Document(page_content='o Gas Benefit : 1% cashback ($0.01 per dollar spent)  \\no Travel Benefit: 1% cashback ($0.01 per dollar spent)  \\no Grocery Benefit : 1% cashback ($0.01 per dollar spent)  \\no All Other Purchases Benefit : 1% cashback ($0.01  per dollar spent)  \\no Miscellaneous Purchases Benefit : 5% cashback ($0.05 per dollar spent)  on \\nrevolving categories every quarter.  \\n• Sign -Up Bonus Offer:  No benefit  \\n• Total Benefit : $0.01 2 per dollar spent.  \\n• Miscellaneous Information : 0% intro APR for 15 months on purchases and balance \\ntransfers and 3% intro Balance Transfer Fee until October 10,2024. 5% balance transfer \\nfee for future balance transfers will apply.  \\n• Link:  https://www.nerdwallet.com/reviews/credit -cards/discover -it-cash -back \\n• Keyword s: Cash back credit card , cashback bonus,  earn cashback , Restaurants, Cuisine,  \\nCafé, Food and Beverage, Dinner , Lunch  \\n2. Evolve Travel Plus Card  \\n• Credit Type : Credit Card  \\n• Product ID: CR00 2  \\n• Annual Fee : $99'),\n",
       " Document(page_content='o Travel Benefit: 1% cashback ($0.01 per dollar spent)  \\no Grocery Benefit : 1% cashback ($0.01 per dollar spent)  \\no All Other Purchases Benefit : 1% cashback ($0.01  per dollar spent)  \\no Miscellaneous Purchases Benefit : 5% cashback ($0.05 per dollar spent)  on \\nrevolving categories every quarter.  \\n• Sign -Up Bonus Offer:  No benefit  \\n• Total Benefit : $0.01 2 per dollar spent.  \\n• Miscellaneous Information : 0% intro APR for 15 months on purchases and balance \\ntransfers and 3% intro Balance Transfer Fee until October 10,2024. 5% balance transfer \\nfee for future balance transfers will apply.  \\n• Link:  https://www.nerdwallet.com/reviews/credit -cards/discover -it-cash -back \\n• Keyword s: Cash back credit card , cashback bonus,  earn cashback , Restaurants, Cuisine,  \\nCafé, Food and Beverage, Dinner , Lunch  \\n2. Evolve Travel Plus Card  \\n• Credit Type : Credit Card  \\n• Product ID: CR00 2  \\n• Annual Fee : $99 \\n• APR : 19% to 29.99%  \\n• Credit Score Requirement : Medium to High'),\n",
       " Document(page_content='o Grocery Benefit : 1% cashback ($0.01 per dollar spent)  \\no All Other Purchases Benefit : 1% cashback ($0.01  per dollar spent)  \\no Miscellaneous Purchases Benefit : 5% cashback ($0.05 per dollar spent)  on \\nrevolving categories every quarter.  \\n• Sign -Up Bonus Offer:  No benefit  \\n• Total Benefit : $0.01 2 per dollar spent.  \\n• Miscellaneous Information : 0% intro APR for 15 months on purchases and balance \\ntransfers and 3% intro Balance Transfer Fee until October 10,2024. 5% balance transfer \\nfee for future balance transfers will apply.  \\n• Link:  https://www.nerdwallet.com/reviews/credit -cards/discover -it-cash -back \\n• Keyword s: Cash back credit card , cashback bonus,  earn cashback , Restaurants, Cuisine,  \\nCafé, Food and Beverage, Dinner , Lunch  \\n2. Evolve Travel Plus Card  \\n• Credit Type : Credit Card  \\n• Product ID: CR00 2  \\n• Annual Fee : $99 \\n• APR : 19% to 29.99%  \\n• Credit Score Requirement : Medium to High  \\n• Benefits :'),\n",
       " Document(page_content='o All Other Purchases Benefit : 1% cashback ($0.01  per dollar spent)  \\no Miscellaneous Purchases Benefit : 5% cashback ($0.05 per dollar spent)  on \\nrevolving categories every quarter.  \\n• Sign -Up Bonus Offer:  No benefit  \\n• Total Benefit : $0.01 2 per dollar spent.  \\n• Miscellaneous Information : 0% intro APR for 15 months on purchases and balance \\ntransfers and 3% intro Balance Transfer Fee until October 10,2024. 5% balance transfer \\nfee for future balance transfers will apply.  \\n• Link:  https://www.nerdwallet.com/reviews/credit -cards/discover -it-cash -back \\n• Keyword s: Cash back credit card , cashback bonus,  earn cashback , Restaurants, Cuisine,  \\nCafé, Food and Beverage, Dinner , Lunch  \\n2. Evolve Travel Plus Card  \\n• Credit Type : Credit Card  \\n• Product ID: CR00 2  \\n• Annual Fee : $99 \\n• APR : 19% to 29.99%  \\n• Credit Score Requirement : Medium to High  \\n• Benefits : \\no Dining Benefit: 1% cashback ($0.01 per dollar spent)'),\n",
       " Document(page_content='o Miscellaneous Purchases Benefit : 5% cashback ($0.05 per dollar spent)  on \\nrevolving categories every quarter.  \\n• Sign -Up Bonus Offer:  No benefit  \\n• Total Benefit : $0.01 2 per dollar spent.  \\n• Miscellaneous Information : 0% intro APR for 15 months on purchases and balance \\ntransfers and 3% intro Balance Transfer Fee until October 10,2024. 5% balance transfer \\nfee for future balance transfers will apply.  \\n• Link:  https://www.nerdwallet.com/reviews/credit -cards/discover -it-cash -back \\n• Keyword s: Cash back credit card , cashback bonus,  earn cashback , Restaurants, Cuisine,  \\nCafé, Food and Beverage, Dinner , Lunch  \\n2. Evolve Travel Plus Card  \\n• Credit Type : Credit Card  \\n• Product ID: CR00 2  \\n• Annual Fee : $99 \\n• APR : 19% to 29.99%  \\n• Credit Score Requirement : Medium to High  \\n• Benefits : \\no Dining Benefit: 1% cashback ($0.01 per dollar spent)  \\no Gas Benefit : 1% cashback ($0.01 per dollar spent)  \\no Travel Benefit: 3% cashback ($0.0 3 per dollar spent)'),\n",
       " Document(page_content='revolving categories every quarter.  \\n• Sign -Up Bonus Offer:  No benefit  \\n• Total Benefit : $0.01 2 per dollar spent.  \\n• Miscellaneous Information : 0% intro APR for 15 months on purchases and balance \\ntransfers and 3% intro Balance Transfer Fee until October 10,2024. 5% balance transfer \\nfee for future balance transfers will apply.  \\n• Link:  https://www.nerdwallet.com/reviews/credit -cards/discover -it-cash -back \\n• Keyword s: Cash back credit card , cashback bonus,  earn cashback , Restaurants, Cuisine,  \\nCafé, Food and Beverage, Dinner , Lunch  \\n2. Evolve Travel Plus Card  \\n• Credit Type : Credit Card  \\n• Product ID: CR00 2  \\n• Annual Fee : $99 \\n• APR : 19% to 29.99%  \\n• Credit Score Requirement : Medium to High  \\n• Benefits : \\no Dining Benefit: 1% cashback ($0.01 per dollar spent)  \\no Gas Benefit : 1% cashback ($0.01 per dollar spent)  \\no Travel Benefit: 3% cashback ($0.0 3 per dollar spent)  \\no Grocery Benefit : 1% cashback ($0.01 per dollar spent)'),\n",
       " Document(page_content='• Total Benefit : $0.01 2 per dollar spent.  \\n• Miscellaneous Information : 0% intro APR for 15 months on purchases and balance \\ntransfers and 3% intro Balance Transfer Fee until October 10,2024. 5% balance transfer \\nfee for future balance transfers will apply.  \\n• Link:  https://www.nerdwallet.com/reviews/credit -cards/discover -it-cash -back \\n• Keyword s: Cash back credit card , cashback bonus,  earn cashback , Restaurants, Cuisine,  \\nCafé, Food and Beverage, Dinner , Lunch  \\n2. Evolve Travel Plus Card  \\n• Credit Type : Credit Card  \\n• Product ID: CR00 2  \\n• Annual Fee : $99 \\n• APR : 19% to 29.99%  \\n• Credit Score Requirement : Medium to High  \\n• Benefits : \\no Dining Benefit: 1% cashback ($0.01 per dollar spent)  \\no Gas Benefit : 1% cashback ($0.01 per dollar spent)  \\no Travel Benefit: 3% cashback ($0.0 3 per dollar spent)  \\no Grocery Benefit : 1% cashback ($0.01 per dollar spent)  \\no All Other Purchases Benefit : 1% cashback ($0.01 per dollar spent)'),\n",
       " Document(page_content='• Miscellaneous Information : 0% intro APR for 15 months on purchases and balance \\ntransfers and 3% intro Balance Transfer Fee until October 10,2024. 5% balance transfer \\nfee for future balance transfers will apply.  \\n• Link:  https://www.nerdwallet.com/reviews/credit -cards/discover -it-cash -back \\n• Keyword s: Cash back credit card , cashback bonus,  earn cashback , Restaurants, Cuisine,  \\nCafé, Food and Beverage, Dinner , Lunch  \\n2. Evolve Travel Plus Card  \\n• Credit Type : Credit Card  \\n• Product ID: CR00 2  \\n• Annual Fee : $99 \\n• APR : 19% to 29.99%  \\n• Credit Score Requirement : Medium to High  \\n• Benefits : \\no Dining Benefit: 1% cashback ($0.01 per dollar spent)  \\no Gas Benefit : 1% cashback ($0.01 per dollar spent)  \\no Travel Benefit: 3% cashback ($0.0 3 per dollar spent)  \\no Grocery Benefit : 1% cashback ($0.01 per dollar spent)  \\no All Other Purchases Benefit : 1% cashback ($0.01 per dollar spent)  \\no Miscellaneous Purchases Benefit : 1% cashback ($0.01 per dollar spent)'),\n",
       " Document(page_content='fee for future balance transfers will apply.  \\n• Link:  https://www.nerdwallet.com/reviews/credit -cards/discover -it-cash -back \\n• Keyword s: Cash back credit card , cashback bonus,  earn cashback , Restaurants, Cuisine,  \\nCafé, Food and Beverage, Dinner , Lunch  \\n2. Evolve Travel Plus Card  \\n• Credit Type : Credit Card  \\n• Product ID: CR00 2  \\n• Annual Fee : $99 \\n• APR : 19% to 29.99%  \\n• Credit Score Requirement : Medium to High  \\n• Benefits : \\no Dining Benefit: 1% cashback ($0.01 per dollar spent)  \\no Gas Benefit : 1% cashback ($0.01 per dollar spent)  \\no Travel Benefit: 3% cashback ($0.0 3 per dollar spent)  \\no Grocery Benefit : 1% cashback ($0.01 per dollar spent)  \\no All Other Purchases Benefit : 1% cashback ($0.01 per dollar spent)  \\no Miscellaneous Purchases Benefit : 1% cashback ($0.01 per dollar spent)  \\n• Sign -Up Bonus Offer:  Earn 50,000 points (equivalent to $500) if you spend $4,000 in \\nthe first 3 months.'),\n",
       " Document(page_content='• Keyword s: Cash back credit card , cashback bonus,  earn cashback , Restaurants, Cuisine,  \\nCafé, Food and Beverage, Dinner , Lunch  \\n2. Evolve Travel Plus Card  \\n• Credit Type : Credit Card  \\n• Product ID: CR00 2  \\n• Annual Fee : $99 \\n• APR : 19% to 29.99%  \\n• Credit Score Requirement : Medium to High  \\n• Benefits : \\no Dining Benefit: 1% cashback ($0.01 per dollar spent)  \\no Gas Benefit : 1% cashback ($0.01 per dollar spent)  \\no Travel Benefit: 3% cashback ($0.0 3 per dollar spent)  \\no Grocery Benefit : 1% cashback ($0.01 per dollar spent)  \\no All Other Purchases Benefit : 1% cashback ($0.01 per dollar spent)  \\no Miscellaneous Purchases Benefit : 1% cashback ($0.01 per dollar spent)  \\n• Sign -Up Bonus Offer:  Earn 50,000 points (equivalent to $500) if you spend $4,000 in \\nthe first 3 months.  \\n• Total Benefit : $0.0 25 per dollar spent.  • Miscellaneous Information : 0% Apr on purchases for first 12 months and balance \\ntransfer and 2 % intro balance transfer fee until Aug31,2024.'),\n",
       " Document(page_content='Café, Food and Beverage, Dinner , Lunch  \\n2. Evolve Travel Plus Card  \\n• Credit Type : Credit Card  \\n• Product ID: CR00 2  \\n• Annual Fee : $99 \\n• APR : 19% to 29.99%  \\n• Credit Score Requirement : Medium to High  \\n• Benefits : \\no Dining Benefit: 1% cashback ($0.01 per dollar spent)  \\no Gas Benefit : 1% cashback ($0.01 per dollar spent)  \\no Travel Benefit: 3% cashback ($0.0 3 per dollar spent)  \\no Grocery Benefit : 1% cashback ($0.01 per dollar spent)  \\no All Other Purchases Benefit : 1% cashback ($0.01 per dollar spent)  \\no Miscellaneous Purchases Benefit : 1% cashback ($0.01 per dollar spent)  \\n• Sign -Up Bonus Offer:  Earn 50,000 points (equivalent to $500) if you spend $4,000 in \\nthe first 3 months.  \\n• Total Benefit : $0.0 25 per dollar spent.  • Miscellaneous Information : 0% Apr on purchases for first 12 months and balance \\ntransfer and 2 % intro balance transfer fee until Aug31,2024.  \\n• Link :'),\n",
       " Document(page_content='2. Evolve Travel Plus Card  \\n• Credit Type : Credit Card  \\n• Product ID: CR00 2  \\n• Annual Fee : $99 \\n• APR : 19% to 29.99%  \\n• Credit Score Requirement : Medium to High  \\n• Benefits : \\no Dining Benefit: 1% cashback ($0.01 per dollar spent)  \\no Gas Benefit : 1% cashback ($0.01 per dollar spent)  \\no Travel Benefit: 3% cashback ($0.0 3 per dollar spent)  \\no Grocery Benefit : 1% cashback ($0.01 per dollar spent)  \\no All Other Purchases Benefit : 1% cashback ($0.01 per dollar spent)  \\no Miscellaneous Purchases Benefit : 1% cashback ($0.01 per dollar spent)  \\n• Sign -Up Bonus Offer:  Earn 50,000 points (equivalent to $500) if you spend $4,000 in \\nthe first 3 months.  \\n• Total Benefit : $0.0 25 per dollar spent.  • Miscellaneous Information : 0% Apr on purchases for first 12 months and balance \\ntransfer and 2 % intro balance transfer fee until Aug31,2024.  \\n• Link : \\nhttps://creditcards.chase.com/a1/24Q3/sapphirepreferred?CELL=6H 8X&AFFID=SWlnSnn6x54 -'),\n",
       " Document(page_content='• Product ID: CR00 2  \\n• Annual Fee : $99 \\n• APR : 19% to 29.99%  \\n• Credit Score Requirement : Medium to High  \\n• Benefits : \\no Dining Benefit: 1% cashback ($0.01 per dollar spent)  \\no Gas Benefit : 1% cashback ($0.01 per dollar spent)  \\no Travel Benefit: 3% cashback ($0.0 3 per dollar spent)  \\no Grocery Benefit : 1% cashback ($0.01 per dollar spent)  \\no All Other Purchases Benefit : 1% cashback ($0.01 per dollar spent)  \\no Miscellaneous Purchases Benefit : 1% cashback ($0.01 per dollar spent)  \\n• Sign -Up Bonus Offer:  Earn 50,000 points (equivalent to $500) if you spend $4,000 in \\nthe first 3 months.  \\n• Total Benefit : $0.0 25 per dollar spent.  • Miscellaneous Information : 0% Apr on purchases for first 12 months and balance \\ntransfer and 2 % intro balance transfer fee until Aug31,2024.  \\n• Link : \\nhttps://creditcards.chase.com/a1/24Q3/sapphirepreferred?CELL=6H 8X&AFFID=SWlnSnn6x54 -\\nRk0AC37kPKECBN7XsRUXUw&pvid=4f628e4db71c4062aa856243cf66bdfd&jp_cmp=cc/1639698'),\n",
       " Document(page_content='• Annual Fee : $99 \\n• APR : 19% to 29.99%  \\n• Credit Score Requirement : Medium to High  \\n• Benefits : \\no Dining Benefit: 1% cashback ($0.01 per dollar spent)  \\no Gas Benefit : 1% cashback ($0.01 per dollar spent)  \\no Travel Benefit: 3% cashback ($0.0 3 per dollar spent)  \\no Grocery Benefit : 1% cashback ($0.01 per dollar spent)  \\no All Other Purchases Benefit : 1% cashback ($0.01 per dollar spent)  \\no Miscellaneous Purchases Benefit : 1% cashback ($0.01 per dollar spent)  \\n• Sign -Up Bonus Offer:  Earn 50,000 points (equivalent to $500) if you spend $4,000 in \\nthe first 3 months.  \\n• Total Benefit : $0.0 25 per dollar spent.  • Miscellaneous Information : 0% Apr on purchases for first 12 months and balance \\ntransfer and 2 % intro balance transfer fee until Aug31,2024.  \\n• Link : \\nhttps://creditcards.chase.com/a1/24Q3/sapphirepreferred?CELL=6H 8X&AFFID=SWlnSnn6x54 -\\nRk0AC37kPKECBN7XsRUXUw&pvid=4f628e4db71c4062aa856243cf66bdfd&jp_cmp=cc/1639698\\n/aff/15 -31809/na'),\n",
       " Document(page_content='• Benefits : \\no Dining Benefit: 1% cashback ($0.01 per dollar spent)  \\no Gas Benefit : 1% cashback ($0.01 per dollar spent)  \\no Travel Benefit: 3% cashback ($0.0 3 per dollar spent)  \\no Grocery Benefit : 1% cashback ($0.01 per dollar spent)  \\no All Other Purchases Benefit : 1% cashback ($0.01 per dollar spent)  \\no Miscellaneous Purchases Benefit : 1% cashback ($0.01 per dollar spent)  \\n• Sign -Up Bonus Offer:  Earn 50,000 points (equivalent to $500) if you spend $4,000 in \\nthe first 3 months.  \\n• Total Benefit : $0.0 25 per dollar spent.  • Miscellaneous Information : 0% Apr on purchases for first 12 months and balance \\ntransfer and 2 % intro balance transfer fee until Aug31,2024.  \\n• Link : \\nhttps://creditcards.chase.com/a1/24Q3/sapphirepreferred?CELL=6H 8X&AFFID=SWlnSnn6x54 -\\nRk0AC37kPKECBN7XsRUXUw&pvid=4f628e4db71c4062aa856243cf66bdfd&jp_cmp=cc/1639698\\n/aff/15 -31809/na  \\n• Keywords:  travel, miles, airline , hotel , travel insurance , lounge access , rental car ,'),\n",
       " Document(page_content='o Gas Benefit : 1% cashback ($0.01 per dollar spent)  \\no Travel Benefit: 3% cashback ($0.0 3 per dollar spent)  \\no Grocery Benefit : 1% cashback ($0.01 per dollar spent)  \\no All Other Purchases Benefit : 1% cashback ($0.01 per dollar spent)  \\no Miscellaneous Purchases Benefit : 1% cashback ($0.01 per dollar spent)  \\n• Sign -Up Bonus Offer:  Earn 50,000 points (equivalent to $500) if you spend $4,000 in \\nthe first 3 months.  \\n• Total Benefit : $0.0 25 per dollar spent.  • Miscellaneous Information : 0% Apr on purchases for first 12 months and balance \\ntransfer and 2 % intro balance transfer fee until Aug31,2024.  \\n• Link : \\nhttps://creditcards.chase.com/a1/24Q3/sapphirepreferred?CELL=6H 8X&AFFID=SWlnSnn6x54 -\\nRk0AC37kPKECBN7XsRUXUw&pvid=4f628e4db71c4062aa856243cf66bdfd&jp_cmp=cc/1639698\\n/aff/15 -31809/na  \\n• Keywords:  travel, miles, airline , hotel , travel insurance , lounge access , rental car , \\nbusiness travelers , frequent flyers ,  \\n3. Evolve Fuel Plus Card'),\n",
       " Document(page_content='o Travel Benefit: 3% cashback ($0.0 3 per dollar spent)  \\no Grocery Benefit : 1% cashback ($0.01 per dollar spent)  \\no All Other Purchases Benefit : 1% cashback ($0.01 per dollar spent)  \\no Miscellaneous Purchases Benefit : 1% cashback ($0.01 per dollar spent)  \\n• Sign -Up Bonus Offer:  Earn 50,000 points (equivalent to $500) if you spend $4,000 in \\nthe first 3 months.  \\n• Total Benefit : $0.0 25 per dollar spent.  • Miscellaneous Information : 0% Apr on purchases for first 12 months and balance \\ntransfer and 2 % intro balance transfer fee until Aug31,2024.  \\n• Link : \\nhttps://creditcards.chase.com/a1/24Q3/sapphirepreferred?CELL=6H 8X&AFFID=SWlnSnn6x54 -\\nRk0AC37kPKECBN7XsRUXUw&pvid=4f628e4db71c4062aa856243cf66bdfd&jp_cmp=cc/1639698\\n/aff/15 -31809/na  \\n• Keywords:  travel, miles, airline , hotel , travel insurance , lounge access , rental car , \\nbusiness travelers , frequent flyers ,  \\n3. Evolve Fuel Plus Card  \\n• Credit Type : Credit Card  \\n• Product ID: CR00 3'),\n",
       " Document(page_content='o Grocery Benefit : 1% cashback ($0.01 per dollar spent)  \\no All Other Purchases Benefit : 1% cashback ($0.01 per dollar spent)  \\no Miscellaneous Purchases Benefit : 1% cashback ($0.01 per dollar spent)  \\n• Sign -Up Bonus Offer:  Earn 50,000 points (equivalent to $500) if you spend $4,000 in \\nthe first 3 months.  \\n• Total Benefit : $0.0 25 per dollar spent.  • Miscellaneous Information : 0% Apr on purchases for first 12 months and balance \\ntransfer and 2 % intro balance transfer fee until Aug31,2024.  \\n• Link : \\nhttps://creditcards.chase.com/a1/24Q3/sapphirepreferred?CELL=6H 8X&AFFID=SWlnSnn6x54 -\\nRk0AC37kPKECBN7XsRUXUw&pvid=4f628e4db71c4062aa856243cf66bdfd&jp_cmp=cc/1639698\\n/aff/15 -31809/na  \\n• Keywords:  travel, miles, airline , hotel , travel insurance , lounge access , rental car , \\nbusiness travelers , frequent flyers ,  \\n3. Evolve Fuel Plus Card  \\n• Credit Type : Credit Card  \\n• Product ID: CR00 3  \\n• Annual Fee : Not applicable . \\n• APR : 19% to 29.99%'),\n",
       " Document(page_content='o All Other Purchases Benefit : 1% cashback ($0.01 per dollar spent)  \\no Miscellaneous Purchases Benefit : 1% cashback ($0.01 per dollar spent)  \\n• Sign -Up Bonus Offer:  Earn 50,000 points (equivalent to $500) if you spend $4,000 in \\nthe first 3 months.  \\n• Total Benefit : $0.0 25 per dollar spent.  • Miscellaneous Information : 0% Apr on purchases for first 12 months and balance \\ntransfer and 2 % intro balance transfer fee until Aug31,2024.  \\n• Link : \\nhttps://creditcards.chase.com/a1/24Q3/sapphirepreferred?CELL=6H 8X&AFFID=SWlnSnn6x54 -\\nRk0AC37kPKECBN7XsRUXUw&pvid=4f628e4db71c4062aa856243cf66bdfd&jp_cmp=cc/1639698\\n/aff/15 -31809/na  \\n• Keywords:  travel, miles, airline , hotel , travel insurance , lounge access , rental car , \\nbusiness travelers , frequent flyers ,  \\n3. Evolve Fuel Plus Card  \\n• Credit Type : Credit Card  \\n• Product ID: CR00 3  \\n• Annual Fee : Not applicable . \\n• APR : 19% to 29.99%  \\n• Credit Score Requirement : Medium  \\n• Benefits :'),\n",
       " Document(page_content='o Miscellaneous Purchases Benefit : 1% cashback ($0.01 per dollar spent)  \\n• Sign -Up Bonus Offer:  Earn 50,000 points (equivalent to $500) if you spend $4,000 in \\nthe first 3 months.  \\n• Total Benefit : $0.0 25 per dollar spent.  • Miscellaneous Information : 0% Apr on purchases for first 12 months and balance \\ntransfer and 2 % intro balance transfer fee until Aug31,2024.  \\n• Link : \\nhttps://creditcards.chase.com/a1/24Q3/sapphirepreferred?CELL=6H 8X&AFFID=SWlnSnn6x54 -\\nRk0AC37kPKECBN7XsRUXUw&pvid=4f628e4db71c4062aa856243cf66bdfd&jp_cmp=cc/1639698\\n/aff/15 -31809/na  \\n• Keywords:  travel, miles, airline , hotel , travel insurance , lounge access , rental car , \\nbusiness travelers , frequent flyers ,  \\n3. Evolve Fuel Plus Card  \\n• Credit Type : Credit Card  \\n• Product ID: CR00 3  \\n• Annual Fee : Not applicable . \\n• APR : 19% to 29.99%  \\n• Credit Score Requirement : Medium  \\n• Benefits : \\no Dining Benefit: 1% cashback ($0.01 per dollar spent)'),\n",
       " Document(page_content='• Sign -Up Bonus Offer:  Earn 50,000 points (equivalent to $500) if you spend $4,000 in \\nthe first 3 months.  \\n• Total Benefit : $0.0 25 per dollar spent.  • Miscellaneous Information : 0% Apr on purchases for first 12 months and balance \\ntransfer and 2 % intro balance transfer fee until Aug31,2024.  \\n• Link : \\nhttps://creditcards.chase.com/a1/24Q3/sapphirepreferred?CELL=6H 8X&AFFID=SWlnSnn6x54 -\\nRk0AC37kPKECBN7XsRUXUw&pvid=4f628e4db71c4062aa856243cf66bdfd&jp_cmp=cc/1639698\\n/aff/15 -31809/na  \\n• Keywords:  travel, miles, airline , hotel , travel insurance , lounge access , rental car , \\nbusiness travelers , frequent flyers ,  \\n3. Evolve Fuel Plus Card  \\n• Credit Type : Credit Card  \\n• Product ID: CR00 3  \\n• Annual Fee : Not applicable . \\n• APR : 19% to 29.99%  \\n• Credit Score Requirement : Medium  \\n• Benefits : \\no Dining Benefit: 1% cashback ($0.01 per dollar spent)  \\no Gas Benefit : 3% cashback ($0.0 3 per dollar spent)  \\no Travel Benefit: 1% cashback ($0.01 per dollar spent)'),\n",
       " Document(page_content='the first 3 months.  \\n• Total Benefit : $0.0 25 per dollar spent.  • Miscellaneous Information : 0% Apr on purchases for first 12 months and balance \\ntransfer and 2 % intro balance transfer fee until Aug31,2024.  \\n• Link : \\nhttps://creditcards.chase.com/a1/24Q3/sapphirepreferred?CELL=6H 8X&AFFID=SWlnSnn6x54 -\\nRk0AC37kPKECBN7XsRUXUw&pvid=4f628e4db71c4062aa856243cf66bdfd&jp_cmp=cc/1639698\\n/aff/15 -31809/na  \\n• Keywords:  travel, miles, airline , hotel , travel insurance , lounge access , rental car , \\nbusiness travelers , frequent flyers ,  \\n3. Evolve Fuel Plus Card  \\n• Credit Type : Credit Card  \\n• Product ID: CR00 3  \\n• Annual Fee : Not applicable . \\n• APR : 19% to 29.99%  \\n• Credit Score Requirement : Medium  \\n• Benefits : \\no Dining Benefit: 1% cashback ($0.01 per dollar spent)  \\no Gas Benefit : 3% cashback ($0.0 3 per dollar spent)  \\no Travel Benefit: 1% cashback ($0.01 per dollar spent)  \\no Grocery Benefit : 1% cashback ($0.01 per dollar spent)'),\n",
       " Document(page_content='transfer and 2 % intro balance transfer fee until Aug31,2024.  \\n• Link : \\nhttps://creditcards.chase.com/a1/24Q3/sapphirepreferred?CELL=6H 8X&AFFID=SWlnSnn6x54 -\\nRk0AC37kPKECBN7XsRUXUw&pvid=4f628e4db71c4062aa856243cf66bdfd&jp_cmp=cc/1639698\\n/aff/15 -31809/na  \\n• Keywords:  travel, miles, airline , hotel , travel insurance , lounge access , rental car , \\nbusiness travelers , frequent flyers ,  \\n3. Evolve Fuel Plus Card  \\n• Credit Type : Credit Card  \\n• Product ID: CR00 3  \\n• Annual Fee : Not applicable . \\n• APR : 19% to 29.99%  \\n• Credit Score Requirement : Medium  \\n• Benefits : \\no Dining Benefit: 1% cashback ($0.01 per dollar spent)  \\no Gas Benefit : 3% cashback ($0.0 3 per dollar spent)  \\no Travel Benefit: 1% cashback ($0.01 per dollar spent)  \\no Grocery Benefit : 1% cashback ($0.01 per dollar spent)  \\no All Other Purchases Benefit : 1% cashback ($0.01 per dollar spent)  \\no Miscellaneous Purchases Benefit : 1% cashback ($0.01 per dollar sp ent) \\n• Sign -Up Bonus Offer:  No benefit'),\n",
       " Document(page_content='• Link : \\nhttps://creditcards.chase.com/a1/24Q3/sapphirepreferred?CELL=6H 8X&AFFID=SWlnSnn6x54 -\\nRk0AC37kPKECBN7XsRUXUw&pvid=4f628e4db71c4062aa856243cf66bdfd&jp_cmp=cc/1639698\\n/aff/15 -31809/na  \\n• Keywords:  travel, miles, airline , hotel , travel insurance , lounge access , rental car , \\nbusiness travelers , frequent flyers ,  \\n3. Evolve Fuel Plus Card  \\n• Credit Type : Credit Card  \\n• Product ID: CR00 3  \\n• Annual Fee : Not applicable . \\n• APR : 19% to 29.99%  \\n• Credit Score Requirement : Medium  \\n• Benefits : \\no Dining Benefit: 1% cashback ($0.01 per dollar spent)  \\no Gas Benefit : 3% cashback ($0.0 3 per dollar spent)  \\no Travel Benefit: 1% cashback ($0.01 per dollar spent)  \\no Grocery Benefit : 1% cashback ($0.01 per dollar spent)  \\no All Other Purchases Benefit : 1% cashback ($0.01 per dollar spent)  \\no Miscellaneous Purchases Benefit : 1% cashback ($0.01 per dollar sp ent) \\n• Sign -Up Bonus Offer:  No benefit  \\n• Total Benefit : $0.0 15 per dollar spent.'),\n",
       " Document(page_content='Rk0AC37kPKECBN7XsRUXUw&pvid=4f628e4db71c4062aa856243cf66bdfd&jp_cmp=cc/1639698\\n/aff/15 -31809/na  \\n• Keywords:  travel, miles, airline , hotel , travel insurance , lounge access , rental car , \\nbusiness travelers , frequent flyers ,  \\n3. Evolve Fuel Plus Card  \\n• Credit Type : Credit Card  \\n• Product ID: CR00 3  \\n• Annual Fee : Not applicable . \\n• APR : 19% to 29.99%  \\n• Credit Score Requirement : Medium  \\n• Benefits : \\no Dining Benefit: 1% cashback ($0.01 per dollar spent)  \\no Gas Benefit : 3% cashback ($0.0 3 per dollar spent)  \\no Travel Benefit: 1% cashback ($0.01 per dollar spent)  \\no Grocery Benefit : 1% cashback ($0.01 per dollar spent)  \\no All Other Purchases Benefit : 1% cashback ($0.01 per dollar spent)  \\no Miscellaneous Purchases Benefit : 1% cashback ($0.01 per dollar sp ent) \\n• Sign -Up Bonus Offer:  No benefit  \\n• Total Benefit : $0.0 15 per dollar spent.  \\n• Miscellaneous Information : \\n• Link : https://www.americanexpress.com/us/credit -cards/card/blue -cash -'),\n",
       " Document(page_content='/aff/15 -31809/na  \\n• Keywords:  travel, miles, airline , hotel , travel insurance , lounge access , rental car , \\nbusiness travelers , frequent flyers ,  \\n3. Evolve Fuel Plus Card  \\n• Credit Type : Credit Card  \\n• Product ID: CR00 3  \\n• Annual Fee : Not applicable . \\n• APR : 19% to 29.99%  \\n• Credit Score Requirement : Medium  \\n• Benefits : \\no Dining Benefit: 1% cashback ($0.01 per dollar spent)  \\no Gas Benefit : 3% cashback ($0.0 3 per dollar spent)  \\no Travel Benefit: 1% cashback ($0.01 per dollar spent)  \\no Grocery Benefit : 1% cashback ($0.01 per dollar spent)  \\no All Other Purchases Benefit : 1% cashback ($0.01 per dollar spent)  \\no Miscellaneous Purchases Benefit : 1% cashback ($0.01 per dollar sp ent) \\n• Sign -Up Bonus Offer:  No benefit  \\n• Total Benefit : $0.0 15 per dollar spent.  \\n• Miscellaneous Information : \\n• Link : https://www.americanexpress.com/us/credit -cards/card/blue -cash -\\neveryday/?eep=26129&irgwc=1&veid=Qb00w8wYaxyKWukV3d34TXcdUkCzjF2ntXw7000&affid='),\n",
       " Document(page_content='business travelers , frequent flyers ,  \\n3. Evolve Fuel Plus Card  \\n• Credit Type : Credit Card  \\n• Product ID: CR00 3  \\n• Annual Fee : Not applicable . \\n• APR : 19% to 29.99%  \\n• Credit Score Requirement : Medium  \\n• Benefits : \\no Dining Benefit: 1% cashback ($0.01 per dollar spent)  \\no Gas Benefit : 3% cashback ($0.0 3 per dollar spent)  \\no Travel Benefit: 1% cashback ($0.01 per dollar spent)  \\no Grocery Benefit : 1% cashback ($0.01 per dollar spent)  \\no All Other Purchases Benefit : 1% cashback ($0.01 per dollar spent)  \\no Miscellaneous Purchases Benefit : 1% cashback ($0.01 per dollar sp ent) \\n• Sign -Up Bonus Offer:  No benefit  \\n• Total Benefit : $0.0 15 per dollar spent.  \\n• Miscellaneous Information : \\n• Link : https://www.americanexpress.com/us/credit -cards/card/blue -cash -\\neveryday/?eep=26129&irgwc=1&veid=Qb00w8wYaxyKWukV3d34TXcdUkCzjF2ntXw7000&affid=\\n1193684&pid=IR&affname=NerdWallet%2C%20Inc.&sid=14011830016&pmc=795&BUID=CCG&\\nCRTV=controlaffcps&MPR=03'),\n",
       " Document(page_content='• Credit Type : Credit Card  \\n• Product ID: CR00 3  \\n• Annual Fee : Not applicable . \\n• APR : 19% to 29.99%  \\n• Credit Score Requirement : Medium  \\n• Benefits : \\no Dining Benefit: 1% cashback ($0.01 per dollar spent)  \\no Gas Benefit : 3% cashback ($0.0 3 per dollar spent)  \\no Travel Benefit: 1% cashback ($0.01 per dollar spent)  \\no Grocery Benefit : 1% cashback ($0.01 per dollar spent)  \\no All Other Purchases Benefit : 1% cashback ($0.01 per dollar spent)  \\no Miscellaneous Purchases Benefit : 1% cashback ($0.01 per dollar sp ent) \\n• Sign -Up Bonus Offer:  No benefit  \\n• Total Benefit : $0.0 15 per dollar spent.  \\n• Miscellaneous Information : \\n• Link : https://www.americanexpress.com/us/credit -cards/card/blue -cash -\\neveryday/?eep=26129&irgwc=1&veid=Qb00w8wYaxyKWukV3d34TXcdUkCzjF2ntXw7000&affid=\\n1193684&pid=IR&affname=NerdWallet%2C%20Inc.&sid=14011830016&pmc=795&BUID=CCG&\\nCRTV=controlaffcps&MPR=03  \\n• Keywords : fuel, fleet, trucking , Gas Benefit , diesel , Gas'),\n",
       " Document(page_content='• Product ID: CR00 3  \\n• Annual Fee : Not applicable . \\n• APR : 19% to 29.99%  \\n• Credit Score Requirement : Medium  \\n• Benefits : \\no Dining Benefit: 1% cashback ($0.01 per dollar spent)  \\no Gas Benefit : 3% cashback ($0.0 3 per dollar spent)  \\no Travel Benefit: 1% cashback ($0.01 per dollar spent)  \\no Grocery Benefit : 1% cashback ($0.01 per dollar spent)  \\no All Other Purchases Benefit : 1% cashback ($0.01 per dollar spent)  \\no Miscellaneous Purchases Benefit : 1% cashback ($0.01 per dollar sp ent) \\n• Sign -Up Bonus Offer:  No benefit  \\n• Total Benefit : $0.0 15 per dollar spent.  \\n• Miscellaneous Information : \\n• Link : https://www.americanexpress.com/us/credit -cards/card/blue -cash -\\neveryday/?eep=26129&irgwc=1&veid=Qb00w8wYaxyKWukV3d34TXcdUkCzjF2ntXw7000&affid=\\n1193684&pid=IR&affname=NerdWallet%2C%20Inc.&sid=14011830016&pmc=795&BUID=CCG&\\nCRTV=controlaffcps&MPR=03  \\n• Keywords : fuel, fleet, trucking , Gas Benefit , diesel , Gas  \\n4. Evolve Platinum Card'),\n",
       " Document(page_content='• Annual Fee : Not applicable . \\n• APR : 19% to 29.99%  \\n• Credit Score Requirement : Medium  \\n• Benefits : \\no Dining Benefit: 1% cashback ($0.01 per dollar spent)  \\no Gas Benefit : 3% cashback ($0.0 3 per dollar spent)  \\no Travel Benefit: 1% cashback ($0.01 per dollar spent)  \\no Grocery Benefit : 1% cashback ($0.01 per dollar spent)  \\no All Other Purchases Benefit : 1% cashback ($0.01 per dollar spent)  \\no Miscellaneous Purchases Benefit : 1% cashback ($0.01 per dollar sp ent) \\n• Sign -Up Bonus Offer:  No benefit  \\n• Total Benefit : $0.0 15 per dollar spent.  \\n• Miscellaneous Information : \\n• Link : https://www.americanexpress.com/us/credit -cards/card/blue -cash -\\neveryday/?eep=26129&irgwc=1&veid=Qb00w8wYaxyKWukV3d34TXcdUkCzjF2ntXw7000&affid=\\n1193684&pid=IR&affname=NerdWallet%2C%20Inc.&sid=14011830016&pmc=795&BUID=CCG&\\nCRTV=controlaffcps&MPR=03  \\n• Keywords : fuel, fleet, trucking , Gas Benefit , diesel , Gas  \\n4. Evolve Platinum Card  \\n• Credit Type : Credit Card'),\n",
       " Document(page_content='• APR : 19% to 29.99%  \\n• Credit Score Requirement : Medium  \\n• Benefits : \\no Dining Benefit: 1% cashback ($0.01 per dollar spent)  \\no Gas Benefit : 3% cashback ($0.0 3 per dollar spent)  \\no Travel Benefit: 1% cashback ($0.01 per dollar spent)  \\no Grocery Benefit : 1% cashback ($0.01 per dollar spent)  \\no All Other Purchases Benefit : 1% cashback ($0.01 per dollar spent)  \\no Miscellaneous Purchases Benefit : 1% cashback ($0.01 per dollar sp ent) \\n• Sign -Up Bonus Offer:  No benefit  \\n• Total Benefit : $0.0 15 per dollar spent.  \\n• Miscellaneous Information : \\n• Link : https://www.americanexpress.com/us/credit -cards/card/blue -cash -\\neveryday/?eep=26129&irgwc=1&veid=Qb00w8wYaxyKWukV3d34TXcdUkCzjF2ntXw7000&affid=\\n1193684&pid=IR&affname=NerdWallet%2C%20Inc.&sid=14011830016&pmc=795&BUID=CCG&\\nCRTV=controlaffcps&MPR=03  \\n• Keywords : fuel, fleet, trucking , Gas Benefit , diesel , Gas  \\n4. Evolve Platinum Card  \\n• Credit Type : Credit Card  \\n• Product ID: CR00 4'),\n",
       " Document(page_content='• Credit Score Requirement : Medium  \\n• Benefits : \\no Dining Benefit: 1% cashback ($0.01 per dollar spent)  \\no Gas Benefit : 3% cashback ($0.0 3 per dollar spent)  \\no Travel Benefit: 1% cashback ($0.01 per dollar spent)  \\no Grocery Benefit : 1% cashback ($0.01 per dollar spent)  \\no All Other Purchases Benefit : 1% cashback ($0.01 per dollar spent)  \\no Miscellaneous Purchases Benefit : 1% cashback ($0.01 per dollar sp ent) \\n• Sign -Up Bonus Offer:  No benefit  \\n• Total Benefit : $0.0 15 per dollar spent.  \\n• Miscellaneous Information : \\n• Link : https://www.americanexpress.com/us/credit -cards/card/blue -cash -\\neveryday/?eep=26129&irgwc=1&veid=Qb00w8wYaxyKWukV3d34TXcdUkCzjF2ntXw7000&affid=\\n1193684&pid=IR&affname=NerdWallet%2C%20Inc.&sid=14011830016&pmc=795&BUID=CCG&\\nCRTV=controlaffcps&MPR=03  \\n• Keywords : fuel, fleet, trucking , Gas Benefit , diesel , Gas  \\n4. Evolve Platinum Card  \\n• Credit Type : Credit Card  \\n• Product ID: CR00 4  \\n• Annual Fee : Not applicable .'),\n",
       " Document(page_content='• Benefits : \\no Dining Benefit: 1% cashback ($0.01 per dollar spent)  \\no Gas Benefit : 3% cashback ($0.0 3 per dollar spent)  \\no Travel Benefit: 1% cashback ($0.01 per dollar spent)  \\no Grocery Benefit : 1% cashback ($0.01 per dollar spent)  \\no All Other Purchases Benefit : 1% cashback ($0.01 per dollar spent)  \\no Miscellaneous Purchases Benefit : 1% cashback ($0.01 per dollar sp ent) \\n• Sign -Up Bonus Offer:  No benefit  \\n• Total Benefit : $0.0 15 per dollar spent.  \\n• Miscellaneous Information : \\n• Link : https://www.americanexpress.com/us/credit -cards/card/blue -cash -\\neveryday/?eep=26129&irgwc=1&veid=Qb00w8wYaxyKWukV3d34TXcdUkCzjF2ntXw7000&affid=\\n1193684&pid=IR&affname=NerdWallet%2C%20Inc.&sid=14011830016&pmc=795&BUID=CCG&\\nCRTV=controlaffcps&MPR=03  \\n• Keywords : fuel, fleet, trucking , Gas Benefit , diesel , Gas  \\n4. Evolve Platinum Card  \\n• Credit Type : Credit Card  \\n• Product ID: CR00 4  \\n• Annual Fee : Not applicable . \\n• APR : 18.5% to 29.99%'),\n",
       " Document(page_content='o Dining Benefit: 1% cashback ($0.01 per dollar spent)  \\no Gas Benefit : 3% cashback ($0.0 3 per dollar spent)  \\no Travel Benefit: 1% cashback ($0.01 per dollar spent)  \\no Grocery Benefit : 1% cashback ($0.01 per dollar spent)  \\no All Other Purchases Benefit : 1% cashback ($0.01 per dollar spent)  \\no Miscellaneous Purchases Benefit : 1% cashback ($0.01 per dollar sp ent) \\n• Sign -Up Bonus Offer:  No benefit  \\n• Total Benefit : $0.0 15 per dollar spent.  \\n• Miscellaneous Information : \\n• Link : https://www.americanexpress.com/us/credit -cards/card/blue -cash -\\neveryday/?eep=26129&irgwc=1&veid=Qb00w8wYaxyKWukV3d34TXcdUkCzjF2ntXw7000&affid=\\n1193684&pid=IR&affname=NerdWallet%2C%20Inc.&sid=14011830016&pmc=795&BUID=CCG&\\nCRTV=controlaffcps&MPR=03  \\n• Keywords : fuel, fleet, trucking , Gas Benefit , diesel , Gas  \\n4. Evolve Platinum Card  \\n• Credit Type : Credit Card  \\n• Product ID: CR00 4  \\n• Annual Fee : Not applicable . \\n• APR : 18.5% to 29.99%  \\n• Credit Score Requirement : High'),\n",
       " Document(page_content='o Gas Benefit : 3% cashback ($0.0 3 per dollar spent)  \\no Travel Benefit: 1% cashback ($0.01 per dollar spent)  \\no Grocery Benefit : 1% cashback ($0.01 per dollar spent)  \\no All Other Purchases Benefit : 1% cashback ($0.01 per dollar spent)  \\no Miscellaneous Purchases Benefit : 1% cashback ($0.01 per dollar sp ent) \\n• Sign -Up Bonus Offer:  No benefit  \\n• Total Benefit : $0.0 15 per dollar spent.  \\n• Miscellaneous Information : \\n• Link : https://www.americanexpress.com/us/credit -cards/card/blue -cash -\\neveryday/?eep=26129&irgwc=1&veid=Qb00w8wYaxyKWukV3d34TXcdUkCzjF2ntXw7000&affid=\\n1193684&pid=IR&affname=NerdWallet%2C%20Inc.&sid=14011830016&pmc=795&BUID=CCG&\\nCRTV=controlaffcps&MPR=03  \\n• Keywords : fuel, fleet, trucking , Gas Benefit , diesel , Gas  \\n4. Evolve Platinum Card  \\n• Credit Type : Credit Card  \\n• Product ID: CR00 4  \\n• Annual Fee : Not applicable . \\n• APR : 18.5% to 29.99%  \\n• Credit Score Requirement : High  \\n• Benefits :'),\n",
       " Document(page_content='o Travel Benefit: 1% cashback ($0.01 per dollar spent)  \\no Grocery Benefit : 1% cashback ($0.01 per dollar spent)  \\no All Other Purchases Benefit : 1% cashback ($0.01 per dollar spent)  \\no Miscellaneous Purchases Benefit : 1% cashback ($0.01 per dollar sp ent) \\n• Sign -Up Bonus Offer:  No benefit  \\n• Total Benefit : $0.0 15 per dollar spent.  \\n• Miscellaneous Information : \\n• Link : https://www.americanexpress.com/us/credit -cards/card/blue -cash -\\neveryday/?eep=26129&irgwc=1&veid=Qb00w8wYaxyKWukV3d34TXcdUkCzjF2ntXw7000&affid=\\n1193684&pid=IR&affname=NerdWallet%2C%20Inc.&sid=14011830016&pmc=795&BUID=CCG&\\nCRTV=controlaffcps&MPR=03  \\n• Keywords : fuel, fleet, trucking , Gas Benefit , diesel , Gas  \\n4. Evolve Platinum Card  \\n• Credit Type : Credit Card  \\n• Product ID: CR00 4  \\n• Annual Fee : Not applicable . \\n• APR : 18.5% to 29.99%  \\n• Credit Score Requirement : High  \\n• Benefits : \\no Dining Benefit: 1.5% cashback ($0.015 per dollar spent)'),\n",
       " Document(page_content='o Grocery Benefit : 1% cashback ($0.01 per dollar spent)  \\no All Other Purchases Benefit : 1% cashback ($0.01 per dollar spent)  \\no Miscellaneous Purchases Benefit : 1% cashback ($0.01 per dollar sp ent) \\n• Sign -Up Bonus Offer:  No benefit  \\n• Total Benefit : $0.0 15 per dollar spent.  \\n• Miscellaneous Information : \\n• Link : https://www.americanexpress.com/us/credit -cards/card/blue -cash -\\neveryday/?eep=26129&irgwc=1&veid=Qb00w8wYaxyKWukV3d34TXcdUkCzjF2ntXw7000&affid=\\n1193684&pid=IR&affname=NerdWallet%2C%20Inc.&sid=14011830016&pmc=795&BUID=CCG&\\nCRTV=controlaffcps&MPR=03  \\n• Keywords : fuel, fleet, trucking , Gas Benefit , diesel , Gas  \\n4. Evolve Platinum Card  \\n• Credit Type : Credit Card  \\n• Product ID: CR00 4  \\n• Annual Fee : Not applicable . \\n• APR : 18.5% to 29.99%  \\n• Credit Score Requirement : High  \\n• Benefits : \\no Dining Benefit: 1.5% cashback ($0.015 per dollar spent)  \\no Gas Benefit : 1.5% cashback ($0.015 per dollar spent)'),\n",
       " Document(page_content='o All Other Purchases Benefit : 1% cashback ($0.01 per dollar spent)  \\no Miscellaneous Purchases Benefit : 1% cashback ($0.01 per dollar sp ent) \\n• Sign -Up Bonus Offer:  No benefit  \\n• Total Benefit : $0.0 15 per dollar spent.  \\n• Miscellaneous Information : \\n• Link : https://www.americanexpress.com/us/credit -cards/card/blue -cash -\\neveryday/?eep=26129&irgwc=1&veid=Qb00w8wYaxyKWukV3d34TXcdUkCzjF2ntXw7000&affid=\\n1193684&pid=IR&affname=NerdWallet%2C%20Inc.&sid=14011830016&pmc=795&BUID=CCG&\\nCRTV=controlaffcps&MPR=03  \\n• Keywords : fuel, fleet, trucking , Gas Benefit , diesel , Gas  \\n4. Evolve Platinum Card  \\n• Credit Type : Credit Card  \\n• Product ID: CR00 4  \\n• Annual Fee : Not applicable . \\n• APR : 18.5% to 29.99%  \\n• Credit Score Requirement : High  \\n• Benefits : \\no Dining Benefit: 1.5% cashback ($0.015 per dollar spent)  \\no Gas Benefit : 1.5% cashback ($0.015 per dollar spent)  \\no Travel Benefit: 1.5% cashback ($0.015 per dollar spent)'),\n",
       " Document(page_content='o Miscellaneous Purchases Benefit : 1% cashback ($0.01 per dollar sp ent) \\n• Sign -Up Bonus Offer:  No benefit  \\n• Total Benefit : $0.0 15 per dollar spent.  \\n• Miscellaneous Information : \\n• Link : https://www.americanexpress.com/us/credit -cards/card/blue -cash -\\neveryday/?eep=26129&irgwc=1&veid=Qb00w8wYaxyKWukV3d34TXcdUkCzjF2ntXw7000&affid=\\n1193684&pid=IR&affname=NerdWallet%2C%20Inc.&sid=14011830016&pmc=795&BUID=CCG&\\nCRTV=controlaffcps&MPR=03  \\n• Keywords : fuel, fleet, trucking , Gas Benefit , diesel , Gas  \\n4. Evolve Platinum Card  \\n• Credit Type : Credit Card  \\n• Product ID: CR00 4  \\n• Annual Fee : Not applicable . \\n• APR : 18.5% to 29.99%  \\n• Credit Score Requirement : High  \\n• Benefits : \\no Dining Benefit: 1.5% cashback ($0.015 per dollar spent)  \\no Gas Benefit : 1.5% cashback ($0.015 per dollar spent)  \\no Travel Benefit: 1.5% cashback ($0.015 per dollar spent)  \\no Grocery Benefit : 1.5% cashback ($0.015 per dollar spent)'),\n",
       " Document(page_content='• Total Benefit : $0.0 15 per dollar spent.  \\n• Miscellaneous Information : \\n• Link : https://www.americanexpress.com/us/credit -cards/card/blue -cash -\\neveryday/?eep=26129&irgwc=1&veid=Qb00w8wYaxyKWukV3d34TXcdUkCzjF2ntXw7000&affid=\\n1193684&pid=IR&affname=NerdWallet%2C%20Inc.&sid=14011830016&pmc=795&BUID=CCG&\\nCRTV=controlaffcps&MPR=03  \\n• Keywords : fuel, fleet, trucking , Gas Benefit , diesel , Gas  \\n4. Evolve Platinum Card  \\n• Credit Type : Credit Card  \\n• Product ID: CR00 4  \\n• Annual Fee : Not applicable . \\n• APR : 18.5% to 29.99%  \\n• Credit Score Requirement : High  \\n• Benefits : \\no Dining Benefit: 1.5% cashback ($0.015 per dollar spent)  \\no Gas Benefit : 1.5% cashback ($0.015 per dollar spent)  \\no Travel Benefit: 1.5% cashback ($0.015 per dollar spent)  \\no Grocery Benefit : 1.5% cashback ($0.015 per dollar spent)  \\no All Other Purchases Benefit : 1.5% cashback ($0.015 per dollar spent)  o Miscellaneous Purchases Benefit : 1.5% cashback ($0.015 per dollar spent)'),\n",
       " Document(page_content='• Link : https://www.americanexpress.com/us/credit -cards/card/blue -cash -\\neveryday/?eep=26129&irgwc=1&veid=Qb00w8wYaxyKWukV3d34TXcdUkCzjF2ntXw7000&affid=\\n1193684&pid=IR&affname=NerdWallet%2C%20Inc.&sid=14011830016&pmc=795&BUID=CCG&\\nCRTV=controlaffcps&MPR=03  \\n• Keywords : fuel, fleet, trucking , Gas Benefit , diesel , Gas  \\n4. Evolve Platinum Card  \\n• Credit Type : Credit Card  \\n• Product ID: CR00 4  \\n• Annual Fee : Not applicable . \\n• APR : 18.5% to 29.99%  \\n• Credit Score Requirement : High  \\n• Benefits : \\no Dining Benefit: 1.5% cashback ($0.015 per dollar spent)  \\no Gas Benefit : 1.5% cashback ($0.015 per dollar spent)  \\no Travel Benefit: 1.5% cashback ($0.015 per dollar spent)  \\no Grocery Benefit : 1.5% cashback ($0.015 per dollar spent)  \\no All Other Purchases Benefit : 1.5% cashback ($0.015 per dollar spent)  o Miscellaneous Purchases Benefit : 1.5% cashback ($0.015 per dollar spent)  \\n• Sign -Up Bonus Offer:  Card opening bonus with 15,000 points if card member spends'),\n",
       " Document(page_content='everyday/?eep=26129&irgwc=1&veid=Qb00w8wYaxyKWukV3d34TXcdUkCzjF2ntXw7000&affid=\\n1193684&pid=IR&affname=NerdWallet%2C%20Inc.&sid=14011830016&pmc=795&BUID=CCG&\\nCRTV=controlaffcps&MPR=03  \\n• Keywords : fuel, fleet, trucking , Gas Benefit , diesel , Gas  \\n4. Evolve Platinum Card  \\n• Credit Type : Credit Card  \\n• Product ID: CR00 4  \\n• Annual Fee : Not applicable . \\n• APR : 18.5% to 29.99%  \\n• Credit Score Requirement : High  \\n• Benefits : \\no Dining Benefit: 1.5% cashback ($0.015 per dollar spent)  \\no Gas Benefit : 1.5% cashback ($0.015 per dollar spent)  \\no Travel Benefit: 1.5% cashback ($0.015 per dollar spent)  \\no Grocery Benefit : 1.5% cashback ($0.015 per dollar spent)  \\no All Other Purchases Benefit : 1.5% cashback ($0.015 per dollar spent)  o Miscellaneous Purchases Benefit : 1.5% cashback ($0.015 per dollar spent)  \\n• Sign -Up Bonus Offer:  Card opening bonus with 15,000 points if card member spends \\n$1000 in first 3 months.  \\n• Total Benefit : $0.02 per dollar spent.'),\n",
       " Document(page_content='1193684&pid=IR&affname=NerdWallet%2C%20Inc.&sid=14011830016&pmc=795&BUID=CCG&\\nCRTV=controlaffcps&MPR=03  \\n• Keywords : fuel, fleet, trucking , Gas Benefit , diesel , Gas  \\n4. Evolve Platinum Card  \\n• Credit Type : Credit Card  \\n• Product ID: CR00 4  \\n• Annual Fee : Not applicable . \\n• APR : 18.5% to 29.99%  \\n• Credit Score Requirement : High  \\n• Benefits : \\no Dining Benefit: 1.5% cashback ($0.015 per dollar spent)  \\no Gas Benefit : 1.5% cashback ($0.015 per dollar spent)  \\no Travel Benefit: 1.5% cashback ($0.015 per dollar spent)  \\no Grocery Benefit : 1.5% cashback ($0.015 per dollar spent)  \\no All Other Purchases Benefit : 1.5% cashback ($0.015 per dollar spent)  o Miscellaneous Purchases Benefit : 1.5% cashback ($0.015 per dollar spent)  \\n• Sign -Up Bonus Offer:  Card opening bonus with 15,000 points if card member spends \\n$1000 in first 3 months.  \\n• Total Benefit : $0.02 per dollar spent.  \\n• Miscellaneous Information : 0% Apr on purchases for first 12 months and balance'),\n",
       " Document(page_content='CRTV=controlaffcps&MPR=03  \\n• Keywords : fuel, fleet, trucking , Gas Benefit , diesel , Gas  \\n4. Evolve Platinum Card  \\n• Credit Type : Credit Card  \\n• Product ID: CR00 4  \\n• Annual Fee : Not applicable . \\n• APR : 18.5% to 29.99%  \\n• Credit Score Requirement : High  \\n• Benefits : \\no Dining Benefit: 1.5% cashback ($0.015 per dollar spent)  \\no Gas Benefit : 1.5% cashback ($0.015 per dollar spent)  \\no Travel Benefit: 1.5% cashback ($0.015 per dollar spent)  \\no Grocery Benefit : 1.5% cashback ($0.015 per dollar spent)  \\no All Other Purchases Benefit : 1.5% cashback ($0.015 per dollar spent)  o Miscellaneous Purchases Benefit : 1.5% cashback ($0.015 per dollar spent)  \\n• Sign -Up Bonus Offer:  Card opening bonus with 15,000 points if card member spends \\n$1000 in first 3 months.  \\n• Total Benefit : $0.02 per dollar spent.  \\n• Miscellaneous Information : 0% Apr on purchases for first 12 months and balance \\ntransfer and 2 % intro balance transfer fee until Aug31,2024'),\n",
       " Document(page_content='4. Evolve Platinum Card  \\n• Credit Type : Credit Card  \\n• Product ID: CR00 4  \\n• Annual Fee : Not applicable . \\n• APR : 18.5% to 29.99%  \\n• Credit Score Requirement : High  \\n• Benefits : \\no Dining Benefit: 1.5% cashback ($0.015 per dollar spent)  \\no Gas Benefit : 1.5% cashback ($0.015 per dollar spent)  \\no Travel Benefit: 1.5% cashback ($0.015 per dollar spent)  \\no Grocery Benefit : 1.5% cashback ($0.015 per dollar spent)  \\no All Other Purchases Benefit : 1.5% cashback ($0.015 per dollar spent)  o Miscellaneous Purchases Benefit : 1.5% cashback ($0.015 per dollar spent)  \\n• Sign -Up Bonus Offer:  Card opening bonus with 15,000 points if card member spends \\n$1000 in first 3 months.  \\n• Total Benefit : $0.02 per dollar spent.  \\n• Miscellaneous Information : 0% Apr on purchases for first 12 months and balance \\ntransfer and 2 % intro balance transfer fee until Aug31,2024  \\n• Link : https://creditcards.chase.com/rewards -credit -\\ncards/sapphire/preferred?CELL=6PH3'),\n",
       " Document(page_content='• Annual Fee : Not applicable . \\n• APR : 18.5% to 29.99%  \\n• Credit Score Requirement : High  \\n• Benefits : \\no Dining Benefit: 1.5% cashback ($0.015 per dollar spent)  \\no Gas Benefit : 1.5% cashback ($0.015 per dollar spent)  \\no Travel Benefit: 1.5% cashback ($0.015 per dollar spent)  \\no Grocery Benefit : 1.5% cashback ($0.015 per dollar spent)  \\no All Other Purchases Benefit : 1.5% cashback ($0.015 per dollar spent)  o Miscellaneous Purchases Benefit : 1.5% cashback ($0.015 per dollar spent)  \\n• Sign -Up Bonus Offer:  Card opening bonus with 15,000 points if card member spends \\n$1000 in first 3 months.  \\n• Total Benefit : $0.02 per dollar spent.  \\n• Miscellaneous Information : 0% Apr on purchases for first 12 months and balance \\ntransfer and 2 % intro balance transfer fee until Aug31,2024  \\n• Link : https://creditcards.chase.com/rewards -credit -\\ncards/sapphire/preferred?CELL=6PH3  \\n• Keywords:  premier  rewards, maximum rewards , unlimited rewards , points credit card,'),\n",
       " Document(page_content='• Credit Score Requirement : High  \\n• Benefits : \\no Dining Benefit: 1.5% cashback ($0.015 per dollar spent)  \\no Gas Benefit : 1.5% cashback ($0.015 per dollar spent)  \\no Travel Benefit: 1.5% cashback ($0.015 per dollar spent)  \\no Grocery Benefit : 1.5% cashback ($0.015 per dollar spent)  \\no All Other Purchases Benefit : 1.5% cashback ($0.015 per dollar spent)  o Miscellaneous Purchases Benefit : 1.5% cashback ($0.015 per dollar spent)  \\n• Sign -Up Bonus Offer:  Card opening bonus with 15,000 points if card member spends \\n$1000 in first 3 months.  \\n• Total Benefit : $0.02 per dollar spent.  \\n• Miscellaneous Information : 0% Apr on purchases for first 12 months and balance \\ntransfer and 2 % intro balance transfer fee until Aug31,2024  \\n• Link : https://creditcards.chase.com/rewards -credit -\\ncards/sapphire/preferred?CELL=6PH3  \\n• Keywords:  premier  rewards, maximum rewards , unlimited rewards , points credit card, \\nconcierge service , unlimited rewards , top rewards'),\n",
       " Document(page_content='• Benefits : \\no Dining Benefit: 1.5% cashback ($0.015 per dollar spent)  \\no Gas Benefit : 1.5% cashback ($0.015 per dollar spent)  \\no Travel Benefit: 1.5% cashback ($0.015 per dollar spent)  \\no Grocery Benefit : 1.5% cashback ($0.015 per dollar spent)  \\no All Other Purchases Benefit : 1.5% cashback ($0.015 per dollar spent)  o Miscellaneous Purchases Benefit : 1.5% cashback ($0.015 per dollar spent)  \\n• Sign -Up Bonus Offer:  Card opening bonus with 15,000 points if card member spends \\n$1000 in first 3 months.  \\n• Total Benefit : $0.02 per dollar spent.  \\n• Miscellaneous Information : 0% Apr on purchases for first 12 months and balance \\ntransfer and 2 % intro balance transfer fee until Aug31,2024  \\n• Link : https://creditcards.chase.com/rewards -credit -\\ncards/sapphire/preferred?CELL=6PH3  \\n• Keywords:  premier  rewards, maximum rewards , unlimited rewards , points credit card, \\nconcierge service , unlimited rewards , top rewards  \\n5. Evolve Blue Cash Card'),\n",
       " Document(page_content='o Dining Benefit: 1.5% cashback ($0.015 per dollar spent)  \\no Gas Benefit : 1.5% cashback ($0.015 per dollar spent)  \\no Travel Benefit: 1.5% cashback ($0.015 per dollar spent)  \\no Grocery Benefit : 1.5% cashback ($0.015 per dollar spent)  \\no All Other Purchases Benefit : 1.5% cashback ($0.015 per dollar spent)  o Miscellaneous Purchases Benefit : 1.5% cashback ($0.015 per dollar spent)  \\n• Sign -Up Bonus Offer:  Card opening bonus with 15,000 points if card member spends \\n$1000 in first 3 months.  \\n• Total Benefit : $0.02 per dollar spent.  \\n• Miscellaneous Information : 0% Apr on purchases for first 12 months and balance \\ntransfer and 2 % intro balance transfer fee until Aug31,2024  \\n• Link : https://creditcards.chase.com/rewards -credit -\\ncards/sapphire/preferred?CELL=6PH3  \\n• Keywords:  premier  rewards, maximum rewards , unlimited rewards , points credit card, \\nconcierge service , unlimited rewards , top rewards  \\n5. Evolve Blue Cash Card  \\n• Credit Type : Credit Card'),\n",
       " Document(page_content='o Gas Benefit : 1.5% cashback ($0.015 per dollar spent)  \\no Travel Benefit: 1.5% cashback ($0.015 per dollar spent)  \\no Grocery Benefit : 1.5% cashback ($0.015 per dollar spent)  \\no All Other Purchases Benefit : 1.5% cashback ($0.015 per dollar spent)  o Miscellaneous Purchases Benefit : 1.5% cashback ($0.015 per dollar spent)  \\n• Sign -Up Bonus Offer:  Card opening bonus with 15,000 points if card member spends \\n$1000 in first 3 months.  \\n• Total Benefit : $0.02 per dollar spent.  \\n• Miscellaneous Information : 0% Apr on purchases for first 12 months and balance \\ntransfer and 2 % intro balance transfer fee until Aug31,2024  \\n• Link : https://creditcards.chase.com/rewards -credit -\\ncards/sapphire/preferred?CELL=6PH3  \\n• Keywords:  premier  rewards, maximum rewards , unlimited rewards , points credit card, \\nconcierge service , unlimited rewards , top rewards  \\n5. Evolve Blue Cash Card  \\n• Credit Type : Credit Card  \\n• Product ID: CR00 5  \\n• Annual Fee : $99 \\n• APR : 18.5% to 29.99%'),\n",
       " Document(page_content='o Travel Benefit: 1.5% cashback ($0.015 per dollar spent)  \\no Grocery Benefit : 1.5% cashback ($0.015 per dollar spent)  \\no All Other Purchases Benefit : 1.5% cashback ($0.015 per dollar spent)  o Miscellaneous Purchases Benefit : 1.5% cashback ($0.015 per dollar spent)  \\n• Sign -Up Bonus Offer:  Card opening bonus with 15,000 points if card member spends \\n$1000 in first 3 months.  \\n• Total Benefit : $0.02 per dollar spent.  \\n• Miscellaneous Information : 0% Apr on purchases for first 12 months and balance \\ntransfer and 2 % intro balance transfer fee until Aug31,2024  \\n• Link : https://creditcards.chase.com/rewards -credit -\\ncards/sapphire/preferred?CELL=6PH3  \\n• Keywords:  premier  rewards, maximum rewards , unlimited rewards , points credit card, \\nconcierge service , unlimited rewards , top rewards  \\n5. Evolve Blue Cash Card  \\n• Credit Type : Credit Card  \\n• Product ID: CR00 5  \\n• Annual Fee : $99 \\n• APR : 18.5% to 29.99%  \\n• Credit Score Requirement : High  \\n• Benefits :'),\n",
       " Document(page_content='o Grocery Benefit : 1.5% cashback ($0.015 per dollar spent)  \\no All Other Purchases Benefit : 1.5% cashback ($0.015 per dollar spent)  o Miscellaneous Purchases Benefit : 1.5% cashback ($0.015 per dollar spent)  \\n• Sign -Up Bonus Offer:  Card opening bonus with 15,000 points if card member spends \\n$1000 in first 3 months.  \\n• Total Benefit : $0.02 per dollar spent.  \\n• Miscellaneous Information : 0% Apr on purchases for first 12 months and balance \\ntransfer and 2 % intro balance transfer fee until Aug31,2024  \\n• Link : https://creditcards.chase.com/rewards -credit -\\ncards/sapphire/preferred?CELL=6PH3  \\n• Keywords:  premier  rewards, maximum rewards , unlimited rewards , points credit card, \\nconcierge service , unlimited rewards , top rewards  \\n5. Evolve Blue Cash Card  \\n• Credit Type : Credit Card  \\n• Product ID: CR00 5  \\n• Annual Fee : $99 \\n• APR : 18.5% to 29.99%  \\n• Credit Score Requirement : High  \\n• Benefits : \\no Dining Benefit: 1% cashback ($0.01 per dollar spent)'),\n",
       " Document(page_content='o All Other Purchases Benefit : 1.5% cashback ($0.015 per dollar spent)  o Miscellaneous Purchases Benefit : 1.5% cashback ($0.015 per dollar spent)  \\n• Sign -Up Bonus Offer:  Card opening bonus with 15,000 points if card member spends \\n$1000 in first 3 months.  \\n• Total Benefit : $0.02 per dollar spent.  \\n• Miscellaneous Information : 0% Apr on purchases for first 12 months and balance \\ntransfer and 2 % intro balance transfer fee until Aug31,2024  \\n• Link : https://creditcards.chase.com/rewards -credit -\\ncards/sapphire/preferred?CELL=6PH3  \\n• Keywords:  premier  rewards, maximum rewards , unlimited rewards , points credit card, \\nconcierge service , unlimited rewards , top rewards  \\n5. Evolve Blue Cash Card  \\n• Credit Type : Credit Card  \\n• Product ID: CR00 5  \\n• Annual Fee : $99 \\n• APR : 18.5% to 29.99%  \\n• Credit Score Requirement : High  \\n• Benefits : \\no Dining Benefit: 1% cashback ($0.01 per dollar spent)  \\no Gas Benefit : 1% cashback ($0.01 per dollar spent)'),\n",
       " Document(page_content='• Sign -Up Bonus Offer:  Card opening bonus with 15,000 points if card member spends \\n$1000 in first 3 months.  \\n• Total Benefit : $0.02 per dollar spent.  \\n• Miscellaneous Information : 0% Apr on purchases for first 12 months and balance \\ntransfer and 2 % intro balance transfer fee until Aug31,2024  \\n• Link : https://creditcards.chase.com/rewards -credit -\\ncards/sapphire/preferred?CELL=6PH3  \\n• Keywords:  premier  rewards, maximum rewards , unlimited rewards , points credit card, \\nconcierge service , unlimited rewards , top rewards  \\n5. Evolve Blue Cash Card  \\n• Credit Type : Credit Card  \\n• Product ID: CR00 5  \\n• Annual Fee : $99 \\n• APR : 18.5% to 29.99%  \\n• Credit Score Requirement : High  \\n• Benefits : \\no Dining Benefit: 1% cashback ($0.01 per dollar spent)  \\no Gas Benefit : 1% cashback ($0.01 per dollar spent)  \\no Travel Benefit: 1% cashback ($0.01 per dollar spent)  \\no Grocery Benefit : 6% cashback  ($0.06 per dollar spent)'),\n",
       " Document(page_content='$1000 in first 3 months.  \\n• Total Benefit : $0.02 per dollar spent.  \\n• Miscellaneous Information : 0% Apr on purchases for first 12 months and balance \\ntransfer and 2 % intro balance transfer fee until Aug31,2024  \\n• Link : https://creditcards.chase.com/rewards -credit -\\ncards/sapphire/preferred?CELL=6PH3  \\n• Keywords:  premier  rewards, maximum rewards , unlimited rewards , points credit card, \\nconcierge service , unlimited rewards , top rewards  \\n5. Evolve Blue Cash Card  \\n• Credit Type : Credit Card  \\n• Product ID: CR00 5  \\n• Annual Fee : $99 \\n• APR : 18.5% to 29.99%  \\n• Credit Score Requirement : High  \\n• Benefits : \\no Dining Benefit: 1% cashback ($0.01 per dollar spent)  \\no Gas Benefit : 1% cashback ($0.01 per dollar spent)  \\no Travel Benefit: 1% cashback ($0.01 per dollar spent)  \\no Grocery Benefit : 6% cashback  ($0.06 per dollar spent)  \\no All Other Purchases Benefit : 1% cashback ($0.01 per dollar spent)'),\n",
       " Document(page_content='• Total Benefit : $0.02 per dollar spent.  \\n• Miscellaneous Information : 0% Apr on purchases for first 12 months and balance \\ntransfer and 2 % intro balance transfer fee until Aug31,2024  \\n• Link : https://creditcards.chase.com/rewards -credit -\\ncards/sapphire/preferred?CELL=6PH3  \\n• Keywords:  premier  rewards, maximum rewards , unlimited rewards , points credit card, \\nconcierge service , unlimited rewards , top rewards  \\n5. Evolve Blue Cash Card  \\n• Credit Type : Credit Card  \\n• Product ID: CR00 5  \\n• Annual Fee : $99 \\n• APR : 18.5% to 29.99%  \\n• Credit Score Requirement : High  \\n• Benefits : \\no Dining Benefit: 1% cashback ($0.01 per dollar spent)  \\no Gas Benefit : 1% cashback ($0.01 per dollar spent)  \\no Travel Benefit: 1% cashback ($0.01 per dollar spent)  \\no Grocery Benefit : 6% cashback  ($0.06 per dollar spent)  \\no All Other Purchases Benefit : 1% cashback ($0.01 per dollar spent)  \\no Miscellaneous Purchases Benefit : 1% cashback ($0.01 per dollar spent)'),\n",
       " Document(page_content='transfer and 2 % intro balance transfer fee until Aug31,2024  \\n• Link : https://creditcards.chase.com/rewards -credit -\\ncards/sapphire/preferred?CELL=6PH3  \\n• Keywords:  premier  rewards, maximum rewards , unlimited rewards , points credit card, \\nconcierge service , unlimited rewards , top rewards  \\n5. Evolve Blue Cash Card  \\n• Credit Type : Credit Card  \\n• Product ID: CR00 5  \\n• Annual Fee : $99 \\n• APR : 18.5% to 29.99%  \\n• Credit Score Requirement : High  \\n• Benefits : \\no Dining Benefit: 1% cashback ($0.01 per dollar spent)  \\no Gas Benefit : 1% cashback ($0.01 per dollar spent)  \\no Travel Benefit: 1% cashback ($0.01 per dollar spent)  \\no Grocery Benefit : 6% cashback  ($0.06 per dollar spent)  \\no All Other Purchases Benefit : 1% cashback ($0.01 per dollar spent)  \\no Miscellaneous Purchases Benefit : 1% cashback ($0.01 per dollar spent)  \\n• Sign -Up Bonus Offer:  Card opening bonus with 30,000 points if card member spends \\n$3000 in first 3 months.'),\n",
       " Document(page_content='• Link : https://creditcards.chase.com/rewards -credit -\\ncards/sapphire/preferred?CELL=6PH3  \\n• Keywords:  premier  rewards, maximum rewards , unlimited rewards , points credit card, \\nconcierge service , unlimited rewards , top rewards  \\n5. Evolve Blue Cash Card  \\n• Credit Type : Credit Card  \\n• Product ID: CR00 5  \\n• Annual Fee : $99 \\n• APR : 18.5% to 29.99%  \\n• Credit Score Requirement : High  \\n• Benefits : \\no Dining Benefit: 1% cashback ($0.01 per dollar spent)  \\no Gas Benefit : 1% cashback ($0.01 per dollar spent)  \\no Travel Benefit: 1% cashback ($0.01 per dollar spent)  \\no Grocery Benefit : 6% cashback  ($0.06 per dollar spent)  \\no All Other Purchases Benefit : 1% cashback ($0.01 per dollar spent)  \\no Miscellaneous Purchases Benefit : 1% cashback ($0.01 per dollar spent)  \\n• Sign -Up Bonus Offer:  Card opening bonus with 30,000 points if card member spends \\n$3000 in first 3 months.  \\n• Total Benefit : $0.03 per dollar spent.'),\n",
       " Document(page_content='cards/sapphire/preferred?CELL=6PH3  \\n• Keywords:  premier  rewards, maximum rewards , unlimited rewards , points credit card, \\nconcierge service , unlimited rewards , top rewards  \\n5. Evolve Blue Cash Card  \\n• Credit Type : Credit Card  \\n• Product ID: CR00 5  \\n• Annual Fee : $99 \\n• APR : 18.5% to 29.99%  \\n• Credit Score Requirement : High  \\n• Benefits : \\no Dining Benefit: 1% cashback ($0.01 per dollar spent)  \\no Gas Benefit : 1% cashback ($0.01 per dollar spent)  \\no Travel Benefit: 1% cashback ($0.01 per dollar spent)  \\no Grocery Benefit : 6% cashback  ($0.06 per dollar spent)  \\no All Other Purchases Benefit : 1% cashback ($0.01 per dollar spent)  \\no Miscellaneous Purchases Benefit : 1% cashback ($0.01 per dollar spent)  \\n• Sign -Up Bonus Offer:  Card opening bonus with 30,000 points if card member spends \\n$3000 in first 3 months.  \\n• Total Benefit : $0.03 per dollar spent.  \\n• Miscellaneous Information : 0% Apr on purchases for first 12 months and balance'),\n",
       " Document(page_content='concierge service , unlimited rewards , top rewards  \\n5. Evolve Blue Cash Card  \\n• Credit Type : Credit Card  \\n• Product ID: CR00 5  \\n• Annual Fee : $99 \\n• APR : 18.5% to 29.99%  \\n• Credit Score Requirement : High  \\n• Benefits : \\no Dining Benefit: 1% cashback ($0.01 per dollar spent)  \\no Gas Benefit : 1% cashback ($0.01 per dollar spent)  \\no Travel Benefit: 1% cashback ($0.01 per dollar spent)  \\no Grocery Benefit : 6% cashback  ($0.06 per dollar spent)  \\no All Other Purchases Benefit : 1% cashback ($0.01 per dollar spent)  \\no Miscellaneous Purchases Benefit : 1% cashback ($0.01 per dollar spent)  \\n• Sign -Up Bonus Offer:  Card opening bonus with 30,000 points if card member spends \\n$3000 in first 3 months.  \\n• Total Benefit : $0.03 per dollar spent.  \\n• Miscellaneous Information : 0% Apr on purchases for first 12 months and balance \\ntransfer and 2 % intro balance transfer fee until Aug31,  2024.'),\n",
       " Document(page_content='5. Evolve Blue Cash Card  \\n• Credit Type : Credit Card  \\n• Product ID: CR00 5  \\n• Annual Fee : $99 \\n• APR : 18.5% to 29.99%  \\n• Credit Score Requirement : High  \\n• Benefits : \\no Dining Benefit: 1% cashback ($0.01 per dollar spent)  \\no Gas Benefit : 1% cashback ($0.01 per dollar spent)  \\no Travel Benefit: 1% cashback ($0.01 per dollar spent)  \\no Grocery Benefit : 6% cashback  ($0.06 per dollar spent)  \\no All Other Purchases Benefit : 1% cashback ($0.01 per dollar spent)  \\no Miscellaneous Purchases Benefit : 1% cashback ($0.01 per dollar spent)  \\n• Sign -Up Bonus Offer:  Card opening bonus with 30,000 points if card member spends \\n$3000 in first 3 months.  \\n• Total Benefit : $0.03 per dollar spent.  \\n• Miscellaneous Information : 0% Apr on purchases for first 12 months and balance \\ntransfer and 2 % intro balance transfer fee until Aug31,  2024.  \\n• Link:  https://www.nerdwallet.com/reviews/credit -cards/american -express -blue -cash -\\npreferred'),\n",
       " Document(page_content='• Product ID: CR00 5  \\n• Annual Fee : $99 \\n• APR : 18.5% to 29.99%  \\n• Credit Score Requirement : High  \\n• Benefits : \\no Dining Benefit: 1% cashback ($0.01 per dollar spent)  \\no Gas Benefit : 1% cashback ($0.01 per dollar spent)  \\no Travel Benefit: 1% cashback ($0.01 per dollar spent)  \\no Grocery Benefit : 6% cashback  ($0.06 per dollar spent)  \\no All Other Purchases Benefit : 1% cashback ($0.01 per dollar spent)  \\no Miscellaneous Purchases Benefit : 1% cashback ($0.01 per dollar spent)  \\n• Sign -Up Bonus Offer:  Card opening bonus with 30,000 points if card member spends \\n$3000 in first 3 months.  \\n• Total Benefit : $0.03 per dollar spent.  \\n• Miscellaneous Information : 0% Apr on purchases for first 12 months and balance \\ntransfer and 2 % intro balance transfer fee until Aug31,  2024.  \\n• Link:  https://www.nerdwallet.com/reviews/credit -cards/american -express -blue -cash -\\npreferred  \\n• Keywords:  Grocery Benefit , supermarket , food shopping , health food , deli, dairy ,'),\n",
       " Document(page_content='• Benefits : \\no Dining Benefit: 1% cashback ($0.01 per dollar spent)  \\no Gas Benefit : 1% cashback ($0.01 per dollar spent)  \\no Travel Benefit: 1% cashback ($0.01 per dollar spent)  \\no Grocery Benefit : 6% cashback  ($0.06 per dollar spent)  \\no All Other Purchases Benefit : 1% cashback ($0.01 per dollar spent)  \\no Miscellaneous Purchases Benefit : 1% cashback ($0.01 per dollar spent)  \\n• Sign -Up Bonus Offer:  Card opening bonus with 30,000 points if card member spends \\n$3000 in first 3 months.  \\n• Total Benefit : $0.03 per dollar spent.  \\n• Miscellaneous Information : 0% Apr on purchases for first 12 months and balance \\ntransfer and 2 % intro balance transfer fee until Aug31,  2024.  \\n• Link:  https://www.nerdwallet.com/reviews/credit -cards/american -express -blue -cash -\\npreferred  \\n• Keywords:  Grocery Benefit , supermarket , food shopping , health food , deli, dairy , \\nbakery , fresh produce , online Grocery Benefit , farmers market , convenience store'),\n",
       " Document(page_content='o Dining Benefit: 1% cashback ($0.01 per dollar spent)  \\no Gas Benefit : 1% cashback ($0.01 per dollar spent)  \\no Travel Benefit: 1% cashback ($0.01 per dollar spent)  \\no Grocery Benefit : 6% cashback  ($0.06 per dollar spent)  \\no All Other Purchases Benefit : 1% cashback ($0.01 per dollar spent)  \\no Miscellaneous Purchases Benefit : 1% cashback ($0.01 per dollar spent)  \\n• Sign -Up Bonus Offer:  Card opening bonus with 30,000 points if card member spends \\n$3000 in first 3 months.  \\n• Total Benefit : $0.03 per dollar spent.  \\n• Miscellaneous Information : 0% Apr on purchases for first 12 months and balance \\ntransfer and 2 % intro balance transfer fee until Aug31,  2024.  \\n• Link:  https://www.nerdwallet.com/reviews/credit -cards/american -express -blue -cash -\\npreferred  \\n• Keywords:  Grocery Benefit , supermarket , food shopping , health food , deli, dairy , \\nbakery , fresh produce , online Grocery Benefit , farmers market , convenience store  \\n6. Evolve Renovation Card'),\n",
       " Document(page_content='o Gas Benefit : 1% cashback ($0.01 per dollar spent)  \\no Travel Benefit: 1% cashback ($0.01 per dollar spent)  \\no Grocery Benefit : 6% cashback  ($0.06 per dollar spent)  \\no All Other Purchases Benefit : 1% cashback ($0.01 per dollar spent)  \\no Miscellaneous Purchases Benefit : 1% cashback ($0.01 per dollar spent)  \\n• Sign -Up Bonus Offer:  Card opening bonus with 30,000 points if card member spends \\n$3000 in first 3 months.  \\n• Total Benefit : $0.03 per dollar spent.  \\n• Miscellaneous Information : 0% Apr on purchases for first 12 months and balance \\ntransfer and 2 % intro balance transfer fee until Aug31,  2024.  \\n• Link:  https://www.nerdwallet.com/reviews/credit -cards/american -express -blue -cash -\\npreferred  \\n• Keywords:  Grocery Benefit , supermarket , food shopping , health food , deli, dairy , \\nbakery , fresh produce , online Grocery Benefit , farmers market , convenience store  \\n6. Evolve Renovation Card  \\n• Credit Type : Credit Card  \\n• Product ID: CR00 6'),\n",
       " Document(page_content='o Travel Benefit: 1% cashback ($0.01 per dollar spent)  \\no Grocery Benefit : 6% cashback  ($0.06 per dollar spent)  \\no All Other Purchases Benefit : 1% cashback ($0.01 per dollar spent)  \\no Miscellaneous Purchases Benefit : 1% cashback ($0.01 per dollar spent)  \\n• Sign -Up Bonus Offer:  Card opening bonus with 30,000 points if card member spends \\n$3000 in first 3 months.  \\n• Total Benefit : $0.03 per dollar spent.  \\n• Miscellaneous Information : 0% Apr on purchases for first 12 months and balance \\ntransfer and 2 % intro balance transfer fee until Aug31,  2024.  \\n• Link:  https://www.nerdwallet.com/reviews/credit -cards/american -express -blue -cash -\\npreferred  \\n• Keywords:  Grocery Benefit , supermarket , food shopping , health food , deli, dairy , \\nbakery , fresh produce , online Grocery Benefit , farmers market , convenience store  \\n6. Evolve Renovation Card  \\n• Credit Type : Credit Card  \\n• Product ID: CR00 6  \\n• Annual Fee : Not applicable . \\n• APR : 18% to 29.99%'),\n",
       " Document(page_content='o Grocery Benefit : 6% cashback  ($0.06 per dollar spent)  \\no All Other Purchases Benefit : 1% cashback ($0.01 per dollar spent)  \\no Miscellaneous Purchases Benefit : 1% cashback ($0.01 per dollar spent)  \\n• Sign -Up Bonus Offer:  Card opening bonus with 30,000 points if card member spends \\n$3000 in first 3 months.  \\n• Total Benefit : $0.03 per dollar spent.  \\n• Miscellaneous Information : 0% Apr on purchases for first 12 months and balance \\ntransfer and 2 % intro balance transfer fee until Aug31,  2024.  \\n• Link:  https://www.nerdwallet.com/reviews/credit -cards/american -express -blue -cash -\\npreferred  \\n• Keywords:  Grocery Benefit , supermarket , food shopping , health food , deli, dairy , \\nbakery , fresh produce , online Grocery Benefit , farmers market , convenience store  \\n6. Evolve Renovation Card  \\n• Credit Type : Credit Card  \\n• Product ID: CR00 6  \\n• Annual Fee : Not applicable . \\n• APR : 18% to 29.99%  \\n• Credit Score Requirement : Medium  \\n• Benefits :'),\n",
       " Document(page_content='o All Other Purchases Benefit : 1% cashback ($0.01 per dollar spent)  \\no Miscellaneous Purchases Benefit : 1% cashback ($0.01 per dollar spent)  \\n• Sign -Up Bonus Offer:  Card opening bonus with 30,000 points if card member spends \\n$3000 in first 3 months.  \\n• Total Benefit : $0.03 per dollar spent.  \\n• Miscellaneous Information : 0% Apr on purchases for first 12 months and balance \\ntransfer and 2 % intro balance transfer fee until Aug31,  2024.  \\n• Link:  https://www.nerdwallet.com/reviews/credit -cards/american -express -blue -cash -\\npreferred  \\n• Keywords:  Grocery Benefit , supermarket , food shopping , health food , deli, dairy , \\nbakery , fresh produce , online Grocery Benefit , farmers market , convenience store  \\n6. Evolve Renovation Card  \\n• Credit Type : Credit Card  \\n• Product ID: CR00 6  \\n• Annual Fee : Not applicable . \\n• APR : 18% to 29.99%  \\n• Credit Score Requirement : Medium  \\n• Benefits : \\no Dining Benefit: 1% cashback ($0.01 per dollar spent)'),\n",
       " Document(page_content='• Sign -Up Bonus Offer:  Card opening bonus with 30,000 points if card member spends \\n$3000 in first 3 months.  \\n• Total Benefit : $0.03 per dollar spent.  \\n• Miscellaneous Information : 0% Apr on purchases for first 12 months and balance \\ntransfer and 2 % intro balance transfer fee until Aug31,  2024.  \\n• Link:  https://www.nerdwallet.com/reviews/credit -cards/american -express -blue -cash -\\npreferred  \\n• Keywords:  Grocery Benefit , supermarket , food shopping , health food , deli, dairy , \\nbakery , fresh produce , online Grocery Benefit , farmers market , convenience store  \\n6. Evolve Renovation Card  \\n• Credit Type : Credit Card  \\n• Product ID: CR00 6  \\n• Annual Fee : Not applicable . \\n• APR : 18% to 29.99%  \\n• Credit Score Requirement : Medium  \\n• Benefits : \\no Dining Benefit: 1% cashback ($0.01 per dollar spent)  \\no Gas Benefit : 1% cashback ($0.01 per dollar spent)  o Travel Benefit: 1% cashback ($0.01 per dollar spent)'),\n",
       " Document(page_content='$3000 in first 3 months.  \\n• Total Benefit : $0.03 per dollar spent.  \\n• Miscellaneous Information : 0% Apr on purchases for first 12 months and balance \\ntransfer and 2 % intro balance transfer fee until Aug31,  2024.  \\n• Link:  https://www.nerdwallet.com/reviews/credit -cards/american -express -blue -cash -\\npreferred  \\n• Keywords:  Grocery Benefit , supermarket , food shopping , health food , deli, dairy , \\nbakery , fresh produce , online Grocery Benefit , farmers market , convenience store  \\n6. Evolve Renovation Card  \\n• Credit Type : Credit Card  \\n• Product ID: CR00 6  \\n• Annual Fee : Not applicable . \\n• APR : 18% to 29.99%  \\n• Credit Score Requirement : Medium  \\n• Benefits : \\no Dining Benefit: 1% cashback ($0.01 per dollar spent)  \\no Gas Benefit : 1% cashback ($0.01 per dollar spent)  o Travel Benefit: 1% cashback ($0.01 per dollar spent)  \\no Grocery Benefit : 1% cashback ($0.01 per dollar spent)  \\no All Other Purchases Benefit : 1% cashback ($0.01 per dollar spent)'),\n",
       " Document(page_content='• Miscellaneous Information : 0% Apr on purchases for first 12 months and balance \\ntransfer and 2 % intro balance transfer fee until Aug31,  2024.  \\n• Link:  https://www.nerdwallet.com/reviews/credit -cards/american -express -blue -cash -\\npreferred  \\n• Keywords:  Grocery Benefit , supermarket , food shopping , health food , deli, dairy , \\nbakery , fresh produce , online Grocery Benefit , farmers market , convenience store  \\n6. Evolve Renovation Card  \\n• Credit Type : Credit Card  \\n• Product ID: CR00 6  \\n• Annual Fee : Not applicable . \\n• APR : 18% to 29.99%  \\n• Credit Score Requirement : Medium  \\n• Benefits : \\no Dining Benefit: 1% cashback ($0.01 per dollar spent)  \\no Gas Benefit : 1% cashback ($0.01 per dollar spent)  o Travel Benefit: 1% cashback ($0.01 per dollar spent)  \\no Grocery Benefit : 1% cashback ($0.01 per dollar spent)  \\no All Other Purchases Benefit : 1% cashback ($0.01 per dollar spent)  \\no Home Improvement : 3% cashback ($0.0 3 per dollar spent)'),\n",
       " Document(page_content='transfer and 2 % intro balance transfer fee until Aug31,  2024.  \\n• Link:  https://www.nerdwallet.com/reviews/credit -cards/american -express -blue -cash -\\npreferred  \\n• Keywords:  Grocery Benefit , supermarket , food shopping , health food , deli, dairy , \\nbakery , fresh produce , online Grocery Benefit , farmers market , convenience store  \\n6. Evolve Renovation Card  \\n• Credit Type : Credit Card  \\n• Product ID: CR00 6  \\n• Annual Fee : Not applicable . \\n• APR : 18% to 29.99%  \\n• Credit Score Requirement : Medium  \\n• Benefits : \\no Dining Benefit: 1% cashback ($0.01 per dollar spent)  \\no Gas Benefit : 1% cashback ($0.01 per dollar spent)  o Travel Benefit: 1% cashback ($0.01 per dollar spent)  \\no Grocery Benefit : 1% cashback ($0.01 per dollar spent)  \\no All Other Purchases Benefit : 1% cashback ($0.01 per dollar spent)  \\no Home Improvement : 3% cashback ($0.0 3 per dollar spent)  \\n• Sign -Up Bonus Offer:  Enjoy an interest -free promotion for up to 36 months on'),\n",
       " Document(page_content='• Link:  https://www.nerdwallet.com/reviews/credit -cards/american -express -blue -cash -\\npreferred  \\n• Keywords:  Grocery Benefit , supermarket , food shopping , health food , deli, dairy , \\nbakery , fresh produce , online Grocery Benefit , farmers market , convenience store  \\n6. Evolve Renovation Card  \\n• Credit Type : Credit Card  \\n• Product ID: CR00 6  \\n• Annual Fee : Not applicable . \\n• APR : 18% to 29.99%  \\n• Credit Score Requirement : Medium  \\n• Benefits : \\no Dining Benefit: 1% cashback ($0.01 per dollar spent)  \\no Gas Benefit : 1% cashback ($0.01 per dollar spent)  o Travel Benefit: 1% cashback ($0.01 per dollar spent)  \\no Grocery Benefit : 1% cashback ($0.01 per dollar spent)  \\no All Other Purchases Benefit : 1% cashback ($0.01 per dollar spent)  \\no Home Improvement : 3% cashback ($0.0 3 per dollar spent)  \\n• Sign -Up Bonus Offer:  Enjoy an interest -free promotion for up to 36 months on \\npurchases over $1,500.  \\n• Total Benefit : $0.015 per dollar spent.'),\n",
       " Document(page_content='preferred  \\n• Keywords:  Grocery Benefit , supermarket , food shopping , health food , deli, dairy , \\nbakery , fresh produce , online Grocery Benefit , farmers market , convenience store  \\n6. Evolve Renovation Card  \\n• Credit Type : Credit Card  \\n• Product ID: CR00 6  \\n• Annual Fee : Not applicable . \\n• APR : 18% to 29.99%  \\n• Credit Score Requirement : Medium  \\n• Benefits : \\no Dining Benefit: 1% cashback ($0.01 per dollar spent)  \\no Gas Benefit : 1% cashback ($0.01 per dollar spent)  o Travel Benefit: 1% cashback ($0.01 per dollar spent)  \\no Grocery Benefit : 1% cashback ($0.01 per dollar spent)  \\no All Other Purchases Benefit : 1% cashback ($0.01 per dollar spent)  \\no Home Improvement : 3% cashback ($0.0 3 per dollar spent)  \\n• Sign -Up Bonus Offer:  Enjoy an interest -free promotion for up to 36 months on \\npurchases over $1,500.  \\n• Total Benefit : $0.015 per dollar spent.  \\n• Miscellaneous Information : 0% Apr on purchases for first 12 months and balance'),\n",
       " Document(page_content='bakery , fresh produce , online Grocery Benefit , farmers market , convenience store  \\n6. Evolve Renovation Card  \\n• Credit Type : Credit Card  \\n• Product ID: CR00 6  \\n• Annual Fee : Not applicable . \\n• APR : 18% to 29.99%  \\n• Credit Score Requirement : Medium  \\n• Benefits : \\no Dining Benefit: 1% cashback ($0.01 per dollar spent)  \\no Gas Benefit : 1% cashback ($0.01 per dollar spent)  o Travel Benefit: 1% cashback ($0.01 per dollar spent)  \\no Grocery Benefit : 1% cashback ($0.01 per dollar spent)  \\no All Other Purchases Benefit : 1% cashback ($0.01 per dollar spent)  \\no Home Improvement : 3% cashback ($0.0 3 per dollar spent)  \\n• Sign -Up Bonus Offer:  Enjoy an interest -free promotion for up to 36 months on \\npurchases over $1,500.  \\n• Total Benefit : $0.015 per dollar spent.  \\n• Miscellaneous Information : 0% Apr on purchases for first 12 months and balance \\ntransfer and 2 % intro balance transfer fee until Nov30,2024. Then 18.00% to 29.99% \\nstandard variable purchase APR.'),\n",
       " Document(page_content='6. Evolve Renovation Card  \\n• Credit Type : Credit Card  \\n• Product ID: CR00 6  \\n• Annual Fee : Not applicable . \\n• APR : 18% to 29.99%  \\n• Credit Score Requirement : Medium  \\n• Benefits : \\no Dining Benefit: 1% cashback ($0.01 per dollar spent)  \\no Gas Benefit : 1% cashback ($0.01 per dollar spent)  o Travel Benefit: 1% cashback ($0.01 per dollar spent)  \\no Grocery Benefit : 1% cashback ($0.01 per dollar spent)  \\no All Other Purchases Benefit : 1% cashback ($0.01 per dollar spent)  \\no Home Improvement : 3% cashback ($0.0 3 per dollar spent)  \\n• Sign -Up Bonus Offer:  Enjoy an interest -free promotion for up to 36 months on \\npurchases over $1,500.  \\n• Total Benefit : $0.015 per dollar spent.  \\n• Miscellaneous Information : 0% Apr on purchases for first 12 months and balance \\ntransfer and 2 % intro balance transfer fee until Nov30,2024. Then 18.00% to 29.99% \\nstandard variable purchase APR.  \\n• Link:  https://www.homedepot.com/myaccount/thdcreditcard'),\n",
       " Document(page_content='• Product ID: CR00 6  \\n• Annual Fee : Not applicable . \\n• APR : 18% to 29.99%  \\n• Credit Score Requirement : Medium  \\n• Benefits : \\no Dining Benefit: 1% cashback ($0.01 per dollar spent)  \\no Gas Benefit : 1% cashback ($0.01 per dollar spent)  o Travel Benefit: 1% cashback ($0.01 per dollar spent)  \\no Grocery Benefit : 1% cashback ($0.01 per dollar spent)  \\no All Other Purchases Benefit : 1% cashback ($0.01 per dollar spent)  \\no Home Improvement : 3% cashback ($0.0 3 per dollar spent)  \\n• Sign -Up Bonus Offer:  Enjoy an interest -free promotion for up to 36 months on \\npurchases over $1,500.  \\n• Total Benefit : $0.015 per dollar spent.  \\n• Miscellaneous Information : 0% Apr on purchases for first 12 months and balance \\ntransfer and 2 % intro balance transfer fee until Nov30,2024. Then 18.00% to 29.99% \\nstandard variable purchase APR.  \\n• Link:  https://www.homedepot.com/myaccount/thdcreditcard  \\n• Keywords:  Electric Appliances , home building products , home improvement stores or'),\n",
       " Document(page_content='• Annual Fee : Not applicable . \\n• APR : 18% to 29.99%  \\n• Credit Score Requirement : Medium  \\n• Benefits : \\no Dining Benefit: 1% cashback ($0.01 per dollar spent)  \\no Gas Benefit : 1% cashback ($0.01 per dollar spent)  o Travel Benefit: 1% cashback ($0.01 per dollar spent)  \\no Grocery Benefit : 1% cashback ($0.01 per dollar spent)  \\no All Other Purchases Benefit : 1% cashback ($0.01 per dollar spent)  \\no Home Improvement : 3% cashback ($0.0 3 per dollar spent)  \\n• Sign -Up Bonus Offer:  Enjoy an interest -free promotion for up to 36 months on \\npurchases over $1,500.  \\n• Total Benefit : $0.015 per dollar spent.  \\n• Miscellaneous Information : 0% Apr on purchases for first 12 months and balance \\ntransfer and 2 % intro balance transfer fee until Nov30,2024. Then 18.00% to 29.99% \\nstandard variable purchase APR.  \\n• Link:  https://www.homedepot.com/myaccount/thdcreditcard  \\n• Keywords:  Electric Appliances , home building products , home improvement stores or \\nmerchants.'),\n",
       " Document(page_content='• APR : 18% to 29.99%  \\n• Credit Score Requirement : Medium  \\n• Benefits : \\no Dining Benefit: 1% cashback ($0.01 per dollar spent)  \\no Gas Benefit : 1% cashback ($0.01 per dollar spent)  o Travel Benefit: 1% cashback ($0.01 per dollar spent)  \\no Grocery Benefit : 1% cashback ($0.01 per dollar spent)  \\no All Other Purchases Benefit : 1% cashback ($0.01 per dollar spent)  \\no Home Improvement : 3% cashback ($0.0 3 per dollar spent)  \\n• Sign -Up Bonus Offer:  Enjoy an interest -free promotion for up to 36 months on \\npurchases over $1,500.  \\n• Total Benefit : $0.015 per dollar spent.  \\n• Miscellaneous Information : 0% Apr on purchases for first 12 months and balance \\ntransfer and 2 % intro balance transfer fee until Nov30,2024. Then 18.00% to 29.99% \\nstandard variable purchase APR.  \\n• Link:  https://www.homedepot.com/myaccount/thdcreditcard  \\n• Keywords:  Electric Appliances , home building products , home improvement stores or \\nmerchants.  \\n7. Evolve Personal Loan'),\n",
       " Document(page_content='• Credit Score Requirement : Medium  \\n• Benefits : \\no Dining Benefit: 1% cashback ($0.01 per dollar spent)  \\no Gas Benefit : 1% cashback ($0.01 per dollar spent)  o Travel Benefit: 1% cashback ($0.01 per dollar spent)  \\no Grocery Benefit : 1% cashback ($0.01 per dollar spent)  \\no All Other Purchases Benefit : 1% cashback ($0.01 per dollar spent)  \\no Home Improvement : 3% cashback ($0.0 3 per dollar spent)  \\n• Sign -Up Bonus Offer:  Enjoy an interest -free promotion for up to 36 months on \\npurchases over $1,500.  \\n• Total Benefit : $0.015 per dollar spent.  \\n• Miscellaneous Information : 0% Apr on purchases for first 12 months and balance \\ntransfer and 2 % intro balance transfer fee until Nov30,2024. Then 18.00% to 29.99% \\nstandard variable purchase APR.  \\n• Link:  https://www.homedepot.com/myaccount/thdcreditcard  \\n• Keywords:  Electric Appliances , home building products , home improvement stores or \\nmerchants.  \\n7. Evolve Personal Loan  \\n• Credit Type : Personal Loan'),\n",
       " Document(page_content='• Benefits : \\no Dining Benefit: 1% cashback ($0.01 per dollar spent)  \\no Gas Benefit : 1% cashback ($0.01 per dollar spent)  o Travel Benefit: 1% cashback ($0.01 per dollar spent)  \\no Grocery Benefit : 1% cashback ($0.01 per dollar spent)  \\no All Other Purchases Benefit : 1% cashback ($0.01 per dollar spent)  \\no Home Improvement : 3% cashback ($0.0 3 per dollar spent)  \\n• Sign -Up Bonus Offer:  Enjoy an interest -free promotion for up to 36 months on \\npurchases over $1,500.  \\n• Total Benefit : $0.015 per dollar spent.  \\n• Miscellaneous Information : 0% Apr on purchases for first 12 months and balance \\ntransfer and 2 % intro balance transfer fee until Nov30,2024. Then 18.00% to 29.99% \\nstandard variable purchase APR.  \\n• Link:  https://www.homedepot.com/myaccount/thdcreditcard  \\n• Keywords:  Electric Appliances , home building products , home improvement stores or \\nmerchants.  \\n7. Evolve Personal Loan  \\n• Credit Type : Personal Loan  \\n• Product ID: CR00 7'),\n",
       " Document(page_content='o Dining Benefit: 1% cashback ($0.01 per dollar spent)  \\no Gas Benefit : 1% cashback ($0.01 per dollar spent)  o Travel Benefit: 1% cashback ($0.01 per dollar spent)  \\no Grocery Benefit : 1% cashback ($0.01 per dollar spent)  \\no All Other Purchases Benefit : 1% cashback ($0.01 per dollar spent)  \\no Home Improvement : 3% cashback ($0.0 3 per dollar spent)  \\n• Sign -Up Bonus Offer:  Enjoy an interest -free promotion for up to 36 months on \\npurchases over $1,500.  \\n• Total Benefit : $0.015 per dollar spent.  \\n• Miscellaneous Information : 0% Apr on purchases for first 12 months and balance \\ntransfer and 2 % intro balance transfer fee until Nov30,2024. Then 18.00% to 29.99% \\nstandard variable purchase APR.  \\n• Link:  https://www.homedepot.com/myaccount/thdcreditcard  \\n• Keywords:  Electric Appliances , home building products , home improvement stores or \\nmerchants.  \\n7. Evolve Personal Loan  \\n• Credit Type : Personal Loan  \\n• Product ID: CR00 7  \\n• Annual Fee : Not applicable .'),\n",
       " Document(page_content='o Gas Benefit : 1% cashback ($0.01 per dollar spent)  o Travel Benefit: 1% cashback ($0.01 per dollar spent)  \\no Grocery Benefit : 1% cashback ($0.01 per dollar spent)  \\no All Other Purchases Benefit : 1% cashback ($0.01 per dollar spent)  \\no Home Improvement : 3% cashback ($0.0 3 per dollar spent)  \\n• Sign -Up Bonus Offer:  Enjoy an interest -free promotion for up to 36 months on \\npurchases over $1,500.  \\n• Total Benefit : $0.015 per dollar spent.  \\n• Miscellaneous Information : 0% Apr on purchases for first 12 months and balance \\ntransfer and 2 % intro balance transfer fee until Nov30,2024. Then 18.00% to 29.99% \\nstandard variable purchase APR.  \\n• Link:  https://www.homedepot.com/myaccount/thdcreditcard  \\n• Keywords:  Electric Appliances , home building products , home improvement stores or \\nmerchants.  \\n7. Evolve Personal Loan  \\n• Credit Type : Personal Loan  \\n• Product ID: CR00 7  \\n• Annual Fee : Not applicable . \\n• APR : 8% to 31.99%  depending on credit score'),\n",
       " Document(page_content='o Grocery Benefit : 1% cashback ($0.01 per dollar spent)  \\no All Other Purchases Benefit : 1% cashback ($0.01 per dollar spent)  \\no Home Improvement : 3% cashback ($0.0 3 per dollar spent)  \\n• Sign -Up Bonus Offer:  Enjoy an interest -free promotion for up to 36 months on \\npurchases over $1,500.  \\n• Total Benefit : $0.015 per dollar spent.  \\n• Miscellaneous Information : 0% Apr on purchases for first 12 months and balance \\ntransfer and 2 % intro balance transfer fee until Nov30,2024. Then 18.00% to 29.99% \\nstandard variable purchase APR.  \\n• Link:  https://www.homedepot.com/myaccount/thdcreditcard  \\n• Keywords:  Electric Appliances , home building products , home improvement stores or \\nmerchants.  \\n7. Evolve Personal Loan  \\n• Credit Type : Personal Loan  \\n• Product ID: CR00 7  \\n• Annual Fee : Not applicable . \\n• APR : 8% to 31.99%  depending on credit score  \\n• Credit Score Requirement : Low to High  \\n• Loan Amount : $1,000.00  to $30,000.00'),\n",
       " Document(page_content='o All Other Purchases Benefit : 1% cashback ($0.01 per dollar spent)  \\no Home Improvement : 3% cashback ($0.0 3 per dollar spent)  \\n• Sign -Up Bonus Offer:  Enjoy an interest -free promotion for up to 36 months on \\npurchases over $1,500.  \\n• Total Benefit : $0.015 per dollar spent.  \\n• Miscellaneous Information : 0% Apr on purchases for first 12 months and balance \\ntransfer and 2 % intro balance transfer fee until Nov30,2024. Then 18.00% to 29.99% \\nstandard variable purchase APR.  \\n• Link:  https://www.homedepot.com/myaccount/thdcreditcard  \\n• Keywords:  Electric Appliances , home building products , home improvement stores or \\nmerchants.  \\n7. Evolve Personal Loan  \\n• Credit Type : Personal Loan  \\n• Product ID: CR00 7  \\n• Annual Fee : Not applicable . \\n• APR : 8% to 31.99%  depending on credit score  \\n• Credit Score Requirement : Low to High  \\n• Loan Amount : $1,000.00  to $30,000.00  \\n• Loan Duration: 12 Months to 48 Months  (Select from 12, 18, 24, 30, 36, 42 or 48 \\nmonths ).'),\n",
       " Document(page_content='o Home Improvement : 3% cashback ($0.0 3 per dollar spent)  \\n• Sign -Up Bonus Offer:  Enjoy an interest -free promotion for up to 36 months on \\npurchases over $1,500.  \\n• Total Benefit : $0.015 per dollar spent.  \\n• Miscellaneous Information : 0% Apr on purchases for first 12 months and balance \\ntransfer and 2 % intro balance transfer fee until Nov30,2024. Then 18.00% to 29.99% \\nstandard variable purchase APR.  \\n• Link:  https://www.homedepot.com/myaccount/thdcreditcard  \\n• Keywords:  Electric Appliances , home building products , home improvement stores or \\nmerchants.  \\n7. Evolve Personal Loan  \\n• Credit Type : Personal Loan  \\n• Product ID: CR00 7  \\n• Annual Fee : Not applicable . \\n• APR : 8% to 31.99%  depending on credit score  \\n• Credit Score Requirement : Low to High  \\n• Loan Amount : $1,000.00  to $30,000.00  \\n• Loan Duration: 12 Months to 48 Months  (Select from 12, 18, 24, 30, 36, 42 or 48 \\nmonths ). \\n• Sign -Up Bonus Offer:  Not applicable . \\n• Benefits : Not applicable .'),\n",
       " Document(page_content='• Sign -Up Bonus Offer:  Enjoy an interest -free promotion for up to 36 months on \\npurchases over $1,500.  \\n• Total Benefit : $0.015 per dollar spent.  \\n• Miscellaneous Information : 0% Apr on purchases for first 12 months and balance \\ntransfer and 2 % intro balance transfer fee until Nov30,2024. Then 18.00% to 29.99% \\nstandard variable purchase APR.  \\n• Link:  https://www.homedepot.com/myaccount/thdcreditcard  \\n• Keywords:  Electric Appliances , home building products , home improvement stores or \\nmerchants.  \\n7. Evolve Personal Loan  \\n• Credit Type : Personal Loan  \\n• Product ID: CR00 7  \\n• Annual Fee : Not applicable . \\n• APR : 8% to 31.99%  depending on credit score  \\n• Credit Score Requirement : Low to High  \\n• Loan Amount : $1,000.00  to $30,000.00  \\n• Loan Duration: 12 Months to 48 Months  (Select from 12, 18, 24, 30, 36, 42 or 48 \\nmonths ). \\n• Sign -Up Bonus Offer:  Not applicable . \\n• Benefits : Not applicable . \\n• Total Benefit : Not applicable .'),\n",
       " Document(page_content='purchases over $1,500.  \\n• Total Benefit : $0.015 per dollar spent.  \\n• Miscellaneous Information : 0% Apr on purchases for first 12 months and balance \\ntransfer and 2 % intro balance transfer fee until Nov30,2024. Then 18.00% to 29.99% \\nstandard variable purchase APR.  \\n• Link:  https://www.homedepot.com/myaccount/thdcreditcard  \\n• Keywords:  Electric Appliances , home building products , home improvement stores or \\nmerchants.  \\n7. Evolve Personal Loan  \\n• Credit Type : Personal Loan  \\n• Product ID: CR00 7  \\n• Annual Fee : Not applicable . \\n• APR : 8% to 31.99%  depending on credit score  \\n• Credit Score Requirement : Low to High  \\n• Loan Amount : $1,000.00  to $30,000.00  \\n• Loan Duration: 12 Months to 48 Months  (Select from 12, 18, 24, 30, 36, 42 or 48 \\nmonths ). \\n• Sign -Up Bonus Offer:  Not applicable . \\n• Benefits : Not applicable . \\n• Total Benefit : Not applicable . \\n• Miscellaneous Information : Your APR will be between 8.00% and 31.99% based on'),\n",
       " Document(page_content='• Miscellaneous Information : 0% Apr on purchases for first 12 months and balance \\ntransfer and 2 % intro balance transfer fee until Nov30,2024. Then 18.00% to 29.99% \\nstandard variable purchase APR.  \\n• Link:  https://www.homedepot.com/myaccount/thdcreditcard  \\n• Keywords:  Electric Appliances , home building products , home improvement stores or \\nmerchants.  \\n7. Evolve Personal Loan  \\n• Credit Type : Personal Loan  \\n• Product ID: CR00 7  \\n• Annual Fee : Not applicable . \\n• APR : 8% to 31.99%  depending on credit score  \\n• Credit Score Requirement : Low to High  \\n• Loan Amount : $1,000.00  to $30,000.00  \\n• Loan Duration: 12 Months to 48 Months  (Select from 12, 18, 24, 30, 36, 42 or 48 \\nmonths ). \\n• Sign -Up Bonus Offer:  Not applicable . \\n• Benefits : Not applicable . \\n• Total Benefit : Not applicable . \\n• Miscellaneous Information : Your APR will be between 8.00% and 31.99% based on \\ncreditworthiness at time of application for loan terms of 12 -48 months. No origination'),\n",
       " Document(page_content='standard variable purchase APR.  \\n• Link:  https://www.homedepot.com/myaccount/thdcreditcard  \\n• Keywords:  Electric Appliances , home building products , home improvement stores or \\nmerchants.  \\n7. Evolve Personal Loan  \\n• Credit Type : Personal Loan  \\n• Product ID: CR00 7  \\n• Annual Fee : Not applicable . \\n• APR : 8% to 31.99%  depending on credit score  \\n• Credit Score Requirement : Low to High  \\n• Loan Amount : $1,000.00  to $30,000.00  \\n• Loan Duration: 12 Months to 48 Months  (Select from 12, 18, 24, 30, 36, 42 or 48 \\nmonths ). \\n• Sign -Up Bonus Offer:  Not applicable . \\n• Benefits : Not applicable . \\n• Total Benefit : Not applicable . \\n• Miscellaneous Information : Your APR will be between 8.00% and 31.99% based on \\ncreditworthiness at time of application for loan terms of 12 -48 months. No origination \\nfees, no closing costs, no fees at all if you pay on time.  For instance, if you are  approved'),\n",
       " Document(page_content='• Link:  https://www.homedepot.com/myaccount/thdcreditcard  \\n• Keywords:  Electric Appliances , home building products , home improvement stores or \\nmerchants.  \\n7. Evolve Personal Loan  \\n• Credit Type : Personal Loan  \\n• Product ID: CR00 7  \\n• Annual Fee : Not applicable . \\n• APR : 8% to 31.99%  depending on credit score  \\n• Credit Score Requirement : Low to High  \\n• Loan Amount : $1,000.00  to $30,000.00  \\n• Loan Duration: 12 Months to 48 Months  (Select from 12, 18, 24, 30, 36, 42 or 48 \\nmonths ). \\n• Sign -Up Bonus Offer:  Not applicable . \\n• Benefits : Not applicable . \\n• Total Benefit : Not applicable . \\n• Miscellaneous Information : Your APR will be between 8.00% and 31.99% based on \\ncreditworthiness at time of application for loan terms of 12 -48 months. No origination \\nfees, no closing costs, no fees at all if you pay on time.  For instance, if you are  approved \\nfor a $10,000 loan with a  17.00% APR for a 48 -month term, your monthly payment will'),\n",
       " Document(page_content='• Keywords:  Electric Appliances , home building products , home improvement stores or \\nmerchants.  \\n7. Evolve Personal Loan  \\n• Credit Type : Personal Loan  \\n• Product ID: CR00 7  \\n• Annual Fee : Not applicable . \\n• APR : 8% to 31.99%  depending on credit score  \\n• Credit Score Requirement : Low to High  \\n• Loan Amount : $1,000.00  to $30,000.00  \\n• Loan Duration: 12 Months to 48 Months  (Select from 12, 18, 24, 30, 36, 42 or 48 \\nmonths ). \\n• Sign -Up Bonus Offer:  Not applicable . \\n• Benefits : Not applicable . \\n• Total Benefit : Not applicable . \\n• Miscellaneous Information : Your APR will be between 8.00% and 31.99% based on \\ncreditworthiness at time of application for loan terms of 12 -48 months. No origination \\nfees, no closing costs, no fees at all if you pay on time.  For instance, if you are  approved \\nfor a $10,000 loan with a  17.00% APR for a 48 -month term, your monthly payment will \\nbe around $288.55. The estimated total amount paid for the loan in this case would be'),\n",
       " Document(page_content='merchants.  \\n7. Evolve Personal Loan  \\n• Credit Type : Personal Loan  \\n• Product ID: CR00 7  \\n• Annual Fee : Not applicable . \\n• APR : 8% to 31.99%  depending on credit score  \\n• Credit Score Requirement : Low to High  \\n• Loan Amount : $1,000.00  to $30,000.00  \\n• Loan Duration: 12 Months to 48 Months  (Select from 12, 18, 24, 30, 36, 42 or 48 \\nmonths ). \\n• Sign -Up Bonus Offer:  Not applicable . \\n• Benefits : Not applicable . \\n• Total Benefit : Not applicable . \\n• Miscellaneous Information : Your APR will be between 8.00% and 31.99% based on \\ncreditworthiness at time of application for loan terms of 12 -48 months. No origination \\nfees, no closing costs, no fees at all if you pay on time.  For instance, if you are  approved \\nfor a $10,000 loan with a  17.00% APR for a 48 -month term, your monthly payment will \\nbe around $288.55. The estimated total amount paid for the loan in this case would be \\napproximately $13,850.42.'),\n",
       " Document(page_content='• Credit Type : Personal Loan  \\n• Product ID: CR00 7  \\n• Annual Fee : Not applicable . \\n• APR : 8% to 31.99%  depending on credit score  \\n• Credit Score Requirement : Low to High  \\n• Loan Amount : $1,000.00  to $30,000.00  \\n• Loan Duration: 12 Months to 48 Months  (Select from 12, 18, 24, 30, 36, 42 or 48 \\nmonths ). \\n• Sign -Up Bonus Offer:  Not applicable . \\n• Benefits : Not applicable . \\n• Total Benefit : Not applicable . \\n• Miscellaneous Information : Your APR will be between 8.00% and 31.99% based on \\ncreditworthiness at time of application for loan terms of 12 -48 months. No origination \\nfees, no closing costs, no fees at all if you pay on time.  For instance, if you are  approved \\nfor a $10,000 loan with a  17.00% APR for a 48 -month term, your monthly payment will \\nbe around $288.55. The estimated total amount paid for the loan in this case would be \\napproximately $13,850.42.  \\n• Link : https://www.nerdwallet.com/reviews/loans/personal -loans/discover -personal -loans'),\n",
       " Document(page_content='• APR : 8% to 31.99%  depending on credit score  \\n• Credit Score Requirement : Low to High  \\n• Loan Amount : $1,000.00  to $30,000.00  \\n• Loan Duration: 12 Months to 48 Months  (Select from 12, 18, 24, 30, 36, 42 or 48 \\nmonths ). \\n• Sign -Up Bonus Offer:  Not applicable . \\n• Benefits : Not applicable . \\n• Total Benefit : Not applicable . \\n• Miscellaneous Information : Your APR will be between 8.00% and 31.99% based on \\ncreditworthiness at time of application for loan terms of 12 -48 months. No origination \\nfees, no closing costs, no fees at all if you pay on time.  For instance, if you are  approved \\nfor a $10,000 loan with a  17.00% APR for a 48 -month term, your monthly payment will \\nbe around $288.55. The estimated total amount paid for the loan in this case would be \\napproximately $13,850.42.  \\n• Link : https://www.nerdwallet.com/reviews/loans/personal -loans/discover -personal -loans  \\n• Keywords:  cash loan , installment loan , online loan , debt consolidation loan , home'),\n",
       " Document(page_content='• Loan Amount : $1,000.00  to $30,000.00  \\n• Loan Duration: 12 Months to 48 Months  (Select from 12, 18, 24, 30, 36, 42 or 48 \\nmonths ). \\n• Sign -Up Bonus Offer:  Not applicable . \\n• Benefits : Not applicable . \\n• Total Benefit : Not applicable . \\n• Miscellaneous Information : Your APR will be between 8.00% and 31.99% based on \\ncreditworthiness at time of application for loan terms of 12 -48 months. No origination \\nfees, no closing costs, no fees at all if you pay on time.  For instance, if you are  approved \\nfor a $10,000 loan with a  17.00% APR for a 48 -month term, your monthly payment will \\nbe around $288.55. The estimated total amount paid for the loan in this case would be \\napproximately $13,850.42.  \\n• Link : https://www.nerdwallet.com/reviews/loans/personal -loans/discover -personal -loans  \\n• Keywords:  cash loan , installment loan , online loan , debt consolidation loan , home  \\nimprovement loan , medical loan , wedding loan , emergency loan , large one-time expense,'),\n",
       " Document(page_content='months ). \\n• Sign -Up Bonus Offer:  Not applicable . \\n• Benefits : Not applicable . \\n• Total Benefit : Not applicable . \\n• Miscellaneous Information : Your APR will be between 8.00% and 31.99% based on \\ncreditworthiness at time of application for loan terms of 12 -48 months. No origination \\nfees, no closing costs, no fees at all if you pay on time.  For instance, if you are  approved \\nfor a $10,000 loan with a  17.00% APR for a 48 -month term, your monthly payment will \\nbe around $288.55. The estimated total amount paid for the loan in this case would be \\napproximately $13,850.42.  \\n• Link : https://www.nerdwallet.com/reviews/loans/personal -loans/discover -personal -loans  \\n• Keywords:  cash loan , installment loan , online loan , debt consolidation loan , home  \\nimprovement loan , medical loan , wedding loan , emergency loan , large one-time expense, \\nmonthly installment, fixed period, line of credit, not student loan, not for education  \\npurpose  \\n8. Evolve Student Loan'),\n",
       " Document(page_content='• Benefits : Not applicable . \\n• Total Benefit : Not applicable . \\n• Miscellaneous Information : Your APR will be between 8.00% and 31.99% based on \\ncreditworthiness at time of application for loan terms of 12 -48 months. No origination \\nfees, no closing costs, no fees at all if you pay on time.  For instance, if you are  approved \\nfor a $10,000 loan with a  17.00% APR for a 48 -month term, your monthly payment will \\nbe around $288.55. The estimated total amount paid for the loan in this case would be \\napproximately $13,850.42.  \\n• Link : https://www.nerdwallet.com/reviews/loans/personal -loans/discover -personal -loans  \\n• Keywords:  cash loan , installment loan , online loan , debt consolidation loan , home  \\nimprovement loan , medical loan , wedding loan , emergency loan , large one-time expense, \\nmonthly installment, fixed period, line of credit, not student loan, not for education  \\npurpose  \\n8. Evolve Student Loan  \\n• Credit Type : Student Loan  \\n• Product ID: CR00 8'),\n",
       " Document(page_content='• Total Benefit : Not applicable . \\n• Miscellaneous Information : Your APR will be between 8.00% and 31.99% based on \\ncreditworthiness at time of application for loan terms of 12 -48 months. No origination \\nfees, no closing costs, no fees at all if you pay on time.  For instance, if you are  approved \\nfor a $10,000 loan with a  17.00% APR for a 48 -month term, your monthly payment will \\nbe around $288.55. The estimated total amount paid for the loan in this case would be \\napproximately $13,850.42.  \\n• Link : https://www.nerdwallet.com/reviews/loans/personal -loans/discover -personal -loans  \\n• Keywords:  cash loan , installment loan , online loan , debt consolidation loan , home  \\nimprovement loan , medical loan , wedding loan , emergency loan , large one-time expense, \\nmonthly installment, fixed period, line of credit, not student loan, not for education  \\npurpose  \\n8. Evolve Student Loan  \\n• Credit Type : Student Loan  \\n• Product ID: CR00 8  \\n• Annual Fee : Not applicable .'),\n",
       " Document(page_content='creditworthiness at time of application for loan terms of 12 -48 months. No origination \\nfees, no closing costs, no fees at all if you pay on time.  For instance, if you are  approved \\nfor a $10,000 loan with a  17.00% APR for a 48 -month term, your monthly payment will \\nbe around $288.55. The estimated total amount paid for the loan in this case would be \\napproximately $13,850.42.  \\n• Link : https://www.nerdwallet.com/reviews/loans/personal -loans/discover -personal -loans  \\n• Keywords:  cash loan , installment loan , online loan , debt consolidation loan , home  \\nimprovement loan , medical loan , wedding loan , emergency loan , large one-time expense, \\nmonthly installment, fixed period, line of credit, not student loan, not for education  \\npurpose  \\n8. Evolve Student Loan  \\n• Credit Type : Student Loan  \\n• Product ID: CR00 8  \\n• Annual Fee : Not applicable . \\n• APR : 4.15%  • Credit Score Requirement : Medium to High  \\n• Loan Amount : $10,000.00 to $100,000.00'),\n",
       " Document(page_content='fees, no closing costs, no fees at all if you pay on time.  For instance, if you are  approved \\nfor a $10,000 loan with a  17.00% APR for a 48 -month term, your monthly payment will \\nbe around $288.55. The estimated total amount paid for the loan in this case would be \\napproximately $13,850.42.  \\n• Link : https://www.nerdwallet.com/reviews/loans/personal -loans/discover -personal -loans  \\n• Keywords:  cash loan , installment loan , online loan , debt consolidation loan , home  \\nimprovement loan , medical loan , wedding loan , emergency loan , large one-time expense, \\nmonthly installment, fixed period, line of credit, not student loan, not for education  \\npurpose  \\n8. Evolve Student Loan  \\n• Credit Type : Student Loan  \\n• Product ID: CR00 8  \\n• Annual Fee : Not applicable . \\n• APR : 4.15%  • Credit Score Requirement : Medium to High  \\n• Loan Amount : $10,000.00 to $100,000.00  \\n• Loan Duration: 3 Years to 12 Years  \\n• Sign -Up Bonus Offer:  Not applicable .'),\n",
       " Document(page_content='for a $10,000 loan with a  17.00% APR for a 48 -month term, your monthly payment will \\nbe around $288.55. The estimated total amount paid for the loan in this case would be \\napproximately $13,850.42.  \\n• Link : https://www.nerdwallet.com/reviews/loans/personal -loans/discover -personal -loans  \\n• Keywords:  cash loan , installment loan , online loan , debt consolidation loan , home  \\nimprovement loan , medical loan , wedding loan , emergency loan , large one-time expense, \\nmonthly installment, fixed period, line of credit, not student loan, not for education  \\npurpose  \\n8. Evolve Student Loan  \\n• Credit Type : Student Loan  \\n• Product ID: CR00 8  \\n• Annual Fee : Not applicable . \\n• APR : 4.15%  • Credit Score Requirement : Medium to High  \\n• Loan Amount : $10,000.00 to $100,000.00  \\n• Loan Duration: 3 Years to 12 Years  \\n• Sign -Up Bonus Offer:  Not applicable . \\n• Benefits : Not applicable . \\n• Total Benefit : Not applicable .'),\n",
       " Document(page_content='be around $288.55. The estimated total amount paid for the loan in this case would be \\napproximately $13,850.42.  \\n• Link : https://www.nerdwallet.com/reviews/loans/personal -loans/discover -personal -loans  \\n• Keywords:  cash loan , installment loan , online loan , debt consolidation loan , home  \\nimprovement loan , medical loan , wedding loan , emergency loan , large one-time expense, \\nmonthly installment, fixed period, line of credit, not student loan, not for education  \\npurpose  \\n8. Evolve Student Loan  \\n• Credit Type : Student Loan  \\n• Product ID: CR00 8  \\n• Annual Fee : Not applicable . \\n• APR : 4.15%  • Credit Score Requirement : Medium to High  \\n• Loan Amount : $10,000.00 to $100,000.00  \\n• Loan Duration: 3 Years to 12 Years  \\n• Sign -Up Bonus Offer:  Not applicable . \\n• Benefits : Not applicable . \\n• Total Benefit : Not applicable . \\n• Miscellaneous Information : Your APR will be 4.5%, fixed based on your'),\n",
       " Document(page_content='approximately $13,850.42.  \\n• Link : https://www.nerdwallet.com/reviews/loans/personal -loans/discover -personal -loans  \\n• Keywords:  cash loan , installment loan , online loan , debt consolidation loan , home  \\nimprovement loan , medical loan , wedding loan , emergency loan , large one-time expense, \\nmonthly installment, fixed period, line of credit, not student loan, not for education  \\npurpose  \\n8. Evolve Student Loan  \\n• Credit Type : Student Loan  \\n• Product ID: CR00 8  \\n• Annual Fee : Not applicable . \\n• APR : 4.15%  • Credit Score Requirement : Medium to High  \\n• Loan Amount : $10,000.00 to $100,000.00  \\n• Loan Duration: 3 Years to 12 Years  \\n• Sign -Up Bonus Offer:  Not applicable . \\n• Benefits : Not applicable . \\n• Total Benefit : Not applicable . \\n• Miscellaneous Information : Your APR will be 4.5%, fixed based on your \\ncreditworthiness at the time of application, for loan terms of up to 15 years. For instance,'),\n",
       " Document(page_content='• Link : https://www.nerdwallet.com/reviews/loans/personal -loans/discover -personal -loans  \\n• Keywords:  cash loan , installment loan , online loan , debt consolidation loan , home  \\nimprovement loan , medical loan , wedding loan , emergency loan , large one-time expense, \\nmonthly installment, fixed period, line of credit, not student loan, not for education  \\npurpose  \\n8. Evolve Student Loan  \\n• Credit Type : Student Loan  \\n• Product ID: CR00 8  \\n• Annual Fee : Not applicable . \\n• APR : 4.15%  • Credit Score Requirement : Medium to High  \\n• Loan Amount : $10,000.00 to $100,000.00  \\n• Loan Duration: 3 Years to 12 Years  \\n• Sign -Up Bonus Offer:  Not applicable . \\n• Benefits : Not applicable . \\n• Total Benefit : Not applicable . \\n• Miscellaneous Information : Your APR will be 4.5%, fixed based on your \\ncreditworthiness at the time of application, for loan terms of up to 15 years. For instance, \\nif you are  approved for a $30,000 loan with a 4.5% APR for a 10 -year term, your'),\n",
       " Document(page_content='• Keywords:  cash loan , installment loan , online loan , debt consolidation loan , home  \\nimprovement loan , medical loan , wedding loan , emergency loan , large one-time expense, \\nmonthly installment, fixed period, line of credit, not student loan, not for education  \\npurpose  \\n8. Evolve Student Loan  \\n• Credit Type : Student Loan  \\n• Product ID: CR00 8  \\n• Annual Fee : Not applicable . \\n• APR : 4.15%  • Credit Score Requirement : Medium to High  \\n• Loan Amount : $10,000.00 to $100,000.00  \\n• Loan Duration: 3 Years to 12 Years  \\n• Sign -Up Bonus Offer:  Not applicable . \\n• Benefits : Not applicable . \\n• Total Benefit : Not applicable . \\n• Miscellaneous Information : Your APR will be 4.5%, fixed based on your \\ncreditworthiness at the time of application, for loan terms of up to 15 years. For instance, \\nif you are  approved for a $30,000 loan with a 4.5% APR for a 10 -year term, your \\nmonthly payment will be $310.92. The estimated total amount paid for the loan in this'),\n",
       " Document(page_content='improvement loan , medical loan , wedding loan , emergency loan , large one-time expense, \\nmonthly installment, fixed period, line of credit, not student loan, not for education  \\npurpose  \\n8. Evolve Student Loan  \\n• Credit Type : Student Loan  \\n• Product ID: CR00 8  \\n• Annual Fee : Not applicable . \\n• APR : 4.15%  • Credit Score Requirement : Medium to High  \\n• Loan Amount : $10,000.00 to $100,000.00  \\n• Loan Duration: 3 Years to 12 Years  \\n• Sign -Up Bonus Offer:  Not applicable . \\n• Benefits : Not applicable . \\n• Total Benefit : Not applicable . \\n• Miscellaneous Information : Your APR will be 4.5%, fixed based on your \\ncreditworthiness at the time of application, for loan terms of up to 15 years. For instance, \\nif you are  approved for a $30,000 loan with a 4.5% APR for a 10 -year term, your \\nmonthly payment will be $310.92. The estimated total amount paid for the loan in this \\ncase would be $37,309.83. Please contact us to inquire about an Auto Debit discount.'),\n",
       " Document(page_content='monthly installment, fixed period, line of credit, not student loan, not for education  \\npurpose  \\n8. Evolve Student Loan  \\n• Credit Type : Student Loan  \\n• Product ID: CR00 8  \\n• Annual Fee : Not applicable . \\n• APR : 4.15%  • Credit Score Requirement : Medium to High  \\n• Loan Amount : $10,000.00 to $100,000.00  \\n• Loan Duration: 3 Years to 12 Years  \\n• Sign -Up Bonus Offer:  Not applicable . \\n• Benefits : Not applicable . \\n• Total Benefit : Not applicable . \\n• Miscellaneous Information : Your APR will be 4.5%, fixed based on your \\ncreditworthiness at the time of application, for loan terms of up to 15 years. For instance, \\nif you are  approved for a $30,000 loan with a 4.5% APR for a 10 -year term, your \\nmonthly payment will be $310.92. The estimated total amount paid for the loan in this \\ncase would be $37,309.83. Please contact us to inquire about an Auto Debit discount.  \\n• Link : https://www.nerdwallet.com/reviews/loans/student -loans/college -ave-student -loans'),\n",
       " Document(page_content='purpose  \\n8. Evolve Student Loan  \\n• Credit Type : Student Loan  \\n• Product ID: CR00 8  \\n• Annual Fee : Not applicable . \\n• APR : 4.15%  • Credit Score Requirement : Medium to High  \\n• Loan Amount : $10,000.00 to $100,000.00  \\n• Loan Duration: 3 Years to 12 Years  \\n• Sign -Up Bonus Offer:  Not applicable . \\n• Benefits : Not applicable . \\n• Total Benefit : Not applicable . \\n• Miscellaneous Information : Your APR will be 4.5%, fixed based on your \\ncreditworthiness at the time of application, for loan terms of up to 15 years. For instance, \\nif you are  approved for a $30,000 loan with a 4.5% APR for a 10 -year term, your \\nmonthly payment will be $310.92. The estimated total amount paid for the loan in this \\ncase would be $37,309.83. Please contact us to inquire about an Auto Debit discount.  \\n• Link : https://www.nerdwallet.com/reviews/loans/student -loans/college -ave-student -loans  \\n• Keywords:  cash loan, installment loan, online loan, monthly installment, fixed p eriod,'),\n",
       " Document(page_content='• Annual Fee : Not applicable . \\n• APR : 4.15%  • Credit Score Requirement : Medium to High  \\n• Loan Amount : $10,000.00 to $100,000.00  \\n• Loan Duration: 3 Years to 12 Years  \\n• Sign -Up Bonus Offer:  Not applicable . \\n• Benefits : Not applicable . \\n• Total Benefit : Not applicable . \\n• Miscellaneous Information : Your APR will be 4.5%, fixed based on your \\ncreditworthiness at the time of application, for loan terms of up to 15 years. For instance, \\nif you are  approved for a $30,000 loan with a 4.5% APR for a 10 -year term, your \\nmonthly payment will be $310.92. The estimated total amount paid for the loan in this \\ncase would be $37,309.83. Please contact us to inquire about an Auto Debit discount.  \\n• Link : https://www.nerdwallet.com/reviews/loans/student -loans/college -ave-student -loans  \\n• Keywords:  cash loan, installment loan, online loan, monthly installment, fixed p eriod, \\nstudent loan, education purpose , graduate  degree , higher education, Tuition and fees,'),\n",
       " Document(page_content='• Loan Amount : $10,000.00 to $100,000.00  \\n• Loan Duration: 3 Years to 12 Years  \\n• Sign -Up Bonus Offer:  Not applicable . \\n• Benefits : Not applicable . \\n• Total Benefit : Not applicable . \\n• Miscellaneous Information : Your APR will be 4.5%, fixed based on your \\ncreditworthiness at the time of application, for loan terms of up to 15 years. For instance, \\nif you are  approved for a $30,000 loan with a 4.5% APR for a 10 -year term, your \\nmonthly payment will be $310.92. The estimated total amount paid for the loan in this \\ncase would be $37,309.83. Please contact us to inquire about an Auto Debit discount.  \\n• Link : https://www.nerdwallet.com/reviews/loans/student -loans/college -ave-student -loans  \\n• Keywords:  cash loan, installment loan, online loan, monthly installment, fixed p eriod, \\nstudent loan, education purpose , graduate  degree , higher education, Tuition and fees, \\nRoom and boarding, expensive school, post-graduate degree.')]"
      ]
     },
     "execution_count": 99,
     "metadata": {},
     "output_type": "execute_result"
    }
   ],
   "source": [
    "docs"
   ]
  },
  {
   "cell_type": "code",
   "execution_count": 100,
   "metadata": {},
   "outputs": [
    {
     "data": {
      "text/plain": [
       "['3d0bd23152ba449598e4456324d1ff1b',\n",
       " 'afe8de8d262848108d4fabbd22cb2b5a',\n",
       " '6b4a4fe1d35341c4934f93755fc134c7',\n",
       " '2cf81af75d014cf99bdcabfa7b7cf28b',\n",
       " 'a27dfc9929ac43f0ae55b9dd03919efd',\n",
       " '303cd7ecbb0b4f7da8d260b12a89a2ff',\n",
       " '4f29dd7d77264efba5027f2ba6c2efdc',\n",
       " '6eaa9975d150498bb415984cf8b8fb39',\n",
       " 'f8361d8df9e34939912844a83b265566',\n",
       " '2fe1884ca40d48e9b6e42da29559e452',\n",
       " 'e6a6092e0ea44faa93573a48723918a2',\n",
       " '57c909462fd5455d805c24175edfdc8e',\n",
       " 'ee7b010d0aec4bcb96b97d67fb41ee46',\n",
       " '44a7c9578ca94b25975427c1da986ed1',\n",
       " 'f679323d2f8d40bd8f6767a7375fadfc',\n",
       " 'b1827f7e5e0f45fab15025a796aec7ac',\n",
       " 'dbdb9db4e5834c56bcf715aad3ac1a5c',\n",
       " 'dd1710c43a614a38b9d85fbef7d9f990',\n",
       " 'f9f2bf74f4d845d680cd12221a93c0c7',\n",
       " '12146a3b2782415590dff92bc4d87272',\n",
       " 'f465ad7ed4b2447fa8bc3f6058423971',\n",
       " '1b8ee712d8864b1797e755ef1f086367',\n",
       " '4504006685444cebae32d546006b720e',\n",
       " '145548995d4a46d5a774a037b21ece2f',\n",
       " 'c87bcf57f62a4866b9c871e29fd02c42',\n",
       " 'a734a47a5ebf44ac9952c867684b3c75',\n",
       " '58556625431846c58d98551fdf75be37',\n",
       " '0202692e3e5d4b309e9bff8f3b82f8a7',\n",
       " '99b312145b064d82b2649462a59f7dd8',\n",
       " '0b0c2954fc3a4064abbb2e52324e30b5',\n",
       " '74a31d81095d4f888164b96d8a10d30e',\n",
       " 'f50325e9516b4b47a6d56c433bff0337',\n",
       " 'f817781c2c0f46e79699d007d17cc8a6',\n",
       " '8e85da8f601243bcaf1f4a72524ec722',\n",
       " '39ea938261684409a36565bcfc5afa86',\n",
       " 'db22e00cfb6d47dc8e074f499bd201c4',\n",
       " '6bb864cc32194f0a857f103b1910eeac',\n",
       " '3edf364e1560402a929bbcf6df89de13',\n",
       " '5c366fde1f3c426ba2f2cebe94129002',\n",
       " '92301ef4b45542a4ade6a52c775a94da',\n",
       " '246e573c293e44b2a04ea1a2c9e88186',\n",
       " '4843231d291744539d42215829b9d8e5',\n",
       " '63dddaced8284fba9d2a1d42ba7d9eb6',\n",
       " 'cddad14ab0e3471d996679911fc75e8c',\n",
       " '67b00c7dfbe447c0924791295895963c',\n",
       " 'c23ed470764747e39c9baff942026b20',\n",
       " '3a6f18f613614a7ab7400a74f166b73d',\n",
       " 'f436f7b293d243f2964108f3dfba4c47',\n",
       " '164b590f5968434c8c608c2ae314c3d8',\n",
       " '892dc0dfab94480cbfe6202a2048b374',\n",
       " 'cbe9698103da420ab417da88d9a67b2c',\n",
       " '42cd26c6fb9e49eb872ac046bd475360',\n",
       " 'b5fdebac834943968beaea21ddbc12ce',\n",
       " '00d9420c8e2d4c7db3f5cb3ea8dc7530',\n",
       " 'b858fcd2351445309faa0a56a85ce187',\n",
       " '41e87692bca64156ad8d211c429a592b',\n",
       " '67fa764bf69441b6b67598198a92ceaa',\n",
       " 'cba0209e82c745f4a8a001c6e0b2d0e0',\n",
       " '59b944f5599d457a9086e963dc8b07f8',\n",
       " '4b6a70c1cdfa4b839c54d213a2a504b4',\n",
       " '238111c6bb1a428d9a6d88682c116ae6',\n",
       " 'd9db6b1575c0436cb766fa450154e733',\n",
       " '08aa0c15f37849d4beadbcd11857e8c0',\n",
       " '5c0a35431a9646268e1d6cf815e5074b',\n",
       " 'f2eea8ef6ae4444c9dc85567e1cca388',\n",
       " 'a0be93fe503b456daf68a62335b1f336',\n",
       " '6b4ec56b7a2747b59279aa057c8e3311',\n",
       " '31ee0f1a373749d1954be44c70930eb0',\n",
       " '6c3a4c1eb44245ffbc1df0d084bad847',\n",
       " '42e966642b684ebb9971b3e7a835bf31',\n",
       " '55dfb3eeca464a6bafeafe3146ddc9f2',\n",
       " 'c1eb6de03b954b5eb87363f146e7a3f5',\n",
       " '8233a760e93c465aaab24ddd0df5060c',\n",
       " 'e9f822b54dd24b49b4b001c00b88d0a7',\n",
       " 'f4b9b9662856458ba0a3de424fab7728',\n",
       " 'da9dbc0febad432c99643db01b48b710',\n",
       " '718303c68ba44d5a9ed4c1a444b880ca',\n",
       " 'b675c5acac7447729bac8475d1697fa6',\n",
       " '53785b0de3174a26b46452cb85ebbafd',\n",
       " '6ff58949788c437d9afc79e879f05687',\n",
       " '1c5a0873f4db4a34a344a2f8bc732ad0',\n",
       " '46292bae43bc44128eed850fcc4664cc',\n",
       " '83bd510d30394bdcbe43ae4a3a8d51b5',\n",
       " '59cca496353e49119a2b4c71105e8dcc',\n",
       " '638b675c9903441f8839a26a904d3090',\n",
       " 'baf5120a692640e5bd4b5e9073930657',\n",
       " 'a0ee11a5bf6547e1b2947688ad44facf',\n",
       " '897723758a0941dc93495dfbe4ba7dd5',\n",
       " '1e202afa71864a9da0170edf8006c503',\n",
       " 'aeecd936d0d648fdadc6d3de2ea75779',\n",
       " '2acc6d60ccee4709b21074021566e44c',\n",
       " 'bf8b8367d9b848b3ab64c774aae96946',\n",
       " '117ebe8c64a94b5cbfe127349f18b01c',\n",
       " 'f81c8c22b7d9495fa7463be4ceb6a58a',\n",
       " '6a0696f5dd924306bf78bb07fe4c1035',\n",
       " 'dff15943160644669cdff0eca6310651',\n",
       " '8b0125fac0fc43ce9d329b628896d1cf',\n",
       " '966ee0969a18499db6a4d729bad175c4',\n",
       " 'e54b9c80395d418f87631036289afe81',\n",
       " '25b16598bf024b2288d8f5d9e616d5b6',\n",
       " '560e9343d6e843a4819b094bb51facb7',\n",
       " 'e985c57b5ec74db9ad7ec861d54b1550',\n",
       " '2f960a45d0c945b9ac911cadba5e1e07',\n",
       " 'a9eaafdc63cf4dc58e5cd30306114c84',\n",
       " 'cb325e8cf41d45ddb25c67ca80707929',\n",
       " '0bdb7f9db6bd498c8f2cd20779ff0552',\n",
       " '06dcbc241d4c4e648a52d3d9b91da773',\n",
       " '7d41fff4bc82444ba88dc231c3a0d4eb',\n",
       " '4a48d737150440f59a0dac57f4742645',\n",
       " '6d02b95766df4fd19d0d8bfda169545f',\n",
       " '02abc2bc12f94a87af28b0c67a7f09a8',\n",
       " '275981c6ee84487886714e17bd739c73',\n",
       " '4505c1cdef244ee7ac526e5ad517e51f',\n",
       " 'f89186c3a53f476491328db128967209',\n",
       " 'efd4b1828c744bfab4936489c234e05e',\n",
       " '4688d700d3514bc9a101b8c674ddffab',\n",
       " 'fcb4c9961bc44e3996257209adc32e21']"
      ]
     },
     "execution_count": 100,
     "metadata": {},
     "output_type": "execute_result"
    }
   ],
   "source": [
    "vstore.add_documents(docs)"
   ]
  },
  {
   "cell_type": "code",
   "execution_count": 101,
   "metadata": {},
   "outputs": [],
   "source": [
    "retriever = vstore.as_retriever(search_kwargs={\"k\": 20})"
   ]
  },
  {
   "cell_type": "code",
   "execution_count": 102,
   "metadata": {},
   "outputs": [
    {
     "data": {
      "text/plain": [
       "[Document(page_content='cards/sapphire/preferred?CELL=6PH3  \\n• Keywords:  premier  rewards, maximum rewards , unlimited rewards , points credit card, \\nconcierge service , unlimited rewards , top rewards  \\n5. Evolve Blue Cash Card  \\n• Credit Type : Credit Card  \\n• Product ID: CR00 5  \\n• Annual Fee : $99 \\n• APR : 18.5% to 29.99%  \\n• Credit Score Requirement : High  \\n• Benefits : \\no Dining Benefit: 1% cashback ($0.01 per dollar spent)  \\no Gas Benefit : 1% cashback ($0.01 per dollar spent)  \\no Travel Benefit: 1% cashback ($0.01 per dollar spent)  \\no Grocery Benefit : 6% cashback  ($0.06 per dollar spent)  \\no All Other Purchases Benefit : 1% cashback ($0.01 per dollar spent)  \\no Miscellaneous Purchases Benefit : 1% cashback ($0.01 per dollar spent)  \\n• Sign -Up Bonus Offer:  Card opening bonus with 30,000 points if card member spends \\n$3000 in first 3 months.  \\n• Total Benefit : $0.03 per dollar spent.  \\n• Miscellaneous Information : 0% Apr on purchases for first 12 months and balance'),\n",
       " Document(page_content='• Link : https://creditcards.chase.com/rewards -credit -\\ncards/sapphire/preferred?CELL=6PH3  \\n• Keywords:  premier  rewards, maximum rewards , unlimited rewards , points credit card, \\nconcierge service , unlimited rewards , top rewards  \\n5. Evolve Blue Cash Card  \\n• Credit Type : Credit Card  \\n• Product ID: CR00 5  \\n• Annual Fee : $99 \\n• APR : 18.5% to 29.99%  \\n• Credit Score Requirement : High  \\n• Benefits : \\no Dining Benefit: 1% cashback ($0.01 per dollar spent)  \\no Gas Benefit : 1% cashback ($0.01 per dollar spent)  \\no Travel Benefit: 1% cashback ($0.01 per dollar spent)  \\no Grocery Benefit : 6% cashback  ($0.06 per dollar spent)  \\no All Other Purchases Benefit : 1% cashback ($0.01 per dollar spent)  \\no Miscellaneous Purchases Benefit : 1% cashback ($0.01 per dollar spent)  \\n• Sign -Up Bonus Offer:  Card opening bonus with 30,000 points if card member spends \\n$3000 in first 3 months.  \\n• Total Benefit : $0.03 per dollar spent.'),\n",
       " Document(page_content='preferred  \\n• Keywords:  Grocery Benefit , supermarket , food shopping , health food , deli, dairy , \\nbakery , fresh produce , online Grocery Benefit , farmers market , convenience store  \\n6. Evolve Renovation Card  \\n• Credit Type : Credit Card  \\n• Product ID: CR00 6  \\n• Annual Fee : Not applicable . \\n• APR : 18% to 29.99%  \\n• Credit Score Requirement : Medium  \\n• Benefits : \\no Dining Benefit: 1% cashback ($0.01 per dollar spent)  \\no Gas Benefit : 1% cashback ($0.01 per dollar spent)  o Travel Benefit: 1% cashback ($0.01 per dollar spent)  \\no Grocery Benefit : 1% cashback ($0.01 per dollar spent)  \\no All Other Purchases Benefit : 1% cashback ($0.01 per dollar spent)  \\no Home Improvement : 3% cashback ($0.0 3 per dollar spent)  \\n• Sign -Up Bonus Offer:  Enjoy an interest -free promotion for up to 36 months on \\npurchases over $1,500.  \\n• Total Benefit : $0.015 per dollar spent.  \\n• Miscellaneous Information : 0% Apr on purchases for first 12 months and balance'),\n",
       " Document(page_content='o All Other Purchases Benefit : 1.5% cashback ($0.015 per dollar spent)  o Miscellaneous Purchases Benefit : 1.5% cashback ($0.015 per dollar spent)  \\n• Sign -Up Bonus Offer:  Card opening bonus with 15,000 points if card member spends \\n$1000 in first 3 months.  \\n• Total Benefit : $0.02 per dollar spent.  \\n• Miscellaneous Information : 0% Apr on purchases for first 12 months and balance \\ntransfer and 2 % intro balance transfer fee until Aug31,2024  \\n• Link : https://creditcards.chase.com/rewards -credit -\\ncards/sapphire/preferred?CELL=6PH3  \\n• Keywords:  premier  rewards, maximum rewards , unlimited rewards , points credit card, \\nconcierge service , unlimited rewards , top rewards  \\n5. Evolve Blue Cash Card  \\n• Credit Type : Credit Card  \\n• Product ID: CR00 5  \\n• Annual Fee : $99 \\n• APR : 18.5% to 29.99%  \\n• Credit Score Requirement : High  \\n• Benefits : \\no Dining Benefit: 1% cashback ($0.01 per dollar spent)  \\no Gas Benefit : 1% cashback ($0.01 per dollar spent)'),\n",
       " Document(page_content='• Link:  https://www.nerdwallet.com/reviews/credit -cards/american -express -blue -cash -\\npreferred  \\n• Keywords:  Grocery Benefit , supermarket , food shopping , health food , deli, dairy , \\nbakery , fresh produce , online Grocery Benefit , farmers market , convenience store  \\n6. Evolve Renovation Card  \\n• Credit Type : Credit Card  \\n• Product ID: CR00 6  \\n• Annual Fee : Not applicable . \\n• APR : 18% to 29.99%  \\n• Credit Score Requirement : Medium  \\n• Benefits : \\no Dining Benefit: 1% cashback ($0.01 per dollar spent)  \\no Gas Benefit : 1% cashback ($0.01 per dollar spent)  o Travel Benefit: 1% cashback ($0.01 per dollar spent)  \\no Grocery Benefit : 1% cashback ($0.01 per dollar spent)  \\no All Other Purchases Benefit : 1% cashback ($0.01 per dollar spent)  \\no Home Improvement : 3% cashback ($0.0 3 per dollar spent)  \\n• Sign -Up Bonus Offer:  Enjoy an interest -free promotion for up to 36 months on \\npurchases over $1,500.  \\n• Total Benefit : $0.015 per dollar spent.'),\n",
       " Document(page_content='• Keyword s: Cash back credit card , cashback bonus,  earn cashback , Restaurants, Cuisine,  \\nCafé, Food and Beverage, Dinner , Lunch  \\n2. Evolve Travel Plus Card  \\n• Credit Type : Credit Card  \\n• Product ID: CR00 2  \\n• Annual Fee : $99 \\n• APR : 19% to 29.99%  \\n• Credit Score Requirement : Medium to High  \\n• Benefits : \\no Dining Benefit: 1% cashback ($0.01 per dollar spent)  \\no Gas Benefit : 1% cashback ($0.01 per dollar spent)  \\no Travel Benefit: 3% cashback ($0.0 3 per dollar spent)  \\no Grocery Benefit : 1% cashback ($0.01 per dollar spent)  \\no All Other Purchases Benefit : 1% cashback ($0.01 per dollar spent)  \\no Miscellaneous Purchases Benefit : 1% cashback ($0.01 per dollar spent)  \\n• Sign -Up Bonus Offer:  Earn 50,000 points (equivalent to $500) if you spend $4,000 in \\nthe first 3 months.  \\n• Total Benefit : $0.0 25 per dollar spent.  • Miscellaneous Information : 0% Apr on purchases for first 12 months and balance \\ntransfer and 2 % intro balance transfer fee until Aug31,2024.'),\n",
       " Document(page_content='concierge service , unlimited rewards , top rewards  \\n5. Evolve Blue Cash Card  \\n• Credit Type : Credit Card  \\n• Product ID: CR00 5  \\n• Annual Fee : $99 \\n• APR : 18.5% to 29.99%  \\n• Credit Score Requirement : High  \\n• Benefits : \\no Dining Benefit: 1% cashback ($0.01 per dollar spent)  \\no Gas Benefit : 1% cashback ($0.01 per dollar spent)  \\no Travel Benefit: 1% cashback ($0.01 per dollar spent)  \\no Grocery Benefit : 6% cashback  ($0.06 per dollar spent)  \\no All Other Purchases Benefit : 1% cashback ($0.01 per dollar spent)  \\no Miscellaneous Purchases Benefit : 1% cashback ($0.01 per dollar spent)  \\n• Sign -Up Bonus Offer:  Card opening bonus with 30,000 points if card member spends \\n$3000 in first 3 months.  \\n• Total Benefit : $0.03 per dollar spent.  \\n• Miscellaneous Information : 0% Apr on purchases for first 12 months and balance \\ntransfer and 2 % intro balance transfer fee until Aug31,  2024.'),\n",
       " Document(page_content='o Miscellaneous Purchases Benefit : 5% cashback ($0.05 per dollar spent)  on \\nrevolving categories every quarter.  \\n• Sign -Up Bonus Offer:  No benefit  \\n• Total Benefit : $0.01 2 per dollar spent.  \\n• Miscellaneous Information : 0% intro APR for 15 months on purchases and balance \\ntransfers and 3% intro Balance Transfer Fee until October 10,2024. 5% balance transfer \\nfee for future balance transfers will apply.  \\n• Link:  https://www.nerdwallet.com/reviews/credit -cards/discover -it-cash -back \\n• Keyword s: Cash back credit card , cashback bonus,  earn cashback , Restaurants, Cuisine,  \\nCafé, Food and Beverage, Dinner , Lunch  \\n2. Evolve Travel Plus Card  \\n• Credit Type : Credit Card  \\n• Product ID: CR00 2  \\n• Annual Fee : $99 \\n• APR : 19% to 29.99%  \\n• Credit Score Requirement : Medium to High  \\n• Benefits : \\no Dining Benefit: 1% cashback ($0.01 per dollar spent)  \\no Gas Benefit : 1% cashback ($0.01 per dollar spent)  \\no Travel Benefit: 3% cashback ($0.0 3 per dollar spent)'),\n",
       " Document(page_content='o Dining Benefit: 1% cashback ($0.01 per dollar spent)  \\no Gas Benefit : 1% cashback ($0.01 per dollar spent)  \\no Travel Benefit: 1% cashback ($0.01 per dollar spent)  \\no Grocery Benefit : 6% cashback  ($0.06 per dollar spent)  \\no All Other Purchases Benefit : 1% cashback ($0.01 per dollar spent)  \\no Miscellaneous Purchases Benefit : 1% cashback ($0.01 per dollar spent)  \\n• Sign -Up Bonus Offer:  Card opening bonus with 30,000 points if card member spends \\n$3000 in first 3 months.  \\n• Total Benefit : $0.03 per dollar spent.  \\n• Miscellaneous Information : 0% Apr on purchases for first 12 months and balance \\ntransfer and 2 % intro balance transfer fee until Aug31,  2024.  \\n• Link:  https://www.nerdwallet.com/reviews/credit -cards/american -express -blue -cash -\\npreferred  \\n• Keywords:  Grocery Benefit , supermarket , food shopping , health food , deli, dairy , \\nbakery , fresh produce , online Grocery Benefit , farmers market , convenience store  \\n6. Evolve Renovation Card'),\n",
       " Document(page_content='o Miscellaneous Purchases Benefit : 1% cashback ($0.01 per dollar sp ent) \\n• Sign -Up Bonus Offer:  No benefit  \\n• Total Benefit : $0.0 15 per dollar spent.  \\n• Miscellaneous Information : \\n• Link : https://www.americanexpress.com/us/credit -cards/card/blue -cash -\\neveryday/?eep=26129&irgwc=1&veid=Qb00w8wYaxyKWukV3d34TXcdUkCzjF2ntXw7000&affid=\\n1193684&pid=IR&affname=NerdWallet%2C%20Inc.&sid=14011830016&pmc=795&BUID=CCG&\\nCRTV=controlaffcps&MPR=03  \\n• Keywords : fuel, fleet, trucking , Gas Benefit , diesel , Gas  \\n4. Evolve Platinum Card  \\n• Credit Type : Credit Card  \\n• Product ID: CR00 4  \\n• Annual Fee : Not applicable . \\n• APR : 18.5% to 29.99%  \\n• Credit Score Requirement : High  \\n• Benefits : \\no Dining Benefit: 1.5% cashback ($0.015 per dollar spent)  \\no Gas Benefit : 1.5% cashback ($0.015 per dollar spent)  \\no Travel Benefit: 1.5% cashback ($0.015 per dollar spent)  \\no Grocery Benefit : 1.5% cashback ($0.015 per dollar spent)'),\n",
       " Document(page_content='transfer and 2 % intro balance transfer fee until Aug31,2024  \\n• Link : https://creditcards.chase.com/rewards -credit -\\ncards/sapphire/preferred?CELL=6PH3  \\n• Keywords:  premier  rewards, maximum rewards , unlimited rewards , points credit card, \\nconcierge service , unlimited rewards , top rewards  \\n5. Evolve Blue Cash Card  \\n• Credit Type : Credit Card  \\n• Product ID: CR00 5  \\n• Annual Fee : $99 \\n• APR : 18.5% to 29.99%  \\n• Credit Score Requirement : High  \\n• Benefits : \\no Dining Benefit: 1% cashback ($0.01 per dollar spent)  \\no Gas Benefit : 1% cashback ($0.01 per dollar spent)  \\no Travel Benefit: 1% cashback ($0.01 per dollar spent)  \\no Grocery Benefit : 6% cashback  ($0.06 per dollar spent)  \\no All Other Purchases Benefit : 1% cashback ($0.01 per dollar spent)  \\no Miscellaneous Purchases Benefit : 1% cashback ($0.01 per dollar spent)  \\n• Sign -Up Bonus Offer:  Card opening bonus with 30,000 points if card member spends \\n$3000 in first 3 months.'),\n",
       " Document(page_content='o Gas Benefit : 1% cashback ($0.01 per dollar spent)  \\no Travel Benefit: 1% cashback ($0.01 per dollar spent)  \\no Grocery Benefit : 6% cashback  ($0.06 per dollar spent)  \\no All Other Purchases Benefit : 1% cashback ($0.01 per dollar spent)  \\no Miscellaneous Purchases Benefit : 1% cashback ($0.01 per dollar spent)  \\n• Sign -Up Bonus Offer:  Card opening bonus with 30,000 points if card member spends \\n$3000 in first 3 months.  \\n• Total Benefit : $0.03 per dollar spent.  \\n• Miscellaneous Information : 0% Apr on purchases for first 12 months and balance \\ntransfer and 2 % intro balance transfer fee until Aug31,  2024.  \\n• Link:  https://www.nerdwallet.com/reviews/credit -cards/american -express -blue -cash -\\npreferred  \\n• Keywords:  Grocery Benefit , supermarket , food shopping , health food , deli, dairy , \\nbakery , fresh produce , online Grocery Benefit , farmers market , convenience store  \\n6. Evolve Renovation Card  \\n• Credit Type : Credit Card  \\n• Product ID: CR00 6'),\n",
       " Document(page_content='• Total Benefit : $0.01 2 per dollar spent.  \\n• Miscellaneous Information : 0% intro APR for 15 months on purchases and balance \\ntransfers and 3% intro Balance Transfer Fee until October 10,2024. 5% balance transfer \\nfee for future balance transfers will apply.  \\n• Link:  https://www.nerdwallet.com/reviews/credit -cards/discover -it-cash -back \\n• Keyword s: Cash back credit card , cashback bonus,  earn cashback , Restaurants, Cuisine,  \\nCafé, Food and Beverage, Dinner , Lunch  \\n2. Evolve Travel Plus Card  \\n• Credit Type : Credit Card  \\n• Product ID: CR00 2  \\n• Annual Fee : $99 \\n• APR : 19% to 29.99%  \\n• Credit Score Requirement : Medium to High  \\n• Benefits : \\no Dining Benefit: 1% cashback ($0.01 per dollar spent)  \\no Gas Benefit : 1% cashback ($0.01 per dollar spent)  \\no Travel Benefit: 3% cashback ($0.0 3 per dollar spent)  \\no Grocery Benefit : 1% cashback ($0.01 per dollar spent)  \\no All Other Purchases Benefit : 1% cashback ($0.01 per dollar spent)'),\n",
       " Document(page_content='o Dining Benefit: 1.5% cashback ($0.015 per dollar spent)  \\no Gas Benefit : 1.5% cashback ($0.015 per dollar spent)  \\no Travel Benefit: 1.5% cashback ($0.015 per dollar spent)  \\no Grocery Benefit : 1.5% cashback ($0.015 per dollar spent)  \\no All Other Purchases Benefit : 1.5% cashback ($0.015 per dollar spent)  o Miscellaneous Purchases Benefit : 1.5% cashback ($0.015 per dollar spent)  \\n• Sign -Up Bonus Offer:  Card opening bonus with 15,000 points if card member spends \\n$1000 in first 3 months.  \\n• Total Benefit : $0.02 per dollar spent.  \\n• Miscellaneous Information : 0% Apr on purchases for first 12 months and balance \\ntransfer and 2 % intro balance transfer fee until Aug31,2024  \\n• Link : https://creditcards.chase.com/rewards -credit -\\ncards/sapphire/preferred?CELL=6PH3  \\n• Keywords:  premier  rewards, maximum rewards , unlimited rewards , points credit card, \\nconcierge service , unlimited rewards , top rewards  \\n5. Evolve Blue Cash Card  \\n• Credit Type : Credit Card'),\n",
       " Document(page_content='o Travel Benefit: 1% cashback ($0.01 per dollar spent)  \\no Grocery Benefit : 6% cashback  ($0.06 per dollar spent)  \\no All Other Purchases Benefit : 1% cashback ($0.01 per dollar spent)  \\no Miscellaneous Purchases Benefit : 1% cashback ($0.01 per dollar spent)  \\n• Sign -Up Bonus Offer:  Card opening bonus with 30,000 points if card member spends \\n$3000 in first 3 months.  \\n• Total Benefit : $0.03 per dollar spent.  \\n• Miscellaneous Information : 0% Apr on purchases for first 12 months and balance \\ntransfer and 2 % intro balance transfer fee until Aug31,  2024.  \\n• Link:  https://www.nerdwallet.com/reviews/credit -cards/american -express -blue -cash -\\npreferred  \\n• Keywords:  Grocery Benefit , supermarket , food shopping , health food , deli, dairy , \\nbakery , fresh produce , online Grocery Benefit , farmers market , convenience store  \\n6. Evolve Renovation Card  \\n• Credit Type : Credit Card  \\n• Product ID: CR00 6  \\n• Annual Fee : Not applicable . \\n• APR : 18% to 29.99%'),\n",
       " Document(page_content='• Sign -Up Bonus Offer:  Card opening bonus with 15,000 points if card member spends \\n$1000 in first 3 months.  \\n• Total Benefit : $0.02 per dollar spent.  \\n• Miscellaneous Information : 0% Apr on purchases for first 12 months and balance \\ntransfer and 2 % intro balance transfer fee until Aug31,2024  \\n• Link : https://creditcards.chase.com/rewards -credit -\\ncards/sapphire/preferred?CELL=6PH3  \\n• Keywords:  premier  rewards, maximum rewards , unlimited rewards , points credit card, \\nconcierge service , unlimited rewards , top rewards  \\n5. Evolve Blue Cash Card  \\n• Credit Type : Credit Card  \\n• Product ID: CR00 5  \\n• Annual Fee : $99 \\n• APR : 18.5% to 29.99%  \\n• Credit Score Requirement : High  \\n• Benefits : \\no Dining Benefit: 1% cashback ($0.01 per dollar spent)  \\no Gas Benefit : 1% cashback ($0.01 per dollar spent)  \\no Travel Benefit: 1% cashback ($0.01 per dollar spent)  \\no Grocery Benefit : 6% cashback  ($0.06 per dollar spent)'),\n",
       " Document(page_content='• Link : https://www.americanexpress.com/us/credit -cards/card/blue -cash -\\neveryday/?eep=26129&irgwc=1&veid=Qb00w8wYaxyKWukV3d34TXcdUkCzjF2ntXw7000&affid=\\n1193684&pid=IR&affname=NerdWallet%2C%20Inc.&sid=14011830016&pmc=795&BUID=CCG&\\nCRTV=controlaffcps&MPR=03  \\n• Keywords : fuel, fleet, trucking , Gas Benefit , diesel , Gas  \\n4. Evolve Platinum Card  \\n• Credit Type : Credit Card  \\n• Product ID: CR00 4  \\n• Annual Fee : Not applicable . \\n• APR : 18.5% to 29.99%  \\n• Credit Score Requirement : High  \\n• Benefits : \\no Dining Benefit: 1.5% cashback ($0.015 per dollar spent)  \\no Gas Benefit : 1.5% cashback ($0.015 per dollar spent)  \\no Travel Benefit: 1.5% cashback ($0.015 per dollar spent)  \\no Grocery Benefit : 1.5% cashback ($0.015 per dollar spent)  \\no All Other Purchases Benefit : 1.5% cashback ($0.015 per dollar spent)  o Miscellaneous Purchases Benefit : 1.5% cashback ($0.015 per dollar spent)  \\n• Sign -Up Bonus Offer:  Card opening bonus with 15,000 points if card member spends'),\n",
       " Document(page_content='o Grocery Benefit : 1% cashback ($0.01 per dollar spent)  \\no All Other Purchases Benefit : 1% cashback ($0.01  per dollar spent)  \\no Miscellaneous Purchases Benefit : 5% cashback ($0.05 per dollar spent)  on \\nrevolving categories every quarter.  \\n• Sign -Up Bonus Offer:  No benefit  \\n• Total Benefit : $0.01 2 per dollar spent.  \\n• Miscellaneous Information : 0% intro APR for 15 months on purchases and balance \\ntransfers and 3% intro Balance Transfer Fee until October 10,2024. 5% balance transfer \\nfee for future balance transfers will apply.  \\n• Link:  https://www.nerdwallet.com/reviews/credit -cards/discover -it-cash -back \\n• Keyword s: Cash back credit card , cashback bonus,  earn cashback , Restaurants, Cuisine,  \\nCafé, Food and Beverage, Dinner , Lunch  \\n2. Evolve Travel Plus Card  \\n• Credit Type : Credit Card  \\n• Product ID: CR00 2  \\n• Annual Fee : $99 \\n• APR : 19% to 29.99%  \\n• Credit Score Requirement : Medium to High  \\n• Benefits :'),\n",
       " Document(page_content='o Grocery Benefit : 6% cashback  ($0.06 per dollar spent)  \\no All Other Purchases Benefit : 1% cashback ($0.01 per dollar spent)  \\no Miscellaneous Purchases Benefit : 1% cashback ($0.01 per dollar spent)  \\n• Sign -Up Bonus Offer:  Card opening bonus with 30,000 points if card member spends \\n$3000 in first 3 months.  \\n• Total Benefit : $0.03 per dollar spent.  \\n• Miscellaneous Information : 0% Apr on purchases for first 12 months and balance \\ntransfer and 2 % intro balance transfer fee until Aug31,  2024.  \\n• Link:  https://www.nerdwallet.com/reviews/credit -cards/american -express -blue -cash -\\npreferred  \\n• Keywords:  Grocery Benefit , supermarket , food shopping , health food , deli, dairy , \\nbakery , fresh produce , online Grocery Benefit , farmers market , convenience store  \\n6. Evolve Renovation Card  \\n• Credit Type : Credit Card  \\n• Product ID: CR00 6  \\n• Annual Fee : Not applicable . \\n• APR : 18% to 29.99%  \\n• Credit Score Requirement : Medium  \\n• Benefits :'),\n",
       " Document(page_content='• Miscellaneous Information : 0% Apr on purchases for first 12 months and balance \\ntransfer and 2 % intro balance transfer fee until Aug31,  2024.  \\n• Link:  https://www.nerdwallet.com/reviews/credit -cards/american -express -blue -cash -\\npreferred  \\n• Keywords:  Grocery Benefit , supermarket , food shopping , health food , deli, dairy , \\nbakery , fresh produce , online Grocery Benefit , farmers market , convenience store  \\n6. Evolve Renovation Card  \\n• Credit Type : Credit Card  \\n• Product ID: CR00 6  \\n• Annual Fee : Not applicable . \\n• APR : 18% to 29.99%  \\n• Credit Score Requirement : Medium  \\n• Benefits : \\no Dining Benefit: 1% cashback ($0.01 per dollar spent)  \\no Gas Benefit : 1% cashback ($0.01 per dollar spent)  o Travel Benefit: 1% cashback ($0.01 per dollar spent)  \\no Grocery Benefit : 1% cashback ($0.01 per dollar spent)  \\no All Other Purchases Benefit : 1% cashback ($0.01 per dollar spent)  \\no Home Improvement : 3% cashback ($0.0 3 per dollar spent)')]"
      ]
     },
     "execution_count": 102,
     "metadata": {},
     "output_type": "execute_result"
    }
   ],
   "source": [
    "retriever.get_relevant_documents(\"List down all distinct card name?\")"
   ]
  },
  {
   "cell_type": "code",
   "execution_count": 71,
   "metadata": {},
   "outputs": [],
   "source": [
    "PRODUCT_BOT_TEMPLATE = \"\"\"\n",
    "    Your finance bot is an expert in credit card related advice.\n",
    "    Ensure your answers are relevant to the query context and refrain from straying off-topic.\n",
    "    Your responses should be concise and informative. Suggest only Evolve card, also inlude Link when suggesting Card.\n",
    "  \n",
    "\n",
    "\n",
    "    CONTEXT:\n",
    "    {context}\n",
    "\n",
    "    QUESTION: {question}\n",
    "\n",
    "    YOUR ANSWER:\n",
    "    \n",
    "    \"\"\""
   ]
  },
  {
   "cell_type": "code",
   "execution_count": 72,
   "metadata": {},
   "outputs": [],
   "source": [
    "from langchain_core.prompts import ChatPromptTemplate"
   ]
  },
  {
   "cell_type": "code",
   "execution_count": 166,
   "metadata": {},
   "outputs": [],
   "source": [
    "prompt = ChatPromptTemplate.from_template(PRODUCT_BOT_TEMPLATE)"
   ]
  },
  {
   "cell_type": "code",
   "execution_count": 167,
   "metadata": {},
   "outputs": [],
   "source": [
    "from langchain_openai import ChatOpenAI"
   ]
  },
  {
   "cell_type": "code",
   "execution_count": 168,
   "metadata": {},
   "outputs": [],
   "source": [
    "llm = ChatOpenAI()"
   ]
  },
  {
   "cell_type": "code",
   "execution_count": 169,
   "metadata": {},
   "outputs": [],
   "source": [
    "from langchain_core.runnables import RunnablePassthrough"
   ]
  },
  {
   "cell_type": "code",
   "execution_count": 170,
   "metadata": {},
   "outputs": [],
   "source": [
    "from langchain_core.output_parsers import StrOutputParser"
   ]
  },
  {
   "cell_type": "code",
   "execution_count": 171,
   "metadata": {},
   "outputs": [],
   "source": [
    "chain = (\n",
    "        {\"context\": retriever, \"question\": RunnablePassthrough()}\n",
    "        | prompt\n",
    "        | llm\n",
    "        | StrOutputParser()\n",
    "    )"
   ]
  },
  {
   "cell_type": "code",
   "execution_count": 172,
   "metadata": {},
   "outputs": [
    {
     "data": {
      "text/plain": [
       "'I recommend the Evolve Blue Cash Card for restaurant purchases. You can find more information and apply for the card through this link: [Evolve Blue Cash Card](https://www.nerdwallet.com/reviews/credit-cards/american-express-blue-cash-preferred)'"
      ]
     },
     "execution_count": 172,
     "metadata": {},
     "output_type": "execute_result"
    }
   ],
   "source": [
    "chain.invoke(\"Please suggest best restaurant card\")"
   ]
  },
  {
   "cell_type": "markdown",
   "metadata": {},
   "source": []
  },
  {
   "cell_type": "code",
   "execution_count": null,
   "metadata": {},
   "outputs": [],
   "source": []
  }
 ],
 "metadata": {
  "kernelspec": {
   "display_name": "Python 3",
   "language": "python",
   "name": "python3"
  },
  "language_info": {
   "codemirror_mode": {
    "name": "ipython",
    "version": 3
   },
   "file_extension": ".py",
   "mimetype": "text/x-python",
   "name": "python",
   "nbconvert_exporter": "python",
   "pygments_lexer": "ipython3",
   "version": "3.12.4"
  }
 },
 "nbformat": 4,
 "nbformat_minor": 2
}
